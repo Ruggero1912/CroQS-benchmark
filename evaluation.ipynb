{
 "cells": [
  {
   "cell_type": "markdown",
   "metadata": {},
   "source": [
    "# Evaluation of Cross-modal Query Suggestion methods on CroQS benchmark"
   ]
  },
  {
   "cell_type": "code",
   "execution_count": 1,
   "metadata": {},
   "outputs": [
    {
     "data": {
      "text/plain": [
       "True"
      ]
     },
     "execution_count": 1,
     "metadata": {},
     "output_type": "execute_result"
    }
   ],
   "source": [
    "device_str = \"cuda:0\"\n",
    "device_str_llm = device_str\n",
    "\n",
    "import os\n",
    "from dotenv import load_dotenv\n",
    "\n",
    "load_dotenv()"
   ]
  },
  {
   "cell_type": "code",
   "execution_count": 2,
   "metadata": {},
   "outputs": [
    {
     "name": "stdout",
     "output_type": "stream",
     "text": [
      "File ./dump.json not found\n",
      "No self.queries dict object loaded from disk, creating new empty dict\n"
     ]
    }
   ],
   "source": [
    "from lib.CroQS import CroQS\n",
    "\n",
    "croQS_json_path = \"./CroQS_Benchmark_v1.0.0.json\"\n",
    "croQS = CroQS(croQS_json_path)\n",
    "device = \"cuda:0\"\n",
    "hdf5_file_path = os.getenv(\"HDF5_INDEX_FILE_PATH\")\n",
    "croQS.evaluation_init(hdf5_file_path, device)"
   ]
  },
  {
   "cell_type": "code",
   "execution_count": 3,
   "metadata": {},
   "outputs": [
    {
     "data": {
      "text/plain": [
       "50"
      ]
     },
     "execution_count": 3,
     "metadata": {},
     "output_type": "execute_result"
    }
   ],
   "source": [
    "len(croQS.list_queries())"
   ]
  },
  {
   "cell_type": "code",
   "execution_count": 4,
   "metadata": {},
   "outputs": [],
   "source": [
    "from lib.methodsLoader import get_qe_methods_dict, add_method_to_dict\n",
    "\n",
    "qe_methods_names = [\n",
    "    'initial-query',\n",
    "    #'clipcap-on-centroids', \n",
    "    #'decap-on-centroids', \n",
    "    ##'clipcap-query_set-of-embeddings', \n",
    "    #'decap-on-representatives', \n",
    "    #'clipcap-on-representatives',\n",
    "    #'clipcap-prompting-on-centroids',\n",
    "    #'clipcap-prompting-on-representatives',\n",
    "    ]"
   ]
  },
  {
   "cell_type": "code",
   "execution_count": 36,
   "metadata": {},
   "outputs": [],
   "source": [
    "def load_qe_dict(ir_system, load_group_cap : bool = False):\n",
    "    from lib.methods.decap.Im2TxtProjection import Im2TxtProjector, ProjectionType\n",
    "    from lib.methods.decap.DecapQueryExpansion import DeCapQueryExpansion\n",
    "    from lib.methods.decap.decap import get_decap_model\n",
    "    from lib.methods.groupcap.model import GroupCapLLM, LLMBasePrompts, ImageCaptioningMethods, LLMTypes\n",
    "\n",
    "    decap_qe = DeCapQueryExpansion.load_object(device_str, 'coco')\n",
    "    assert isinstance(decap_qe, DeCapQueryExpansion)\n",
    "    decap_qe.im2txt.ir_system = ir_system\n",
    "    qe_dict = get_qe_methods_dict(methods_keys=qe_methods_names, decap_qe=decap_qe, device=device_str)\n",
    "\n",
    "    GC_TYPE = \"llama3-8b\" # \"gemma2-2b\" # \"llama3-8b\", \"mistral7b\"\n",
    "\n",
    "    if load_group_cap:\n",
    "\n",
    "        if GC_TYPE == \"gemma2b\":\n",
    "            llm_type = LLMTypes.Gemma2b_IT\n",
    "        elif GC_TYPE == \"gemma2-2b\":\n",
    "            llm_type = LLMTypes.Gemma2_2b\n",
    "        elif GC_TYPE == \"mistral7b\":\n",
    "            llm_type = LLMTypes.Mistral7b_IT\n",
    "        elif GC_TYPE == \"llama3-8b\":\n",
    "            llm_type = LLMTypes.LLama3_8b_IT\n",
    "        else:\n",
    "            print(f\"Using default LLM - LLama3-8b\")\n",
    "            GC_TYPE = \"llama3-8b\"\n",
    "            llm_type = LLMTypes.LLama3_8b_IT\n",
    "\n",
    "        group_cap_obj = GroupCapLLM(ImageCaptioningMethods.decap, decap_qe.get_generated_captions, llm_type, device_map=device_str_llm, image_captioning_method_device=device_str)\n",
    "        \n",
    "        prompts_dict = GroupCapLLM.get_prompts_dict()\n",
    "\n",
    "        group_cap_obj.qe_prompt = prompts_dict['query-expansion']['qe-few-shot-4']\n",
    "        qe_dict = add_method_to_dict(qe_dict, f'groupcap-{GC_TYPE}-qe-few-shot-4', group_cap_obj.generate_expanded_query, wants_query=True, method_group_name=\"img-embeddings-whole-cluster\")\n",
    "\n",
    "    return qe_dict\n",
    "\n",
    "qe_dict = load_qe_dict(croQS.ir_system, True)"
   ]
  },
  {
   "cell_type": "code",
   "execution_count": 38,
   "metadata": {},
   "outputs": [
    {
     "name": "stdout",
     "output_type": "stream",
     "text": [
      "Loading already existing qs for the method 'initial-query'"
     ]
    },
    {
     "name": "stderr",
     "output_type": "stream",
     "text": [
      "Setting `pad_token_id` to `eos_token_id`:128001 for open-end generation.\n"
     ]
    },
    {
     "name": "stdout",
     "output_type": "stream",
     "text": [
      "Computing scores for cluster '0' of query = 'italy'\n",
      "Loading already existing qs for the method 'initial-query'"
     ]
    },
    {
     "name": "stderr",
     "output_type": "stream",
     "text": [
      "Setting `pad_token_id` to `eos_token_id`:128001 for open-end generation.\n"
     ]
    },
    {
     "name": "stdout",
     "output_type": "stream",
     "text": [
      "Computing scores for cluster '1' of query = 'italy'\n",
      "Loading already existing qs for the method 'initial-query'"
     ]
    },
    {
     "name": "stderr",
     "output_type": "stream",
     "text": [
      "Setting `pad_token_id` to `eos_token_id`:128001 for open-end generation.\n"
     ]
    },
    {
     "name": "stdout",
     "output_type": "stream",
     "text": [
      "Computing scores for cluster '2' of query = 'italy'\n",
      "Loading already existing qs for the method 'initial-query'"
     ]
    },
    {
     "name": "stderr",
     "output_type": "stream",
     "text": [
      "Setting `pad_token_id` to `eos_token_id`:128001 for open-end generation.\n"
     ]
    },
    {
     "name": "stdout",
     "output_type": "stream",
     "text": [
      "Computing scores for cluster '3' of query = 'italy'\n",
      "Loading already existing qs for the method 'initial-query'"
     ]
    },
    {
     "name": "stderr",
     "output_type": "stream",
     "text": [
      "Setting `pad_token_id` to `eos_token_id`:128001 for open-end generation.\n"
     ]
    },
    {
     "name": "stdout",
     "output_type": "stream",
     "text": [
      "Computing scores for cluster '4' of query = 'italy'\n"
     ]
    },
    {
     "data": {
      "text/html": [
       "<div>\n",
       "<style scoped>\n",
       "    .dataframe tbody tr th:only-of-type {\n",
       "        vertical-align: middle;\n",
       "    }\n",
       "\n",
       "    .dataframe tbody tr th {\n",
       "        vertical-align: top;\n",
       "    }\n",
       "\n",
       "    .dataframe thead th {\n",
       "        text-align: right;\n",
       "    }\n",
       "</style>\n",
       "<table border=\"1\" class=\"dataframe\">\n",
       "  <thead>\n",
       "    <tr style=\"text-align: right;\">\n",
       "      <th></th>\n",
       "      <th>query</th>\n",
       "      <th>cluster</th>\n",
       "      <th>method</th>\n",
       "      <th>suggested-query</th>\n",
       "      <th>jaccard-q</th>\n",
       "      <th>clip-similarity-cluster</th>\n",
       "      <th>clip-similarity-q</th>\n",
       "      <th>NDCG@10</th>\n",
       "      <th>MAP</th>\n",
       "      <th>Recall-Open-Set-@100</th>\n",
       "      <th>Recall-Closed-Set</th>\n",
       "    </tr>\n",
       "  </thead>\n",
       "  <tbody>\n",
       "    <tr>\n",
       "      <th>0</th>\n",
       "      <td>italy</td>\n",
       "      <td>0</td>\n",
       "      <td>initial-query</td>\n",
       "      <td>italy</td>\n",
       "      <td>1.000</td>\n",
       "      <td>0.264</td>\n",
       "      <td>1.000</td>\n",
       "      <td>0.129875</td>\n",
       "      <td>0.215520</td>\n",
       "      <td>0.527778</td>\n",
       "      <td>0.222222</td>\n",
       "    </tr>\n",
       "    <tr>\n",
       "      <th>1</th>\n",
       "      <td>italy</td>\n",
       "      <td>0</td>\n",
       "      <td>groupcap-llama3-8b-qe-few-shot-2</td>\n",
       "      <td>Italy</td>\n",
       "      <td>1.000</td>\n",
       "      <td>0.264</td>\n",
       "      <td>1.000</td>\n",
       "      <td>0.129875</td>\n",
       "      <td>0.215520</td>\n",
       "      <td>0.527778</td>\n",
       "      <td>0.222222</td>\n",
       "    </tr>\n",
       "    <tr>\n",
       "      <th>2</th>\n",
       "      <td>italy</td>\n",
       "      <td>0</td>\n",
       "      <td>human</td>\n",
       "      <td>italy streets</td>\n",
       "      <td>0.500</td>\n",
       "      <td>0.286</td>\n",
       "      <td>0.904</td>\n",
       "      <td>0.870125</td>\n",
       "      <td>0.724558</td>\n",
       "      <td>0.861111</td>\n",
       "      <td>0.833333</td>\n",
       "    </tr>\n",
       "    <tr>\n",
       "      <th>3</th>\n",
       "      <td>italy</td>\n",
       "      <td>0</td>\n",
       "      <td>groupcap-llama3-8b-qe-few-shot-3</td>\n",
       "      <td>italy</td>\n",
       "      <td>1.000</td>\n",
       "      <td>0.264</td>\n",
       "      <td>1.000</td>\n",
       "      <td>0.129875</td>\n",
       "      <td>0.215520</td>\n",
       "      <td>0.527778</td>\n",
       "      <td>0.222222</td>\n",
       "    </tr>\n",
       "    <tr>\n",
       "      <th>4</th>\n",
       "      <td>italy</td>\n",
       "      <td>0</td>\n",
       "      <td>groupcap-llama3-8b-qe-few-shot-4</td>\n",
       "      <td>Italy</td>\n",
       "      <td>1.000</td>\n",
       "      <td>0.264</td>\n",
       "      <td>1.000</td>\n",
       "      <td>0.129875</td>\n",
       "      <td>0.215520</td>\n",
       "      <td>0.527778</td>\n",
       "      <td>0.222222</td>\n",
       "    </tr>\n",
       "    <tr>\n",
       "      <th>5</th>\n",
       "      <td>italy</td>\n",
       "      <td>1</td>\n",
       "      <td>initial-query</td>\n",
       "      <td>italy</td>\n",
       "      <td>1.000</td>\n",
       "      <td>0.263</td>\n",
       "      <td>1.000</td>\n",
       "      <td>0.371854</td>\n",
       "      <td>0.347826</td>\n",
       "      <td>0.402439</td>\n",
       "      <td>0.292683</td>\n",
       "    </tr>\n",
       "    <tr>\n",
       "      <th>6</th>\n",
       "      <td>italy</td>\n",
       "      <td>1</td>\n",
       "      <td>groupcap-llama3-8b-qe-few-shot-2</td>\n",
       "      <td>italy</td>\n",
       "      <td>1.000</td>\n",
       "      <td>0.263</td>\n",
       "      <td>1.000</td>\n",
       "      <td>0.371854</td>\n",
       "      <td>0.347826</td>\n",
       "      <td>0.402439</td>\n",
       "      <td>0.292683</td>\n",
       "    </tr>\n",
       "    <tr>\n",
       "      <th>7</th>\n",
       "      <td>italy</td>\n",
       "      <td>1</td>\n",
       "      <td>human</td>\n",
       "      <td>italy pizza</td>\n",
       "      <td>0.500</td>\n",
       "      <td>0.310</td>\n",
       "      <td>0.878</td>\n",
       "      <td>0.921602</td>\n",
       "      <td>0.792000</td>\n",
       "      <td>0.743902</td>\n",
       "      <td>0.987805</td>\n",
       "    </tr>\n",
       "    <tr>\n",
       "      <th>8</th>\n",
       "      <td>italy</td>\n",
       "      <td>1</td>\n",
       "      <td>groupcap-llama3-8b-qe-few-shot-3</td>\n",
       "      <td>italy</td>\n",
       "      <td>1.000</td>\n",
       "      <td>0.263</td>\n",
       "      <td>1.000</td>\n",
       "      <td>0.371854</td>\n",
       "      <td>0.347826</td>\n",
       "      <td>0.402439</td>\n",
       "      <td>0.292683</td>\n",
       "    </tr>\n",
       "    <tr>\n",
       "      <th>9</th>\n",
       "      <td>italy</td>\n",
       "      <td>1</td>\n",
       "      <td>groupcap-llama3-8b-qe-few-shot-4</td>\n",
       "      <td>italy with pizza</td>\n",
       "      <td>0.500</td>\n",
       "      <td>0.306</td>\n",
       "      <td>0.873</td>\n",
       "      <td>0.694765</td>\n",
       "      <td>0.696532</td>\n",
       "      <td>0.658537</td>\n",
       "      <td>0.987805</td>\n",
       "    </tr>\n",
       "    <tr>\n",
       "      <th>10</th>\n",
       "      <td>italy</td>\n",
       "      <td>2</td>\n",
       "      <td>initial-query</td>\n",
       "      <td>italy</td>\n",
       "      <td>1.000</td>\n",
       "      <td>0.265</td>\n",
       "      <td>1.000</td>\n",
       "      <td>0.334051</td>\n",
       "      <td>0.270190</td>\n",
       "      <td>0.583333</td>\n",
       "      <td>0.194444</td>\n",
       "    </tr>\n",
       "    <tr>\n",
       "      <th>11</th>\n",
       "      <td>italy</td>\n",
       "      <td>2</td>\n",
       "      <td>groupcap-llama3-8b-qe-few-shot-2</td>\n",
       "      <td>italy</td>\n",
       "      <td>1.000</td>\n",
       "      <td>0.265</td>\n",
       "      <td>1.000</td>\n",
       "      <td>0.334051</td>\n",
       "      <td>0.270190</td>\n",
       "      <td>0.583333</td>\n",
       "      <td>0.194444</td>\n",
       "    </tr>\n",
       "    <tr>\n",
       "      <th>12</th>\n",
       "      <td>italy</td>\n",
       "      <td>2</td>\n",
       "      <td>human</td>\n",
       "      <td>Italy, boats, canals, historical city</td>\n",
       "      <td>0.200</td>\n",
       "      <td>0.282</td>\n",
       "      <td>0.837</td>\n",
       "      <td>1.000000</td>\n",
       "      <td>0.766753</td>\n",
       "      <td>0.694444</td>\n",
       "      <td>0.750000</td>\n",
       "    </tr>\n",
       "    <tr>\n",
       "      <th>13</th>\n",
       "      <td>italy</td>\n",
       "      <td>2</td>\n",
       "      <td>groupcap-llama3-8b-qe-few-shot-3</td>\n",
       "      <td>italy</td>\n",
       "      <td>1.000</td>\n",
       "      <td>0.265</td>\n",
       "      <td>1.000</td>\n",
       "      <td>0.334051</td>\n",
       "      <td>0.270190</td>\n",
       "      <td>0.583333</td>\n",
       "      <td>0.194444</td>\n",
       "    </tr>\n",
       "    <tr>\n",
       "      <th>14</th>\n",
       "      <td>italy</td>\n",
       "      <td>2</td>\n",
       "      <td>groupcap-llama3-8b-qe-few-shot-4</td>\n",
       "      <td>italy with boats</td>\n",
       "      <td>0.500</td>\n",
       "      <td>0.268</td>\n",
       "      <td>0.852</td>\n",
       "      <td>0.349487</td>\n",
       "      <td>0.392509</td>\n",
       "      <td>0.555556</td>\n",
       "      <td>0.638889</td>\n",
       "    </tr>\n",
       "    <tr>\n",
       "      <th>15</th>\n",
       "      <td>italy</td>\n",
       "      <td>3</td>\n",
       "      <td>initial-query</td>\n",
       "      <td>italy</td>\n",
       "      <td>1.000</td>\n",
       "      <td>0.264</td>\n",
       "      <td>1.000</td>\n",
       "      <td>0.094788</td>\n",
       "      <td>0.123989</td>\n",
       "      <td>0.600000</td>\n",
       "      <td>0.050000</td>\n",
       "    </tr>\n",
       "    <tr>\n",
       "      <th>16</th>\n",
       "      <td>italy</td>\n",
       "      <td>3</td>\n",
       "      <td>groupcap-llama3-8b-qe-few-shot-2</td>\n",
       "      <td>Italy</td>\n",
       "      <td>1.000</td>\n",
       "      <td>0.264</td>\n",
       "      <td>1.000</td>\n",
       "      <td>0.094788</td>\n",
       "      <td>0.123989</td>\n",
       "      <td>0.600000</td>\n",
       "      <td>0.050000</td>\n",
       "    </tr>\n",
       "    <tr>\n",
       "      <th>17</th>\n",
       "      <td>italy</td>\n",
       "      <td>3</td>\n",
       "      <td>human</td>\n",
       "      <td>italy summer landscape</td>\n",
       "      <td>0.333</td>\n",
       "      <td>0.253</td>\n",
       "      <td>0.864</td>\n",
       "      <td>0.248908</td>\n",
       "      <td>0.203904</td>\n",
       "      <td>0.550000</td>\n",
       "      <td>0.450000</td>\n",
       "    </tr>\n",
       "    <tr>\n",
       "      <th>18</th>\n",
       "      <td>italy</td>\n",
       "      <td>3</td>\n",
       "      <td>groupcap-llama3-8b-qe-few-shot-3</td>\n",
       "      <td>italy</td>\n",
       "      <td>1.000</td>\n",
       "      <td>0.264</td>\n",
       "      <td>1.000</td>\n",
       "      <td>0.094788</td>\n",
       "      <td>0.123989</td>\n",
       "      <td>0.600000</td>\n",
       "      <td>0.050000</td>\n",
       "    </tr>\n",
       "    <tr>\n",
       "      <th>19</th>\n",
       "      <td>italy</td>\n",
       "      <td>3</td>\n",
       "      <td>groupcap-llama3-8b-qe-few-shot-4</td>\n",
       "      <td>italy with beach</td>\n",
       "      <td>0.500</td>\n",
       "      <td>0.257</td>\n",
       "      <td>0.898</td>\n",
       "      <td>0.690476</td>\n",
       "      <td>0.588775</td>\n",
       "      <td>0.300000</td>\n",
       "      <td>0.350000</td>\n",
       "    </tr>\n",
       "    <tr>\n",
       "      <th>20</th>\n",
       "      <td>italy</td>\n",
       "      <td>4</td>\n",
       "      <td>initial-query</td>\n",
       "      <td>italy</td>\n",
       "      <td>1.000</td>\n",
       "      <td>0.265</td>\n",
       "      <td>1.000</td>\n",
       "      <td>0.069431</td>\n",
       "      <td>0.177779</td>\n",
       "      <td>0.576923</td>\n",
       "      <td>0.192308</td>\n",
       "    </tr>\n",
       "    <tr>\n",
       "      <th>21</th>\n",
       "      <td>italy</td>\n",
       "      <td>4</td>\n",
       "      <td>groupcap-llama3-8b-qe-few-shot-2</td>\n",
       "      <td>italy</td>\n",
       "      <td>1.000</td>\n",
       "      <td>0.265</td>\n",
       "      <td>1.000</td>\n",
       "      <td>0.069431</td>\n",
       "      <td>0.177779</td>\n",
       "      <td>0.576923</td>\n",
       "      <td>0.192308</td>\n",
       "    </tr>\n",
       "    <tr>\n",
       "      <th>22</th>\n",
       "      <td>italy</td>\n",
       "      <td>4</td>\n",
       "      <td>human</td>\n",
       "      <td>italy historical city center</td>\n",
       "      <td>0.250</td>\n",
       "      <td>0.286</td>\n",
       "      <td>0.901</td>\n",
       "      <td>0.851236</td>\n",
       "      <td>0.635680</td>\n",
       "      <td>0.961538</td>\n",
       "      <td>0.692308</td>\n",
       "    </tr>\n",
       "    <tr>\n",
       "      <th>23</th>\n",
       "      <td>italy</td>\n",
       "      <td>4</td>\n",
       "      <td>groupcap-llama3-8b-qe-few-shot-3</td>\n",
       "      <td>italy</td>\n",
       "      <td>1.000</td>\n",
       "      <td>0.265</td>\n",
       "      <td>1.000</td>\n",
       "      <td>0.069431</td>\n",
       "      <td>0.177779</td>\n",
       "      <td>0.576923</td>\n",
       "      <td>0.192308</td>\n",
       "    </tr>\n",
       "    <tr>\n",
       "      <th>24</th>\n",
       "      <td>italy</td>\n",
       "      <td>4</td>\n",
       "      <td>groupcap-llama3-8b-qe-few-shot-4</td>\n",
       "      <td>italy</td>\n",
       "      <td>1.000</td>\n",
       "      <td>0.265</td>\n",
       "      <td>1.000</td>\n",
       "      <td>0.069431</td>\n",
       "      <td>0.177779</td>\n",
       "      <td>0.576923</td>\n",
       "      <td>0.192308</td>\n",
       "    </tr>\n",
       "  </tbody>\n",
       "</table>\n",
       "</div>"
      ],
      "text/plain": [
       "    query cluster                            method  \\\n",
       "0   italy       0                     initial-query   \n",
       "1   italy       0  groupcap-llama3-8b-qe-few-shot-2   \n",
       "2   italy       0                             human   \n",
       "3   italy       0  groupcap-llama3-8b-qe-few-shot-3   \n",
       "4   italy       0  groupcap-llama3-8b-qe-few-shot-4   \n",
       "5   italy       1                     initial-query   \n",
       "6   italy       1  groupcap-llama3-8b-qe-few-shot-2   \n",
       "7   italy       1                             human   \n",
       "8   italy       1  groupcap-llama3-8b-qe-few-shot-3   \n",
       "9   italy       1  groupcap-llama3-8b-qe-few-shot-4   \n",
       "10  italy       2                     initial-query   \n",
       "11  italy       2  groupcap-llama3-8b-qe-few-shot-2   \n",
       "12  italy       2                             human   \n",
       "13  italy       2  groupcap-llama3-8b-qe-few-shot-3   \n",
       "14  italy       2  groupcap-llama3-8b-qe-few-shot-4   \n",
       "15  italy       3                     initial-query   \n",
       "16  italy       3  groupcap-llama3-8b-qe-few-shot-2   \n",
       "17  italy       3                             human   \n",
       "18  italy       3  groupcap-llama3-8b-qe-few-shot-3   \n",
       "19  italy       3  groupcap-llama3-8b-qe-few-shot-4   \n",
       "20  italy       4                     initial-query   \n",
       "21  italy       4  groupcap-llama3-8b-qe-few-shot-2   \n",
       "22  italy       4                             human   \n",
       "23  italy       4  groupcap-llama3-8b-qe-few-shot-3   \n",
       "24  italy       4  groupcap-llama3-8b-qe-few-shot-4   \n",
       "\n",
       "                          suggested-query  jaccard-q  clip-similarity-cluster  \\\n",
       "0                                   italy      1.000                    0.264   \n",
       "1                                   Italy      1.000                    0.264   \n",
       "2                           italy streets      0.500                    0.286   \n",
       "3                                   italy      1.000                    0.264   \n",
       "4                                   Italy      1.000                    0.264   \n",
       "5                                   italy      1.000                    0.263   \n",
       "6                                   italy      1.000                    0.263   \n",
       "7                             italy pizza      0.500                    0.310   \n",
       "8                                   italy      1.000                    0.263   \n",
       "9                        italy with pizza      0.500                    0.306   \n",
       "10                                  italy      1.000                    0.265   \n",
       "11                                  italy      1.000                    0.265   \n",
       "12  Italy, boats, canals, historical city      0.200                    0.282   \n",
       "13                                  italy      1.000                    0.265   \n",
       "14                       italy with boats      0.500                    0.268   \n",
       "15                                  italy      1.000                    0.264   \n",
       "16                                  Italy      1.000                    0.264   \n",
       "17                 italy summer landscape      0.333                    0.253   \n",
       "18                                  italy      1.000                    0.264   \n",
       "19                       italy with beach      0.500                    0.257   \n",
       "20                                  italy      1.000                    0.265   \n",
       "21                                  italy      1.000                    0.265   \n",
       "22           italy historical city center      0.250                    0.286   \n",
       "23                                  italy      1.000                    0.265   \n",
       "24                                  italy      1.000                    0.265   \n",
       "\n",
       "    clip-similarity-q   NDCG@10       MAP  Recall-Open-Set-@100  \\\n",
       "0               1.000  0.129875  0.215520              0.527778   \n",
       "1               1.000  0.129875  0.215520              0.527778   \n",
       "2               0.904  0.870125  0.724558              0.861111   \n",
       "3               1.000  0.129875  0.215520              0.527778   \n",
       "4               1.000  0.129875  0.215520              0.527778   \n",
       "5               1.000  0.371854  0.347826              0.402439   \n",
       "6               1.000  0.371854  0.347826              0.402439   \n",
       "7               0.878  0.921602  0.792000              0.743902   \n",
       "8               1.000  0.371854  0.347826              0.402439   \n",
       "9               0.873  0.694765  0.696532              0.658537   \n",
       "10              1.000  0.334051  0.270190              0.583333   \n",
       "11              1.000  0.334051  0.270190              0.583333   \n",
       "12              0.837  1.000000  0.766753              0.694444   \n",
       "13              1.000  0.334051  0.270190              0.583333   \n",
       "14              0.852  0.349487  0.392509              0.555556   \n",
       "15              1.000  0.094788  0.123989              0.600000   \n",
       "16              1.000  0.094788  0.123989              0.600000   \n",
       "17              0.864  0.248908  0.203904              0.550000   \n",
       "18              1.000  0.094788  0.123989              0.600000   \n",
       "19              0.898  0.690476  0.588775              0.300000   \n",
       "20              1.000  0.069431  0.177779              0.576923   \n",
       "21              1.000  0.069431  0.177779              0.576923   \n",
       "22              0.901  0.851236  0.635680              0.961538   \n",
       "23              1.000  0.069431  0.177779              0.576923   \n",
       "24              1.000  0.069431  0.177779              0.576923   \n",
       "\n",
       "    Recall-Closed-Set  \n",
       "0            0.222222  \n",
       "1            0.222222  \n",
       "2            0.833333  \n",
       "3            0.222222  \n",
       "4            0.222222  \n",
       "5            0.292683  \n",
       "6            0.292683  \n",
       "7            0.987805  \n",
       "8            0.292683  \n",
       "9            0.987805  \n",
       "10           0.194444  \n",
       "11           0.194444  \n",
       "12           0.750000  \n",
       "13           0.194444  \n",
       "14           0.638889  \n",
       "15           0.050000  \n",
       "16           0.050000  \n",
       "17           0.450000  \n",
       "18           0.050000  \n",
       "19           0.350000  \n",
       "20           0.192308  \n",
       "21           0.192308  \n",
       "22           0.692308  \n",
       "23           0.192308  \n",
       "24           0.192308  "
      ]
     },
     "execution_count": 38,
     "metadata": {},
     "output_type": "execute_result"
    }
   ],
   "source": [
    "import pandas as pd\n",
    "\n",
    "q = \"italy\"\n",
    "r = croQS.get_query_suggestions_dataframe_for_query(q, qe_dict)\n",
    "\n",
    "r[0]"
   ]
  },
  {
   "cell_type": "code",
   "execution_count": 39,
   "metadata": {},
   "outputs": [
    {
     "name": "stdout",
     "output_type": "stream",
     "text": [
      "Loading already existing qs for the method 'initial-query'3-8b-qe-few-shot-4'"
     ]
    },
    {
     "name": "stderr",
     "output_type": "stream",
     "text": [
      "Setting `pad_token_id` to `eos_token_id`:128001 for open-end generation.\n"
     ]
    },
    {
     "name": "stdout",
     "output_type": "stream",
     "text": [
      "Computing scores for cluster '0' of query = 'person reading'\n",
      "Loading already existing qs for the method 'initial-query'"
     ]
    },
    {
     "name": "stderr",
     "output_type": "stream",
     "text": [
      "Setting `pad_token_id` to `eos_token_id`:128001 for open-end generation.\n"
     ]
    },
    {
     "name": "stdout",
     "output_type": "stream",
     "text": [
      "Computing scores for cluster '1' of query = 'person reading'\n",
      "Loading already existing qs for the method 'initial-query'"
     ]
    },
    {
     "name": "stderr",
     "output_type": "stream",
     "text": [
      "Setting `pad_token_id` to `eos_token_id`:128001 for open-end generation.\n"
     ]
    },
    {
     "name": "stdout",
     "output_type": "stream",
     "text": [
      "Computing scores for cluster '2' of query = 'person reading'\n",
      "Loading already existing qs for the method 'initial-query'"
     ]
    },
    {
     "name": "stderr",
     "output_type": "stream",
     "text": [
      "Setting `pad_token_id` to `eos_token_id`:128001 for open-end generation.\n"
     ]
    },
    {
     "name": "stdout",
     "output_type": "stream",
     "text": [
      "Computing scores for cluster '3' of query = 'person reading'\n",
      "Loading already existing qs for the method 'initial-query'"
     ]
    },
    {
     "name": "stderr",
     "output_type": "stream",
     "text": [
      "Setting `pad_token_id` to `eos_token_id`:128001 for open-end generation.\n"
     ]
    },
    {
     "name": "stdout",
     "output_type": "stream",
     "text": [
      "Computing scores for cluster '0' of query = 'laptop near'\n",
      "Loading already existing qs for the method 'initial-query'"
     ]
    },
    {
     "name": "stderr",
     "output_type": "stream",
     "text": [
      "Setting `pad_token_id` to `eos_token_id`:128001 for open-end generation.\n"
     ]
    },
    {
     "name": "stdout",
     "output_type": "stream",
     "text": [
      "Computing scores for cluster '1' of query = 'laptop near'\n",
      "Loading already existing qs for the method 'initial-query'"
     ]
    },
    {
     "name": "stderr",
     "output_type": "stream",
     "text": [
      "Setting `pad_token_id` to `eos_token_id`:128001 for open-end generation.\n"
     ]
    },
    {
     "name": "stdout",
     "output_type": "stream",
     "text": [
      "Computing scores for cluster '2' of query = 'laptop near'\n",
      "Loading already existing qs for the method 'initial-query'"
     ]
    },
    {
     "name": "stderr",
     "output_type": "stream",
     "text": [
      "Setting `pad_token_id` to `eos_token_id`:128001 for open-end generation.\n"
     ]
    },
    {
     "name": "stdout",
     "output_type": "stream",
     "text": [
      "Computing scores for cluster '3' of query = 'laptop near'\n",
      "Loading already existing qs for the method 'initial-query'"
     ]
    },
    {
     "name": "stderr",
     "output_type": "stream",
     "text": [
      "Setting `pad_token_id` to `eos_token_id`:128001 for open-end generation.\n"
     ]
    },
    {
     "name": "stdout",
     "output_type": "stream",
     "text": [
      "Computing scores for cluster '0' of query = 'car moving'\n",
      "Loading already existing qs for the method 'initial-query'"
     ]
    },
    {
     "name": "stderr",
     "output_type": "stream",
     "text": [
      "Setting `pad_token_id` to `eos_token_id`:128001 for open-end generation.\n"
     ]
    },
    {
     "name": "stdout",
     "output_type": "stream",
     "text": [
      "Computing scores for cluster '1' of query = 'car moving'\n",
      "Loading already existing qs for the method 'initial-query'"
     ]
    },
    {
     "name": "stderr",
     "output_type": "stream",
     "text": [
      "Setting `pad_token_id` to `eos_token_id`:128001 for open-end generation.\n"
     ]
    },
    {
     "name": "stdout",
     "output_type": "stream",
     "text": [
      "Computing scores for cluster '2' of query = 'car moving'\n",
      "Loading already existing qs for the method 'initial-query'"
     ]
    },
    {
     "name": "stderr",
     "output_type": "stream",
     "text": [
      "Setting `pad_token_id` to `eos_token_id`:128001 for open-end generation.\n"
     ]
    },
    {
     "name": "stdout",
     "output_type": "stream",
     "text": [
      "Computing scores for cluster '3' of query = 'car moving'\n",
      "Loading already existing qs for the method 'initial-query'"
     ]
    },
    {
     "name": "stderr",
     "output_type": "stream",
     "text": [
      "Setting `pad_token_id` to `eos_token_id`:128001 for open-end generation.\n"
     ]
    },
    {
     "name": "stdout",
     "output_type": "stream",
     "text": [
      "Computing scores for cluster '4' of query = 'car moving'\n",
      "Loading already existing qs for the method 'initial-query'"
     ]
    },
    {
     "name": "stderr",
     "output_type": "stream",
     "text": [
      "Setting `pad_token_id` to `eos_token_id`:128001 for open-end generation.\n"
     ]
    },
    {
     "name": "stdout",
     "output_type": "stream",
     "text": [
      "Computing scores for cluster '5' of query = 'car moving'\n",
      "Loading already existing qs for the method 'initial-query'"
     ]
    },
    {
     "name": "stderr",
     "output_type": "stream",
     "text": [
      "Setting `pad_token_id` to `eos_token_id`:128001 for open-end generation.\n"
     ]
    },
    {
     "name": "stdout",
     "output_type": "stream",
     "text": [
      "Computing scores for cluster '6' of query = 'car moving'\n",
      "Loading already existing qs for the method 'initial-query'"
     ]
    },
    {
     "name": "stderr",
     "output_type": "stream",
     "text": [
      "Setting `pad_token_id` to `eos_token_id`:128001 for open-end generation.\n"
     ]
    },
    {
     "name": "stdout",
     "output_type": "stream",
     "text": [
      "Computing scores for cluster '0' of query = 'small house'\n",
      "Loading already existing qs for the method 'initial-query'"
     ]
    },
    {
     "name": "stderr",
     "output_type": "stream",
     "text": [
      "Setting `pad_token_id` to `eos_token_id`:128001 for open-end generation.\n"
     ]
    },
    {
     "name": "stdout",
     "output_type": "stream",
     "text": [
      "Computing scores for cluster '1' of query = 'small house'\n",
      "Loading already existing qs for the method 'initial-query'"
     ]
    },
    {
     "name": "stderr",
     "output_type": "stream",
     "text": [
      "Setting `pad_token_id` to `eos_token_id`:128001 for open-end generation.\n"
     ]
    },
    {
     "name": "stdout",
     "output_type": "stream",
     "text": [
      "Computing scores for cluster '2' of query = 'small house'\n",
      "Loading already existing qs for the method 'initial-query'"
     ]
    },
    {
     "name": "stderr",
     "output_type": "stream",
     "text": [
      "Setting `pad_token_id` to `eos_token_id`:128001 for open-end generation.\n"
     ]
    },
    {
     "name": "stdout",
     "output_type": "stream",
     "text": [
      "Computing scores for cluster '3' of query = 'small house'\n",
      "Loading already existing qs for the method 'initial-query'"
     ]
    },
    {
     "name": "stderr",
     "output_type": "stream",
     "text": [
      "Setting `pad_token_id` to `eos_token_id`:128001 for open-end generation.\n"
     ]
    },
    {
     "name": "stdout",
     "output_type": "stream",
     "text": [
      "Computing scores for cluster '4' of query = 'small house'\n",
      "Loading already existing qs for the method 'initial-query'"
     ]
    },
    {
     "name": "stderr",
     "output_type": "stream",
     "text": [
      "Setting `pad_token_id` to `eos_token_id`:128001 for open-end generation.\n"
     ]
    },
    {
     "name": "stdout",
     "output_type": "stream",
     "text": [
      "Computing scores for cluster '5' of query = 'small house'\n",
      "Loading already existing qs for the method 'initial-query'"
     ]
    },
    {
     "name": "stderr",
     "output_type": "stream",
     "text": [
      "Setting `pad_token_id` to `eos_token_id`:128001 for open-end generation.\n"
     ]
    },
    {
     "name": "stdout",
     "output_type": "stream",
     "text": [
      "Computing scores for cluster '6' of query = 'small house'\n",
      "Loading already existing qs for the method 'initial-query'"
     ]
    },
    {
     "name": "stderr",
     "output_type": "stream",
     "text": [
      "Setting `pad_token_id` to `eos_token_id`:128001 for open-end generation.\n"
     ]
    },
    {
     "name": "stdout",
     "output_type": "stream",
     "text": [
      "Computing scores for cluster '7' of query = 'small house'\n",
      "Loading already existing qs for the method 'initial-query'"
     ]
    },
    {
     "name": "stderr",
     "output_type": "stream",
     "text": [
      "Setting `pad_token_id` to `eos_token_id`:128001 for open-end generation.\n"
     ]
    },
    {
     "name": "stdout",
     "output_type": "stream",
     "text": [
      "Computing scores for cluster '8' of query = 'small house'\n",
      "Loading already existing qs for the method 'initial-query'"
     ]
    },
    {
     "name": "stderr",
     "output_type": "stream",
     "text": [
      "Setting `pad_token_id` to `eos_token_id`:128001 for open-end generation.\n"
     ]
    },
    {
     "name": "stdout",
     "output_type": "stream",
     "text": [
      "Computing scores for cluster '0' of query = 'horse sleeping'\n",
      "Loading already existing qs for the method 'initial-query'"
     ]
    },
    {
     "name": "stderr",
     "output_type": "stream",
     "text": [
      "Setting `pad_token_id` to `eos_token_id`:128001 for open-end generation.\n"
     ]
    },
    {
     "name": "stdout",
     "output_type": "stream",
     "text": [
      "Computing scores for cluster '1' of query = 'horse sleeping'\n",
      "Loading already existing qs for the method 'initial-query'"
     ]
    },
    {
     "name": "stderr",
     "output_type": "stream",
     "text": [
      "Setting `pad_token_id` to `eos_token_id`:128001 for open-end generation.\n"
     ]
    },
    {
     "name": "stdout",
     "output_type": "stream",
     "text": [
      "Computing scores for cluster '2' of query = 'horse sleeping'\n",
      "Loading already existing qs for the method 'initial-query'"
     ]
    },
    {
     "name": "stderr",
     "output_type": "stream",
     "text": [
      "Setting `pad_token_id` to `eos_token_id`:128001 for open-end generation.\n"
     ]
    },
    {
     "name": "stdout",
     "output_type": "stream",
     "text": [
      "Computing scores for cluster '3' of query = 'horse sleeping'\n",
      "Loading already existing qs for the method 'initial-query'"
     ]
    },
    {
     "name": "stderr",
     "output_type": "stream",
     "text": [
      "Setting `pad_token_id` to `eos_token_id`:128001 for open-end generation.\n"
     ]
    },
    {
     "name": "stdout",
     "output_type": "stream",
     "text": [
      "Computing scores for cluster '4' of query = 'horse sleeping'\n",
      "Loading already existing qs for the method 'initial-query'"
     ]
    },
    {
     "name": "stderr",
     "output_type": "stream",
     "text": [
      "Setting `pad_token_id` to `eos_token_id`:128001 for open-end generation.\n"
     ]
    },
    {
     "name": "stdout",
     "output_type": "stream",
     "text": [
      "Computing scores for cluster '6' of query = 'horse sleeping'\n",
      "Loading already existing qs for the method 'initial-query'"
     ]
    },
    {
     "name": "stderr",
     "output_type": "stream",
     "text": [
      "Setting `pad_token_id` to `eos_token_id`:128001 for open-end generation.\n"
     ]
    },
    {
     "name": "stdout",
     "output_type": "stream",
     "text": [
      "Computing scores for cluster '0' of query = 'cat drinking'\n",
      "Loading already existing qs for the method 'initial-query'"
     ]
    },
    {
     "name": "stderr",
     "output_type": "stream",
     "text": [
      "Setting `pad_token_id` to `eos_token_id`:128001 for open-end generation.\n"
     ]
    },
    {
     "name": "stdout",
     "output_type": "stream",
     "text": [
      "Computing scores for cluster '1' of query = 'cat drinking'\n",
      "Loading already existing qs for the method 'initial-query'"
     ]
    },
    {
     "name": "stderr",
     "output_type": "stream",
     "text": [
      "Setting `pad_token_id` to `eos_token_id`:128001 for open-end generation.\n"
     ]
    },
    {
     "name": "stdout",
     "output_type": "stream",
     "text": [
      "Computing scores for cluster '2' of query = 'cat drinking'\n",
      "Loading already existing qs for the method 'initial-query'"
     ]
    },
    {
     "name": "stderr",
     "output_type": "stream",
     "text": [
      "Setting `pad_token_id` to `eos_token_id`:128001 for open-end generation.\n"
     ]
    },
    {
     "name": "stdout",
     "output_type": "stream",
     "text": [
      "Computing scores for cluster '3' of query = 'cat drinking'\n",
      "Loading already existing qs for the method 'initial-query'"
     ]
    },
    {
     "name": "stderr",
     "output_type": "stream",
     "text": [
      "Setting `pad_token_id` to `eos_token_id`:128001 for open-end generation.\n"
     ]
    },
    {
     "name": "stdout",
     "output_type": "stream",
     "text": [
      "Computing scores for cluster '4' of query = 'cat drinking'\n",
      "Loading already existing qs for the method 'initial-query'"
     ]
    },
    {
     "name": "stderr",
     "output_type": "stream",
     "text": [
      "Setting `pad_token_id` to `eos_token_id`:128001 for open-end generation.\n"
     ]
    },
    {
     "name": "stdout",
     "output_type": "stream",
     "text": [
      "Computing scores for cluster '5' of query = 'cat drinking'\n",
      "Loading already existing qs for the method 'initial-query'"
     ]
    },
    {
     "name": "stderr",
     "output_type": "stream",
     "text": [
      "Setting `pad_token_id` to `eos_token_id`:128001 for open-end generation.\n"
     ]
    },
    {
     "name": "stdout",
     "output_type": "stream",
     "text": [
      "Computing scores for cluster '6' of query = 'cat drinking'\n",
      "Loading already existing qs for the method 'initial-query'"
     ]
    },
    {
     "name": "stderr",
     "output_type": "stream",
     "text": [
      "Setting `pad_token_id` to `eos_token_id`:128001 for open-end generation.\n"
     ]
    },
    {
     "name": "stdout",
     "output_type": "stream",
     "text": [
      "Computing scores for cluster '7' of query = 'cat drinking'\n",
      "Loading already existing qs for the method 'initial-query'"
     ]
    },
    {
     "name": "stderr",
     "output_type": "stream",
     "text": [
      "Setting `pad_token_id` to `eos_token_id`:128001 for open-end generation.\n"
     ]
    },
    {
     "name": "stdout",
     "output_type": "stream",
     "text": [
      "Computing scores for cluster '8' of query = 'cat drinking'\n",
      "Loading already existing qs for the method 'initial-query'"
     ]
    },
    {
     "name": "stderr",
     "output_type": "stream",
     "text": [
      "Setting `pad_token_id` to `eos_token_id`:128001 for open-end generation.\n"
     ]
    },
    {
     "name": "stdout",
     "output_type": "stream",
     "text": [
      "Computing scores for cluster '0' of query = 'factory'\n",
      "Loading already existing qs for the method 'initial-query'"
     ]
    },
    {
     "name": "stderr",
     "output_type": "stream",
     "text": [
      "Setting `pad_token_id` to `eos_token_id`:128001 for open-end generation.\n"
     ]
    },
    {
     "name": "stdout",
     "output_type": "stream",
     "text": [
      "Computing scores for cluster '1' of query = 'factory'\n",
      "Loading already existing qs for the method 'initial-query'"
     ]
    },
    {
     "name": "stderr",
     "output_type": "stream",
     "text": [
      "Setting `pad_token_id` to `eos_token_id`:128001 for open-end generation.\n"
     ]
    },
    {
     "name": "stdout",
     "output_type": "stream",
     "text": [
      "Computing scores for cluster '2' of query = 'factory'\n",
      "Loading already existing qs for the method 'initial-query'"
     ]
    },
    {
     "name": "stderr",
     "output_type": "stream",
     "text": [
      "Setting `pad_token_id` to `eos_token_id`:128001 for open-end generation.\n"
     ]
    },
    {
     "name": "stdout",
     "output_type": "stream",
     "text": [
      "Computing scores for cluster '3' of query = 'factory'\n",
      "Loading already existing qs for the method 'initial-query'"
     ]
    },
    {
     "name": "stderr",
     "output_type": "stream",
     "text": [
      "Setting `pad_token_id` to `eos_token_id`:128001 for open-end generation.\n"
     ]
    },
    {
     "name": "stdout",
     "output_type": "stream",
     "text": [
      "Computing scores for cluster '4' of query = 'factory'\n",
      "Loading already existing qs for the method 'initial-query'"
     ]
    },
    {
     "name": "stderr",
     "output_type": "stream",
     "text": [
      "Setting `pad_token_id` to `eos_token_id`:128001 for open-end generation.\n"
     ]
    },
    {
     "name": "stdout",
     "output_type": "stream",
     "text": [
      "Computing scores for cluster '5' of query = 'factory'\n",
      "Loading already existing qs for the method 'initial-query'"
     ]
    },
    {
     "name": "stderr",
     "output_type": "stream",
     "text": [
      "Setting `pad_token_id` to `eos_token_id`:128001 for open-end generation.\n"
     ]
    },
    {
     "name": "stdout",
     "output_type": "stream",
     "text": [
      "Computing scores for cluster '0' of query = 'chair'\n",
      "Loading already existing qs for the method 'initial-query'"
     ]
    },
    {
     "name": "stderr",
     "output_type": "stream",
     "text": [
      "Setting `pad_token_id` to `eos_token_id`:128001 for open-end generation.\n"
     ]
    },
    {
     "name": "stdout",
     "output_type": "stream",
     "text": [
      "Computing scores for cluster '1' of query = 'chair'\n",
      "Loading already existing qs for the method 'initial-query'"
     ]
    },
    {
     "name": "stderr",
     "output_type": "stream",
     "text": [
      "Setting `pad_token_id` to `eos_token_id`:128001 for open-end generation.\n"
     ]
    },
    {
     "name": "stdout",
     "output_type": "stream",
     "text": [
      "Computing scores for cluster '2' of query = 'chair'\n",
      "Loading already existing qs for the method 'initial-query'"
     ]
    },
    {
     "name": "stderr",
     "output_type": "stream",
     "text": [
      "Setting `pad_token_id` to `eos_token_id`:128001 for open-end generation.\n"
     ]
    },
    {
     "name": "stdout",
     "output_type": "stream",
     "text": [
      "Computing scores for cluster '3' of query = 'chair'\n",
      "Loading already existing qs for the method 'initial-query'"
     ]
    },
    {
     "name": "stderr",
     "output_type": "stream",
     "text": [
      "Setting `pad_token_id` to `eos_token_id`:128001 for open-end generation.\n"
     ]
    },
    {
     "name": "stdout",
     "output_type": "stream",
     "text": [
      "Computing scores for cluster '4' of query = 'chair'\n",
      "Loading already existing qs for the method 'initial-query'"
     ]
    },
    {
     "name": "stderr",
     "output_type": "stream",
     "text": [
      "Setting `pad_token_id` to `eos_token_id`:128001 for open-end generation.\n"
     ]
    },
    {
     "name": "stdout",
     "output_type": "stream",
     "text": [
      "Computing scores for cluster '5' of query = 'chair'\n",
      "Loading already existing qs for the method 'initial-query'"
     ]
    },
    {
     "name": "stderr",
     "output_type": "stream",
     "text": [
      "Setting `pad_token_id` to `eos_token_id`:128001 for open-end generation.\n"
     ]
    },
    {
     "name": "stdout",
     "output_type": "stream",
     "text": [
      "Computing scores for cluster '6' of query = 'chair'\n",
      "Loading already existing qs for the method 'initial-query'"
     ]
    },
    {
     "name": "stderr",
     "output_type": "stream",
     "text": [
      "Setting `pad_token_id` to `eos_token_id`:128001 for open-end generation.\n"
     ]
    },
    {
     "name": "stdout",
     "output_type": "stream",
     "text": [
      "Computing scores for cluster '7' of query = 'chair'\n",
      "Loading already existing qs for the method 'initial-query'"
     ]
    },
    {
     "name": "stderr",
     "output_type": "stream",
     "text": [
      "Setting `pad_token_id` to `eos_token_id`:128001 for open-end generation.\n"
     ]
    },
    {
     "name": "stdout",
     "output_type": "stream",
     "text": [
      "Computing scores for cluster '0' of query = 'classroom'\n",
      "Loading already existing qs for the method 'initial-query'"
     ]
    },
    {
     "name": "stderr",
     "output_type": "stream",
     "text": [
      "Setting `pad_token_id` to `eos_token_id`:128001 for open-end generation.\n"
     ]
    },
    {
     "name": "stdout",
     "output_type": "stream",
     "text": [
      "Computing scores for cluster '1' of query = 'classroom'\n",
      "Loading already existing qs for the method 'initial-query'"
     ]
    },
    {
     "name": "stderr",
     "output_type": "stream",
     "text": [
      "Setting `pad_token_id` to `eos_token_id`:128001 for open-end generation.\n"
     ]
    },
    {
     "name": "stdout",
     "output_type": "stream",
     "text": [
      "Computing scores for cluster '2' of query = 'classroom'\n",
      "Loading already existing qs for the method 'initial-query'"
     ]
    },
    {
     "name": "stderr",
     "output_type": "stream",
     "text": [
      "Setting `pad_token_id` to `eos_token_id`:128001 for open-end generation.\n"
     ]
    },
    {
     "name": "stdout",
     "output_type": "stream",
     "text": [
      "Computing scores for cluster '0' of query = 'a person cooking'\n",
      "Loading already existing qs for the method 'initial-query'"
     ]
    },
    {
     "name": "stderr",
     "output_type": "stream",
     "text": [
      "Setting `pad_token_id` to `eos_token_id`:128001 for open-end generation.\n"
     ]
    },
    {
     "name": "stdout",
     "output_type": "stream",
     "text": [
      "Computing scores for cluster '1' of query = 'a person cooking'\n",
      "Loading already existing qs for the method 'initial-query'"
     ]
    },
    {
     "name": "stderr",
     "output_type": "stream",
     "text": [
      "Setting `pad_token_id` to `eos_token_id`:128001 for open-end generation.\n"
     ]
    },
    {
     "name": "stdout",
     "output_type": "stream",
     "text": [
      "Computing scores for cluster '2' of query = 'a person cooking'\n",
      "Loading already existing qs for the method 'initial-query'"
     ]
    },
    {
     "name": "stderr",
     "output_type": "stream",
     "text": [
      "Setting `pad_token_id` to `eos_token_id`:128001 for open-end generation.\n"
     ]
    },
    {
     "name": "stdout",
     "output_type": "stream",
     "text": [
      "Computing scores for cluster '3' of query = 'a person cooking'\n",
      "Loading already existing qs for the method 'initial-query'"
     ]
    },
    {
     "name": "stderr",
     "output_type": "stream",
     "text": [
      "Setting `pad_token_id` to `eos_token_id`:128001 for open-end generation.\n"
     ]
    },
    {
     "name": "stdout",
     "output_type": "stream",
     "text": [
      "Computing scores for cluster '4' of query = 'a person cooking'\n",
      "Loading already existing qs for the method 'initial-query'"
     ]
    },
    {
     "name": "stderr",
     "output_type": "stream",
     "text": [
      "Setting `pad_token_id` to `eos_token_id`:128001 for open-end generation.\n"
     ]
    },
    {
     "name": "stdout",
     "output_type": "stream",
     "text": [
      "Computing scores for cluster '5' of query = 'a person cooking'\n"
     ]
    },
    {
     "name": "stderr",
     "output_type": "stream",
     "text": [
      "Setting `pad_token_id` to `eos_token_id`:128001 for open-end generation.\n"
     ]
    },
    {
     "name": "stdout",
     "output_type": "stream",
     "text": [
      "Loading already existing qs for the method 'initial-query'Computing scores for cluster '6' of query = 'a person cooking'\n",
      "Loading already existing qs for the method 'initial-query'"
     ]
    },
    {
     "name": "stderr",
     "output_type": "stream",
     "text": [
      "Setting `pad_token_id` to `eos_token_id`:128001 for open-end generation.\n"
     ]
    },
    {
     "name": "stdout",
     "output_type": "stream",
     "text": [
      "Computing scores for cluster '7' of query = 'a person cooking'\n",
      "Loading already existing qs for the method 'initial-query'"
     ]
    },
    {
     "name": "stderr",
     "output_type": "stream",
     "text": [
      "Setting `pad_token_id` to `eos_token_id`:128001 for open-end generation.\n"
     ]
    },
    {
     "name": "stdout",
     "output_type": "stream",
     "text": [
      "Computing scores for cluster '8' of query = 'a person cooking'\n",
      "Loading already existing qs for the method 'initial-query'"
     ]
    },
    {
     "name": "stderr",
     "output_type": "stream",
     "text": [
      "Setting `pad_token_id` to `eos_token_id`:128001 for open-end generation.\n"
     ]
    },
    {
     "name": "stdout",
     "output_type": "stream",
     "text": [
      "Computing scores for cluster '9' of query = 'a person cooking'\n",
      "Loading already existing qs for the method 'initial-query'"
     ]
    },
    {
     "name": "stderr",
     "output_type": "stream",
     "text": [
      "Setting `pad_token_id` to `eos_token_id`:128001 for open-end generation.\n"
     ]
    },
    {
     "name": "stdout",
     "output_type": "stream",
     "text": [
      "Computing scores for cluster '0' of query = 'kid eating'\n",
      "Loading already existing qs for the method 'initial-query'"
     ]
    },
    {
     "name": "stderr",
     "output_type": "stream",
     "text": [
      "Setting `pad_token_id` to `eos_token_id`:128001 for open-end generation.\n"
     ]
    },
    {
     "name": "stdout",
     "output_type": "stream",
     "text": [
      "Computing scores for cluster '1' of query = 'kid eating'\n",
      "Loading already existing qs for the method 'initial-query'"
     ]
    },
    {
     "name": "stderr",
     "output_type": "stream",
     "text": [
      "Setting `pad_token_id` to `eos_token_id`:128001 for open-end generation.\n"
     ]
    },
    {
     "name": "stdout",
     "output_type": "stream",
     "text": [
      "Computing scores for cluster '2' of query = 'kid eating'\n",
      "Loading already existing qs for the method 'initial-query'"
     ]
    },
    {
     "name": "stderr",
     "output_type": "stream",
     "text": [
      "Setting `pad_token_id` to `eos_token_id`:128001 for open-end generation.\n"
     ]
    },
    {
     "name": "stdout",
     "output_type": "stream",
     "text": [
      "Computing scores for cluster '3' of query = 'kid eating'\n",
      "Loading already existing qs for the method 'initial-query'"
     ]
    },
    {
     "name": "stderr",
     "output_type": "stream",
     "text": [
      "Setting `pad_token_id` to `eos_token_id`:128001 for open-end generation.\n"
     ]
    },
    {
     "name": "stdout",
     "output_type": "stream",
     "text": [
      "Computing scores for cluster '4' of query = 'kid eating'\n",
      "Loading already existing qs for the method 'initial-query'"
     ]
    },
    {
     "name": "stderr",
     "output_type": "stream",
     "text": [
      "Setting `pad_token_id` to `eos_token_id`:128001 for open-end generation.\n"
     ]
    },
    {
     "name": "stdout",
     "output_type": "stream",
     "text": [
      "Computing scores for cluster '0' of query = 'person with pizza'\n",
      "Loading already existing qs for the method 'initial-query'"
     ]
    },
    {
     "name": "stderr",
     "output_type": "stream",
     "text": [
      "Setting `pad_token_id` to `eos_token_id`:128001 for open-end generation.\n"
     ]
    },
    {
     "name": "stdout",
     "output_type": "stream",
     "text": [
      "Computing scores for cluster '1' of query = 'person with pizza'\n",
      "Loading already existing qs for the method 'initial-query'"
     ]
    },
    {
     "name": "stderr",
     "output_type": "stream",
     "text": [
      "Setting `pad_token_id` to `eos_token_id`:128001 for open-end generation.\n"
     ]
    },
    {
     "name": "stdout",
     "output_type": "stream",
     "text": [
      "Computing scores for cluster '2' of query = 'person with pizza'\n",
      "Loading already existing qs for the method 'initial-query'"
     ]
    },
    {
     "name": "stderr",
     "output_type": "stream",
     "text": [
      "Setting `pad_token_id` to `eos_token_id`:128001 for open-end generation.\n"
     ]
    },
    {
     "name": "stdout",
     "output_type": "stream",
     "text": [
      "Computing scores for cluster '3' of query = 'person with pizza'\n",
      "Loading already existing qs for the method 'initial-query'"
     ]
    },
    {
     "name": "stderr",
     "output_type": "stream",
     "text": [
      "Setting `pad_token_id` to `eos_token_id`:128001 for open-end generation.\n"
     ]
    },
    {
     "name": "stdout",
     "output_type": "stream",
     "text": [
      "Computing scores for cluster '4' of query = 'person with pizza'\n",
      "Loading already existing qs for the method 'initial-query'"
     ]
    },
    {
     "name": "stderr",
     "output_type": "stream",
     "text": [
      "Setting `pad_token_id` to `eos_token_id`:128001 for open-end generation.\n"
     ]
    },
    {
     "name": "stdout",
     "output_type": "stream",
     "text": [
      "Computing scores for cluster '5' of query = 'person with pizza'\n",
      "Loading already existing qs for the method 'initial-query'"
     ]
    },
    {
     "name": "stderr",
     "output_type": "stream",
     "text": [
      "Setting `pad_token_id` to `eos_token_id`:128001 for open-end generation.\n"
     ]
    },
    {
     "name": "stdout",
     "output_type": "stream",
     "text": [
      "Computing scores for cluster '0' of query = 'person with a surf board'\n",
      "[ndcg] [W] division by 0 [W]\n",
      "Loading already existing qs for the method 'initial-query'"
     ]
    },
    {
     "name": "stderr",
     "output_type": "stream",
     "text": [
      "Setting `pad_token_id` to `eos_token_id`:128001 for open-end generation.\n"
     ]
    },
    {
     "name": "stdout",
     "output_type": "stream",
     "text": [
      "Computing scores for cluster '1' of query = 'person with a surf board'\n",
      "Loading already existing qs for the method 'initial-query'"
     ]
    },
    {
     "name": "stderr",
     "output_type": "stream",
     "text": [
      "Setting `pad_token_id` to `eos_token_id`:128001 for open-end generation.\n"
     ]
    },
    {
     "name": "stdout",
     "output_type": "stream",
     "text": [
      "Computing scores for cluster '2' of query = 'person with a surf board'\n",
      "Loading already existing qs for the method 'initial-query'"
     ]
    },
    {
     "name": "stderr",
     "output_type": "stream",
     "text": [
      "Setting `pad_token_id` to `eos_token_id`:128001 for open-end generation.\n"
     ]
    },
    {
     "name": "stdout",
     "output_type": "stream",
     "text": [
      "Computing scores for cluster '3' of query = 'person with a surf board'\n",
      "[ndcg] [W] division by 0 [W]\n",
      "Loading already existing qs for the method 'initial-query'"
     ]
    },
    {
     "name": "stderr",
     "output_type": "stream",
     "text": [
      "Setting `pad_token_id` to `eos_token_id`:128001 for open-end generation.\n"
     ]
    },
    {
     "name": "stdout",
     "output_type": "stream",
     "text": [
      "Computing scores for cluster '4' of query = 'person with a surf board'\n",
      "Loading already existing qs for the method 'initial-query'"
     ]
    },
    {
     "name": "stderr",
     "output_type": "stream",
     "text": [
      "Setting `pad_token_id` to `eos_token_id`:128001 for open-end generation.\n"
     ]
    },
    {
     "name": "stdout",
     "output_type": "stream",
     "text": [
      "Computing scores for cluster '5' of query = 'person with a surf board'\n",
      "Loading already existing qs for the method 'initial-query'"
     ]
    },
    {
     "name": "stderr",
     "output_type": "stream",
     "text": [
      "Setting `pad_token_id` to `eos_token_id`:128001 for open-end generation.\n"
     ]
    },
    {
     "name": "stdout",
     "output_type": "stream",
     "text": [
      "Computing scores for cluster '6' of query = 'person with a surf board'\n",
      "Loading already existing qs for the method 'initial-query'"
     ]
    },
    {
     "name": "stderr",
     "output_type": "stream",
     "text": [
      "Setting `pad_token_id` to `eos_token_id`:128001 for open-end generation.\n"
     ]
    },
    {
     "name": "stdout",
     "output_type": "stream",
     "text": [
      "Computing scores for cluster '7' of query = 'person with a surf board'\n",
      "Loading already existing qs for the method 'initial-query'"
     ]
    },
    {
     "name": "stderr",
     "output_type": "stream",
     "text": [
      "Setting `pad_token_id` to `eos_token_id`:128001 for open-end generation.\n"
     ]
    },
    {
     "name": "stdout",
     "output_type": "stream",
     "text": [
      "Computing scores for cluster '8' of query = 'person with a surf board'\n",
      "Loading already existing qs for the method 'initial-query'"
     ]
    },
    {
     "name": "stderr",
     "output_type": "stream",
     "text": [
      "Setting `pad_token_id` to `eos_token_id`:128001 for open-end generation.\n"
     ]
    },
    {
     "name": "stdout",
     "output_type": "stream",
     "text": [
      "Computing scores for cluster '9' of query = 'person with a surf board'\n",
      "Loading already existing qs for the method 'initial-query'"
     ]
    },
    {
     "name": "stderr",
     "output_type": "stream",
     "text": [
      "Setting `pad_token_id` to `eos_token_id`:128001 for open-end generation.\n"
     ]
    },
    {
     "name": "stdout",
     "output_type": "stream",
     "text": [
      "Computing scores for cluster '0' of query = 'person riding'\n",
      "Loading already existing qs for the method 'initial-query'"
     ]
    },
    {
     "name": "stderr",
     "output_type": "stream",
     "text": [
      "Setting `pad_token_id` to `eos_token_id`:128001 for open-end generation.\n"
     ]
    },
    {
     "name": "stdout",
     "output_type": "stream",
     "text": [
      "Computing scores for cluster '1' of query = 'person riding'\n",
      "Loading already existing qs for the method 'initial-query'"
     ]
    },
    {
     "name": "stderr",
     "output_type": "stream",
     "text": [
      "Setting `pad_token_id` to `eos_token_id`:128001 for open-end generation.\n"
     ]
    },
    {
     "name": "stdout",
     "output_type": "stream",
     "text": [
      "Computing scores for cluster '2' of query = 'person riding'\n",
      "Loading already existing qs for the method 'initial-query'"
     ]
    },
    {
     "name": "stderr",
     "output_type": "stream",
     "text": [
      "Setting `pad_token_id` to `eos_token_id`:128001 for open-end generation.\n"
     ]
    },
    {
     "name": "stdout",
     "output_type": "stream",
     "text": [
      "Computing scores for cluster '3' of query = 'person riding'\n",
      "Loading already existing qs for the method 'initial-query'"
     ]
    },
    {
     "name": "stderr",
     "output_type": "stream",
     "text": [
      "Setting `pad_token_id` to `eos_token_id`:128001 for open-end generation.\n"
     ]
    },
    {
     "name": "stdout",
     "output_type": "stream",
     "text": [
      "Computing scores for cluster '4' of query = 'person riding'\n",
      "Loading already existing qs for the method 'initial-query'"
     ]
    },
    {
     "name": "stderr",
     "output_type": "stream",
     "text": [
      "Setting `pad_token_id` to `eos_token_id`:128001 for open-end generation.\n"
     ]
    },
    {
     "name": "stdout",
     "output_type": "stream",
     "text": [
      "Computing scores for cluster '5' of query = 'person riding'\n",
      "Loading already existing qs for the method 'initial-query'"
     ]
    },
    {
     "name": "stderr",
     "output_type": "stream",
     "text": [
      "Setting `pad_token_id` to `eos_token_id`:128001 for open-end generation.\n"
     ]
    },
    {
     "name": "stdout",
     "output_type": "stream",
     "text": [
      "Computing scores for cluster '6' of query = 'person riding'\n",
      "Loading already existing qs for the method 'initial-query'"
     ]
    },
    {
     "name": "stderr",
     "output_type": "stream",
     "text": [
      "Setting `pad_token_id` to `eos_token_id`:128001 for open-end generation.\n"
     ]
    },
    {
     "name": "stdout",
     "output_type": "stream",
     "text": [
      "Computing scores for cluster '7' of query = 'person riding'\n",
      "Loading already existing qs for the method 'initial-query'"
     ]
    },
    {
     "name": "stderr",
     "output_type": "stream",
     "text": [
      "Setting `pad_token_id` to `eos_token_id`:128001 for open-end generation.\n"
     ]
    },
    {
     "name": "stdout",
     "output_type": "stream",
     "text": [
      "Computing scores for cluster '8' of query = 'person riding'\n",
      "Loading already existing qs for the method 'initial-query'"
     ]
    },
    {
     "name": "stderr",
     "output_type": "stream",
     "text": [
      "Setting `pad_token_id` to `eos_token_id`:128001 for open-end generation.\n"
     ]
    },
    {
     "name": "stdout",
     "output_type": "stream",
     "text": [
      "Computing scores for cluster '0' of query = 'reading a news paper'\n",
      "[ndcg] [W] division by 0 [W]\n",
      "Loading already existing qs for the method 'initial-query'"
     ]
    },
    {
     "name": "stderr",
     "output_type": "stream",
     "text": [
      "Setting `pad_token_id` to `eos_token_id`:128001 for open-end generation.\n"
     ]
    },
    {
     "name": "stdout",
     "output_type": "stream",
     "text": [
      "Computing scores for cluster '2' of query = 'reading a news paper'\n",
      "Loading already existing qs for the method 'initial-query'"
     ]
    },
    {
     "name": "stderr",
     "output_type": "stream",
     "text": [
      "Setting `pad_token_id` to `eos_token_id`:128001 for open-end generation.\n"
     ]
    },
    {
     "name": "stdout",
     "output_type": "stream",
     "text": [
      "Computing scores for cluster '3' of query = 'reading a news paper'\n",
      "Loading already existing qs for the method 'initial-query'"
     ]
    },
    {
     "name": "stderr",
     "output_type": "stream",
     "text": [
      "Setting `pad_token_id` to `eos_token_id`:128001 for open-end generation.\n"
     ]
    },
    {
     "name": "stdout",
     "output_type": "stream",
     "text": [
      "Computing scores for cluster '4' of query = 'reading a news paper'\n",
      "Loading already existing qs for the method 'initial-query'"
     ]
    },
    {
     "name": "stderr",
     "output_type": "stream",
     "text": [
      "Setting `pad_token_id` to `eos_token_id`:128001 for open-end generation.\n"
     ]
    },
    {
     "name": "stdout",
     "output_type": "stream",
     "text": [
      "Computing scores for cluster '6' of query = 'reading a news paper'\n",
      "Loading already existing qs for the method 'initial-query'"
     ]
    },
    {
     "name": "stderr",
     "output_type": "stream",
     "text": [
      "Setting `pad_token_id` to `eos_token_id`:128001 for open-end generation.\n"
     ]
    },
    {
     "name": "stdout",
     "output_type": "stream",
     "text": [
      "Computing scores for cluster '0' of query = 'keyboard'\n",
      "Loading already existing qs for the method 'initial-query'"
     ]
    },
    {
     "name": "stderr",
     "output_type": "stream",
     "text": [
      "Setting `pad_token_id` to `eos_token_id`:128001 for open-end generation.\n"
     ]
    },
    {
     "name": "stdout",
     "output_type": "stream",
     "text": [
      "Computing scores for cluster '1' of query = 'keyboard'\n",
      "Loading already existing qs for the method 'initial-query'"
     ]
    },
    {
     "name": "stderr",
     "output_type": "stream",
     "text": [
      "Setting `pad_token_id` to `eos_token_id`:128001 for open-end generation.\n"
     ]
    },
    {
     "name": "stdout",
     "output_type": "stream",
     "text": [
      "Computing scores for cluster '2' of query = 'keyboard'\n",
      "Loading already existing qs for the method 'initial-query'"
     ]
    },
    {
     "name": "stderr",
     "output_type": "stream",
     "text": [
      "Setting `pad_token_id` to `eos_token_id`:128001 for open-end generation.\n"
     ]
    },
    {
     "name": "stdout",
     "output_type": "stream",
     "text": [
      "Computing scores for cluster '3' of query = 'keyboard'\n",
      "Loading already existing qs for the method 'initial-query'"
     ]
    },
    {
     "name": "stderr",
     "output_type": "stream",
     "text": [
      "Setting `pad_token_id` to `eos_token_id`:128001 for open-end generation.\n"
     ]
    },
    {
     "name": "stdout",
     "output_type": "stream",
     "text": [
      "Computing scores for cluster '4' of query = 'keyboard'\n",
      "Loading already existing qs for the method 'initial-query'"
     ]
    },
    {
     "name": "stderr",
     "output_type": "stream",
     "text": [
      "Setting `pad_token_id` to `eos_token_id`:128001 for open-end generation.\n"
     ]
    },
    {
     "name": "stdout",
     "output_type": "stream",
     "text": [
      "Computing scores for cluster '5' of query = 'keyboard'\n",
      "Loading already existing qs for the method 'initial-query'"
     ]
    },
    {
     "name": "stderr",
     "output_type": "stream",
     "text": [
      "Setting `pad_token_id` to `eos_token_id`:128001 for open-end generation.\n"
     ]
    },
    {
     "name": "stdout",
     "output_type": "stream",
     "text": [
      "Computing scores for cluster '6' of query = 'keyboard'\n",
      "Loading already existing qs for the method 'initial-query'"
     ]
    },
    {
     "name": "stderr",
     "output_type": "stream",
     "text": [
      "Setting `pad_token_id` to `eos_token_id`:128001 for open-end generation.\n"
     ]
    },
    {
     "name": "stdout",
     "output_type": "stream",
     "text": [
      "Computing scores for cluster '0' of query = 'using a notebook'\n",
      "Loading already existing qs for the method 'initial-query'"
     ]
    },
    {
     "name": "stderr",
     "output_type": "stream",
     "text": [
      "Setting `pad_token_id` to `eos_token_id`:128001 for open-end generation.\n"
     ]
    },
    {
     "name": "stdout",
     "output_type": "stream",
     "text": [
      "Computing scores for cluster '1' of query = 'using a notebook'\n",
      "Loading already existing qs for the method 'initial-query'"
     ]
    },
    {
     "name": "stderr",
     "output_type": "stream",
     "text": [
      "Setting `pad_token_id` to `eos_token_id`:128001 for open-end generation.\n"
     ]
    },
    {
     "name": "stdout",
     "output_type": "stream",
     "text": [
      "Computing scores for cluster '2' of query = 'using a notebook'\n",
      "Loading already existing qs for the method 'initial-query'"
     ]
    },
    {
     "name": "stderr",
     "output_type": "stream",
     "text": [
      "Setting `pad_token_id` to `eos_token_id`:128001 for open-end generation.\n"
     ]
    },
    {
     "name": "stdout",
     "output_type": "stream",
     "text": [
      "Computing scores for cluster '3' of query = 'using a notebook'\n",
      "Loading already existing qs for the method 'initial-query'"
     ]
    },
    {
     "name": "stderr",
     "output_type": "stream",
     "text": [
      "Setting `pad_token_id` to `eos_token_id`:128001 for open-end generation.\n"
     ]
    },
    {
     "name": "stdout",
     "output_type": "stream",
     "text": [
      "Computing scores for cluster '4' of query = 'using a notebook'\n",
      "Loading already existing qs for the method 'initial-query'"
     ]
    },
    {
     "name": "stderr",
     "output_type": "stream",
     "text": [
      "Setting `pad_token_id` to `eos_token_id`:128001 for open-end generation.\n"
     ]
    },
    {
     "name": "stdout",
     "output_type": "stream",
     "text": [
      "Computing scores for cluster '5' of query = 'using a notebook'\n",
      "Loading already existing qs for the method 'initial-query'"
     ]
    },
    {
     "name": "stderr",
     "output_type": "stream",
     "text": [
      "Setting `pad_token_id` to `eos_token_id`:128001 for open-end generation.\n"
     ]
    },
    {
     "name": "stdout",
     "output_type": "stream",
     "text": [
      "Computing scores for cluster '6' of query = 'using a notebook'\n",
      "Loading already existing qs for the method 'initial-query'"
     ]
    },
    {
     "name": "stderr",
     "output_type": "stream",
     "text": [
      "Setting `pad_token_id` to `eos_token_id`:128001 for open-end generation.\n"
     ]
    },
    {
     "name": "stdout",
     "output_type": "stream",
     "text": [
      "Computing scores for cluster '8' of query = 'using a notebook'\n",
      "Loading already existing qs for the method 'initial-query'"
     ]
    },
    {
     "name": "stderr",
     "output_type": "stream",
     "text": [
      "Setting `pad_token_id` to `eos_token_id`:128001 for open-end generation.\n"
     ]
    },
    {
     "name": "stdout",
     "output_type": "stream",
     "text": [
      "Computing scores for cluster '0' of query = 'running water'\n",
      "Loading already existing qs for the method 'initial-query'"
     ]
    },
    {
     "name": "stderr",
     "output_type": "stream",
     "text": [
      "Setting `pad_token_id` to `eos_token_id`:128001 for open-end generation.\n"
     ]
    },
    {
     "name": "stdout",
     "output_type": "stream",
     "text": [
      "Computing scores for cluster '1' of query = 'running water'\n",
      "Loading already existing qs for the method 'initial-query'"
     ]
    },
    {
     "name": "stderr",
     "output_type": "stream",
     "text": [
      "Setting `pad_token_id` to `eos_token_id`:128001 for open-end generation.\n"
     ]
    },
    {
     "name": "stdout",
     "output_type": "stream",
     "text": [
      "Computing scores for cluster '2' of query = 'running water'\n",
      "[ndcg] [W] division by 0 [W]\n",
      "Loading already existing qs for the method 'initial-query'"
     ]
    },
    {
     "name": "stderr",
     "output_type": "stream",
     "text": [
      "Setting `pad_token_id` to `eos_token_id`:128001 for open-end generation.\n"
     ]
    },
    {
     "name": "stdout",
     "output_type": "stream",
     "text": [
      "Computing scores for cluster '3' of query = 'running water'\n",
      "Loading already existing qs for the method 'initial-query'"
     ]
    },
    {
     "name": "stderr",
     "output_type": "stream",
     "text": [
      "Setting `pad_token_id` to `eos_token_id`:128001 for open-end generation.\n"
     ]
    },
    {
     "name": "stdout",
     "output_type": "stream",
     "text": [
      "Computing scores for cluster '4' of query = 'running water'\n",
      "Loading already existing qs for the method 'initial-query'"
     ]
    },
    {
     "name": "stderr",
     "output_type": "stream",
     "text": [
      "Setting `pad_token_id` to `eos_token_id`:128001 for open-end generation.\n"
     ]
    },
    {
     "name": "stdout",
     "output_type": "stream",
     "text": [
      "Computing scores for cluster '0' of query = 'a cat proud'\n",
      "Loading already existing qs for the method 'initial-query'"
     ]
    },
    {
     "name": "stderr",
     "output_type": "stream",
     "text": [
      "Setting `pad_token_id` to `eos_token_id`:128001 for open-end generation.\n"
     ]
    },
    {
     "name": "stdout",
     "output_type": "stream",
     "text": [
      "Computing scores for cluster '1' of query = 'a cat proud'\n",
      "Loading already existing qs for the method 'initial-query'"
     ]
    },
    {
     "name": "stderr",
     "output_type": "stream",
     "text": [
      "Setting `pad_token_id` to `eos_token_id`:128001 for open-end generation.\n"
     ]
    },
    {
     "name": "stdout",
     "output_type": "stream",
     "text": [
      "Computing scores for cluster '2' of query = 'a cat proud'\n",
      "Loading already existing qs for the method 'initial-query'"
     ]
    },
    {
     "name": "stderr",
     "output_type": "stream",
     "text": [
      "Setting `pad_token_id` to `eos_token_id`:128001 for open-end generation.\n"
     ]
    },
    {
     "name": "stdout",
     "output_type": "stream",
     "text": [
      "Computing scores for cluster '3' of query = 'a cat proud'\n",
      "Loading already existing qs for the method 'initial-query'"
     ]
    },
    {
     "name": "stderr",
     "output_type": "stream",
     "text": [
      "Setting `pad_token_id` to `eos_token_id`:128001 for open-end generation.\n"
     ]
    },
    {
     "name": "stdout",
     "output_type": "stream",
     "text": [
      "Computing scores for cluster '4' of query = 'a cat proud'\n",
      "Loading already existing qs for the method 'initial-query'"
     ]
    },
    {
     "name": "stderr",
     "output_type": "stream",
     "text": [
      "Setting `pad_token_id` to `eos_token_id`:128001 for open-end generation.\n"
     ]
    },
    {
     "name": "stdout",
     "output_type": "stream",
     "text": [
      "Computing scores for cluster '0' of query = 'dog in the water'\n",
      "Loading already existing qs for the method 'initial-query'"
     ]
    },
    {
     "name": "stderr",
     "output_type": "stream",
     "text": [
      "Setting `pad_token_id` to `eos_token_id`:128001 for open-end generation.\n"
     ]
    },
    {
     "name": "stdout",
     "output_type": "stream",
     "text": [
      "Computing scores for cluster '1' of query = 'dog in the water'\n",
      "Loading already existing qs for the method 'initial-query'"
     ]
    },
    {
     "name": "stderr",
     "output_type": "stream",
     "text": [
      "Setting `pad_token_id` to `eos_token_id`:128001 for open-end generation.\n"
     ]
    },
    {
     "name": "stdout",
     "output_type": "stream",
     "text": [
      "Computing scores for cluster '2' of query = 'dog in the water'\n",
      "Loading already existing qs for the method 'initial-query'"
     ]
    },
    {
     "name": "stderr",
     "output_type": "stream",
     "text": [
      "Setting `pad_token_id` to `eos_token_id`:128001 for open-end generation.\n"
     ]
    },
    {
     "name": "stdout",
     "output_type": "stream",
     "text": [
      "Computing scores for cluster '3' of query = 'dog in the water'\n",
      "Loading already existing qs for the method 'initial-query'"
     ]
    },
    {
     "name": "stderr",
     "output_type": "stream",
     "text": [
      "Setting `pad_token_id` to `eos_token_id`:128001 for open-end generation.\n"
     ]
    },
    {
     "name": "stdout",
     "output_type": "stream",
     "text": [
      "Computing scores for cluster '4' of query = 'dog in the water'\n",
      "Loading already existing qs for the method 'initial-query'"
     ]
    },
    {
     "name": "stderr",
     "output_type": "stream",
     "text": [
      "Setting `pad_token_id` to `eos_token_id`:128001 for open-end generation.\n"
     ]
    },
    {
     "name": "stdout",
     "output_type": "stream",
     "text": [
      "Computing scores for cluster '0' of query = 'riding a motorcycle'\n",
      "Loading already existing qs for the method 'initial-query'"
     ]
    },
    {
     "name": "stderr",
     "output_type": "stream",
     "text": [
      "Setting `pad_token_id` to `eos_token_id`:128001 for open-end generation.\n"
     ]
    },
    {
     "name": "stdout",
     "output_type": "stream",
     "text": [
      "Computing scores for cluster '1' of query = 'riding a motorcycle'\n",
      "Loading already existing qs for the method 'initial-query'"
     ]
    },
    {
     "name": "stderr",
     "output_type": "stream",
     "text": [
      "Setting `pad_token_id` to `eos_token_id`:128001 for open-end generation.\n"
     ]
    },
    {
     "name": "stdout",
     "output_type": "stream",
     "text": [
      "Computing scores for cluster '2' of query = 'riding a motorcycle'\n",
      "Loading already existing qs for the method 'initial-query'"
     ]
    },
    {
     "name": "stderr",
     "output_type": "stream",
     "text": [
      "Setting `pad_token_id` to `eos_token_id`:128001 for open-end generation.\n"
     ]
    },
    {
     "name": "stdout",
     "output_type": "stream",
     "text": [
      "Computing scores for cluster '3' of query = 'riding a motorcycle'\n",
      "Loading already existing qs for the method 'initial-query'"
     ]
    },
    {
     "name": "stderr",
     "output_type": "stream",
     "text": [
      "Setting `pad_token_id` to `eos_token_id`:128001 for open-end generation.\n"
     ]
    },
    {
     "name": "stdout",
     "output_type": "stream",
     "text": [
      "Computing scores for cluster '4' of query = 'riding a motorcycle'\n",
      "Loading already existing qs for the method 'initial-query'"
     ]
    },
    {
     "name": "stderr",
     "output_type": "stream",
     "text": [
      "Setting `pad_token_id` to `eos_token_id`:128001 for open-end generation.\n"
     ]
    },
    {
     "name": "stdout",
     "output_type": "stream",
     "text": [
      "Computing scores for cluster '5' of query = 'riding a motorcycle'\n",
      "Loading already existing qs for the method 'initial-query'"
     ]
    },
    {
     "name": "stderr",
     "output_type": "stream",
     "text": [
      "Setting `pad_token_id` to `eos_token_id`:128001 for open-end generation.\n"
     ]
    },
    {
     "name": "stdout",
     "output_type": "stream",
     "text": [
      "Computing scores for cluster '0' of query = 'flying a kite'\n",
      "Loading already existing qs for the method 'initial-query'"
     ]
    },
    {
     "name": "stderr",
     "output_type": "stream",
     "text": [
      "Setting `pad_token_id` to `eos_token_id`:128001 for open-end generation.\n"
     ]
    },
    {
     "name": "stdout",
     "output_type": "stream",
     "text": [
      "Computing scores for cluster '1' of query = 'flying a kite'\n",
      "Loading already existing qs for the method 'initial-query'"
     ]
    },
    {
     "name": "stderr",
     "output_type": "stream",
     "text": [
      "Setting `pad_token_id` to `eos_token_id`:128001 for open-end generation.\n"
     ]
    },
    {
     "name": "stdout",
     "output_type": "stream",
     "text": [
      "Computing scores for cluster '2' of query = 'flying a kite'\n",
      "Loading already existing qs for the method 'initial-query'"
     ]
    },
    {
     "name": "stderr",
     "output_type": "stream",
     "text": [
      "Setting `pad_token_id` to `eos_token_id`:128001 for open-end generation.\n"
     ]
    },
    {
     "name": "stdout",
     "output_type": "stream",
     "text": [
      "Computing scores for cluster '3' of query = 'flying a kite'\n",
      "Loading already existing qs for the method 'initial-query'"
     ]
    },
    {
     "name": "stderr",
     "output_type": "stream",
     "text": [
      "Setting `pad_token_id` to `eos_token_id`:128001 for open-end generation.\n"
     ]
    },
    {
     "name": "stdout",
     "output_type": "stream",
     "text": [
      "Computing scores for cluster '0' of query = 'marketplace'\n",
      "Loading already existing qs for the method 'initial-query'"
     ]
    },
    {
     "name": "stderr",
     "output_type": "stream",
     "text": [
      "Setting `pad_token_id` to `eos_token_id`:128001 for open-end generation.\n"
     ]
    },
    {
     "name": "stdout",
     "output_type": "stream",
     "text": [
      "Computing scores for cluster '1' of query = 'marketplace'\n",
      "Loading already existing qs for the method 'initial-query'"
     ]
    },
    {
     "name": "stderr",
     "output_type": "stream",
     "text": [
      "Setting `pad_token_id` to `eos_token_id`:128001 for open-end generation.\n"
     ]
    },
    {
     "name": "stdout",
     "output_type": "stream",
     "text": [
      "Computing scores for cluster '2' of query = 'marketplace'\n",
      "Loading already existing qs for the method 'initial-query'"
     ]
    },
    {
     "name": "stderr",
     "output_type": "stream",
     "text": [
      "Setting `pad_token_id` to `eos_token_id`:128001 for open-end generation.\n"
     ]
    },
    {
     "name": "stdout",
     "output_type": "stream",
     "text": [
      "Computing scores for cluster '3' of query = 'marketplace'\n",
      "Loading already existing qs for the method 'initial-query'"
     ]
    },
    {
     "name": "stderr",
     "output_type": "stream",
     "text": [
      "Setting `pad_token_id` to `eos_token_id`:128001 for open-end generation.\n"
     ]
    },
    {
     "name": "stdout",
     "output_type": "stream",
     "text": [
      "Computing scores for cluster '4' of query = 'marketplace'\n",
      "Loading already existing qs for the method 'initial-query'"
     ]
    },
    {
     "name": "stderr",
     "output_type": "stream",
     "text": [
      "Setting `pad_token_id` to `eos_token_id`:128001 for open-end generation.\n"
     ]
    },
    {
     "name": "stdout",
     "output_type": "stream",
     "text": [
      "Computing scores for cluster '0' of query = 'kitchen appliances'\n",
      "Loading already existing qs for the method 'initial-query'"
     ]
    },
    {
     "name": "stderr",
     "output_type": "stream",
     "text": [
      "Setting `pad_token_id` to `eos_token_id`:128001 for open-end generation.\n"
     ]
    },
    {
     "name": "stdout",
     "output_type": "stream",
     "text": [
      "Computing scores for cluster '1' of query = 'kitchen appliances'\n",
      "Loading already existing qs for the method 'initial-query'"
     ]
    },
    {
     "name": "stderr",
     "output_type": "stream",
     "text": [
      "Setting `pad_token_id` to `eos_token_id`:128001 for open-end generation.\n"
     ]
    },
    {
     "name": "stdout",
     "output_type": "stream",
     "text": [
      "Computing scores for cluster '2' of query = 'kitchen appliances'\n",
      "Loading already existing qs for the method 'initial-query'"
     ]
    },
    {
     "name": "stderr",
     "output_type": "stream",
     "text": [
      "Setting `pad_token_id` to `eos_token_id`:128001 for open-end generation.\n"
     ]
    },
    {
     "name": "stdout",
     "output_type": "stream",
     "text": [
      "Computing scores for cluster '3' of query = 'kitchen appliances'\n",
      "Loading already existing qs for the method 'initial-query'"
     ]
    },
    {
     "name": "stderr",
     "output_type": "stream",
     "text": [
      "Setting `pad_token_id` to `eos_token_id`:128001 for open-end generation.\n"
     ]
    },
    {
     "name": "stdout",
     "output_type": "stream",
     "text": [
      "Computing scores for cluster '4' of query = 'kitchen appliances'\n",
      "Loading already existing qs for the method 'initial-query'"
     ]
    },
    {
     "name": "stderr",
     "output_type": "stream",
     "text": [
      "Setting `pad_token_id` to `eos_token_id`:128001 for open-end generation.\n"
     ]
    },
    {
     "name": "stdout",
     "output_type": "stream",
     "text": [
      "Computing scores for cluster '0' of query = 'a photo of a tree'\n",
      "Loading already existing qs for the method 'initial-query'"
     ]
    },
    {
     "name": "stderr",
     "output_type": "stream",
     "text": [
      "Setting `pad_token_id` to `eos_token_id`:128001 for open-end generation.\n"
     ]
    },
    {
     "name": "stdout",
     "output_type": "stream",
     "text": [
      "Computing scores for cluster '1' of query = 'a photo of a tree'\n",
      "Loading already existing qs for the method 'initial-query'"
     ]
    },
    {
     "name": "stderr",
     "output_type": "stream",
     "text": [
      "Setting `pad_token_id` to `eos_token_id`:128001 for open-end generation.\n"
     ]
    },
    {
     "name": "stdout",
     "output_type": "stream",
     "text": [
      "Computing scores for cluster '2' of query = 'a photo of a tree'\n",
      "Loading already existing qs for the method 'initial-query'"
     ]
    },
    {
     "name": "stderr",
     "output_type": "stream",
     "text": [
      "Setting `pad_token_id` to `eos_token_id`:128001 for open-end generation.\n"
     ]
    },
    {
     "name": "stdout",
     "output_type": "stream",
     "text": [
      "Computing scores for cluster '3' of query = 'a photo of a tree'\n",
      "Loading already existing qs for the method 'initial-query'"
     ]
    },
    {
     "name": "stderr",
     "output_type": "stream",
     "text": [
      "Setting `pad_token_id` to `eos_token_id`:128001 for open-end generation.\n"
     ]
    },
    {
     "name": "stdout",
     "output_type": "stream",
     "text": [
      "Computing scores for cluster '0' of query = 'people enjoying'\n",
      "Loading already existing qs for the method 'initial-query'"
     ]
    },
    {
     "name": "stderr",
     "output_type": "stream",
     "text": [
      "Setting `pad_token_id` to `eos_token_id`:128001 for open-end generation.\n"
     ]
    },
    {
     "name": "stdout",
     "output_type": "stream",
     "text": [
      "Computing scores for cluster '1' of query = 'people enjoying'\n",
      "Loading already existing qs for the method 'initial-query'"
     ]
    },
    {
     "name": "stderr",
     "output_type": "stream",
     "text": [
      "Setting `pad_token_id` to `eos_token_id`:128001 for open-end generation.\n"
     ]
    },
    {
     "name": "stdout",
     "output_type": "stream",
     "text": [
      "Computing scores for cluster '2' of query = 'people enjoying'\n",
      "Loading already existing qs for the method 'initial-query'"
     ]
    },
    {
     "name": "stderr",
     "output_type": "stream",
     "text": [
      "Setting `pad_token_id` to `eos_token_id`:128001 for open-end generation.\n"
     ]
    },
    {
     "name": "stdout",
     "output_type": "stream",
     "text": [
      "Computing scores for cluster '3' of query = 'people enjoying'\n",
      "Loading already existing qs for the method 'initial-query'"
     ]
    },
    {
     "name": "stderr",
     "output_type": "stream",
     "text": [
      "Setting `pad_token_id` to `eos_token_id`:128001 for open-end generation.\n"
     ]
    },
    {
     "name": "stdout",
     "output_type": "stream",
     "text": [
      "Computing scores for cluster '4' of query = 'people enjoying'\n",
      "Loading already existing qs for the method 'initial-query'"
     ]
    },
    {
     "name": "stderr",
     "output_type": "stream",
     "text": [
      "Setting `pad_token_id` to `eos_token_id`:128001 for open-end generation.\n"
     ]
    },
    {
     "name": "stdout",
     "output_type": "stream",
     "text": [
      "Computing scores for cluster '6' of query = 'people enjoying'\n",
      "Loading already existing qs for the method 'initial-query'"
     ]
    },
    {
     "name": "stderr",
     "output_type": "stream",
     "text": [
      "Setting `pad_token_id` to `eos_token_id`:128001 for open-end generation.\n"
     ]
    },
    {
     "name": "stdout",
     "output_type": "stream",
     "text": [
      "Computing scores for cluster '7' of query = 'people enjoying'\n",
      "Loading already existing qs for the method 'initial-query'"
     ]
    },
    {
     "name": "stderr",
     "output_type": "stream",
     "text": [
      "Setting `pad_token_id` to `eos_token_id`:128001 for open-end generation.\n"
     ]
    },
    {
     "name": "stdout",
     "output_type": "stream",
     "text": [
      "Computing scores for cluster '0' of query = 'a portrait'\n",
      "[ndcg] [W] division by 0 [W]\n",
      "Loading already existing qs for the method 'initial-query'"
     ]
    },
    {
     "name": "stderr",
     "output_type": "stream",
     "text": [
      "Setting `pad_token_id` to `eos_token_id`:128001 for open-end generation.\n"
     ]
    },
    {
     "name": "stdout",
     "output_type": "stream",
     "text": [
      "Computing scores for cluster '1' of query = 'a portrait'\n",
      "Loading already existing qs for the method 'initial-query'"
     ]
    },
    {
     "name": "stderr",
     "output_type": "stream",
     "text": [
      "Setting `pad_token_id` to `eos_token_id`:128001 for open-end generation.\n"
     ]
    },
    {
     "name": "stdout",
     "output_type": "stream",
     "text": [
      "Computing scores for cluster '2' of query = 'a portrait'\n",
      "Loading already existing qs for the method 'initial-query'"
     ]
    },
    {
     "name": "stderr",
     "output_type": "stream",
     "text": [
      "Setting `pad_token_id` to `eos_token_id`:128001 for open-end generation.\n"
     ]
    },
    {
     "name": "stdout",
     "output_type": "stream",
     "text": [
      "Computing scores for cluster '3' of query = 'a portrait'\n",
      "Loading already existing qs for the method 'initial-query'"
     ]
    },
    {
     "name": "stderr",
     "output_type": "stream",
     "text": [
      "Setting `pad_token_id` to `eos_token_id`:128001 for open-end generation.\n"
     ]
    },
    {
     "name": "stdout",
     "output_type": "stream",
     "text": [
      "Computing scores for cluster '4' of query = 'a portrait'\n",
      "Loading already existing qs for the method 'initial-query'"
     ]
    },
    {
     "name": "stderr",
     "output_type": "stream",
     "text": [
      "Setting `pad_token_id` to `eos_token_id`:128001 for open-end generation.\n"
     ]
    },
    {
     "name": "stdout",
     "output_type": "stream",
     "text": [
      "Computing scores for cluster '0' of query = 'person at the phone'\n",
      "Loading already existing qs for the method 'initial-query'"
     ]
    },
    {
     "name": "stderr",
     "output_type": "stream",
     "text": [
      "Setting `pad_token_id` to `eos_token_id`:128001 for open-end generation.\n"
     ]
    },
    {
     "name": "stdout",
     "output_type": "stream",
     "text": [
      "Computing scores for cluster '1' of query = 'person at the phone'\n",
      "Loading already existing qs for the method 'initial-query'"
     ]
    },
    {
     "name": "stderr",
     "output_type": "stream",
     "text": [
      "Setting `pad_token_id` to `eos_token_id`:128001 for open-end generation.\n"
     ]
    },
    {
     "name": "stdout",
     "output_type": "stream",
     "text": [
      "Computing scores for cluster '2' of query = 'person at the phone'\n",
      "Loading already existing qs for the method 'initial-query'"
     ]
    },
    {
     "name": "stderr",
     "output_type": "stream",
     "text": [
      "Setting `pad_token_id` to `eos_token_id`:128001 for open-end generation.\n"
     ]
    },
    {
     "name": "stdout",
     "output_type": "stream",
     "text": [
      "Computing scores for cluster '3' of query = 'person at the phone'\n",
      "Loading already existing qs for the method 'initial-query'"
     ]
    },
    {
     "name": "stderr",
     "output_type": "stream",
     "text": [
      "Setting `pad_token_id` to `eos_token_id`:128001 for open-end generation.\n"
     ]
    },
    {
     "name": "stdout",
     "output_type": "stream",
     "text": [
      "Computing scores for cluster '0' of query = 'football'\n",
      "Loading already existing qs for the method 'initial-query'"
     ]
    },
    {
     "name": "stderr",
     "output_type": "stream",
     "text": [
      "Setting `pad_token_id` to `eos_token_id`:128001 for open-end generation.\n"
     ]
    },
    {
     "name": "stdout",
     "output_type": "stream",
     "text": [
      "Computing scores for cluster '1' of query = 'football'\n",
      "Loading already existing qs for the method 'initial-query'"
     ]
    },
    {
     "name": "stderr",
     "output_type": "stream",
     "text": [
      "Setting `pad_token_id` to `eos_token_id`:128001 for open-end generation.\n"
     ]
    },
    {
     "name": "stdout",
     "output_type": "stream",
     "text": [
      "Computing scores for cluster '2' of query = 'football'\n",
      "Loading already existing qs for the method 'initial-query'"
     ]
    },
    {
     "name": "stderr",
     "output_type": "stream",
     "text": [
      "Setting `pad_token_id` to `eos_token_id`:128001 for open-end generation.\n"
     ]
    },
    {
     "name": "stdout",
     "output_type": "stream",
     "text": [
      "Computing scores for cluster '3' of query = 'football'\n",
      "Loading already existing qs for the method 'initial-query'"
     ]
    },
    {
     "name": "stderr",
     "output_type": "stream",
     "text": [
      "Setting `pad_token_id` to `eos_token_id`:128001 for open-end generation.\n"
     ]
    },
    {
     "name": "stdout",
     "output_type": "stream",
     "text": [
      "Computing scores for cluster '0' of query = 'dish of food'\n",
      "Loading already existing qs for the method 'initial-query'"
     ]
    },
    {
     "name": "stderr",
     "output_type": "stream",
     "text": [
      "Setting `pad_token_id` to `eos_token_id`:128001 for open-end generation.\n"
     ]
    },
    {
     "name": "stdout",
     "output_type": "stream",
     "text": [
      "Computing scores for cluster '1' of query = 'dish of food'\n",
      "Loading already existing qs for the method 'initial-query'"
     ]
    },
    {
     "name": "stderr",
     "output_type": "stream",
     "text": [
      "Setting `pad_token_id` to `eos_token_id`:128001 for open-end generation.\n"
     ]
    },
    {
     "name": "stdout",
     "output_type": "stream",
     "text": [
      "Computing scores for cluster '2' of query = 'dish of food'\n",
      "Loading already existing qs for the method 'initial-query'"
     ]
    },
    {
     "name": "stderr",
     "output_type": "stream",
     "text": [
      "Setting `pad_token_id` to `eos_token_id`:128001 for open-end generation.\n"
     ]
    },
    {
     "name": "stdout",
     "output_type": "stream",
     "text": [
      "Computing scores for cluster '3' of query = 'dish of food'\n",
      "Loading already existing qs for the method 'initial-query'"
     ]
    },
    {
     "name": "stderr",
     "output_type": "stream",
     "text": [
      "Setting `pad_token_id` to `eos_token_id`:128001 for open-end generation.\n"
     ]
    },
    {
     "name": "stdout",
     "output_type": "stream",
     "text": [
      "Computing scores for cluster '4' of query = 'dish of food'\n",
      "Loading already existing qs for the method 'initial-query'"
     ]
    },
    {
     "name": "stderr",
     "output_type": "stream",
     "text": [
      "Setting `pad_token_id` to `eos_token_id`:128001 for open-end generation.\n"
     ]
    },
    {
     "name": "stdout",
     "output_type": "stream",
     "text": [
      "Computing scores for cluster '5' of query = 'dish of food'\n",
      "Loading already existing qs for the method 'initial-query'"
     ]
    },
    {
     "name": "stderr",
     "output_type": "stream",
     "text": [
      "Setting `pad_token_id` to `eos_token_id`:128001 for open-end generation.\n"
     ]
    },
    {
     "name": "stdout",
     "output_type": "stream",
     "text": [
      "Computing scores for cluster '6' of query = 'dish of food'\n",
      "Loading already existing qs for the method 'initial-query'"
     ]
    },
    {
     "name": "stderr",
     "output_type": "stream",
     "text": [
      "Setting `pad_token_id` to `eos_token_id`:128001 for open-end generation.\n"
     ]
    },
    {
     "name": "stdout",
     "output_type": "stream",
     "text": [
      "Computing scores for cluster '0' of query = 'playing videogames'\n",
      "Loading already existing qs for the method 'initial-query'"
     ]
    },
    {
     "name": "stderr",
     "output_type": "stream",
     "text": [
      "Setting `pad_token_id` to `eos_token_id`:128001 for open-end generation.\n"
     ]
    },
    {
     "name": "stdout",
     "output_type": "stream",
     "text": [
      "Computing scores for cluster '1' of query = 'playing videogames'\n",
      "Loading already existing qs for the method 'initial-query'"
     ]
    },
    {
     "name": "stderr",
     "output_type": "stream",
     "text": [
      "Setting `pad_token_id` to `eos_token_id`:128001 for open-end generation.\n"
     ]
    },
    {
     "name": "stdout",
     "output_type": "stream",
     "text": [
      "Computing scores for cluster '2' of query = 'playing videogames'\n",
      "Loading already existing qs for the method 'initial-query'"
     ]
    },
    {
     "name": "stderr",
     "output_type": "stream",
     "text": [
      "Setting `pad_token_id` to `eos_token_id`:128001 for open-end generation.\n"
     ]
    },
    {
     "name": "stdout",
     "output_type": "stream",
     "text": [
      "Computing scores for cluster '3' of query = 'playing videogames'\n",
      "Loading already existing qs for the method 'initial-query'"
     ]
    },
    {
     "name": "stderr",
     "output_type": "stream",
     "text": [
      "Setting `pad_token_id` to `eos_token_id`:128001 for open-end generation.\n"
     ]
    },
    {
     "name": "stdout",
     "output_type": "stream",
     "text": [
      "Computing scores for cluster '4' of query = 'playing videogames'\n",
      "Loading already existing qs for the method 'initial-query'"
     ]
    },
    {
     "name": "stderr",
     "output_type": "stream",
     "text": [
      "Setting `pad_token_id` to `eos_token_id`:128001 for open-end generation.\n"
     ]
    },
    {
     "name": "stdout",
     "output_type": "stream",
     "text": [
      "Computing scores for cluster '5' of query = 'playing videogames'\n",
      "Loading already existing qs for the method 'initial-query'"
     ]
    },
    {
     "name": "stderr",
     "output_type": "stream",
     "text": [
      "Setting `pad_token_id` to `eos_token_id`:128001 for open-end generation.\n"
     ]
    },
    {
     "name": "stdout",
     "output_type": "stream",
     "text": [
      "Computing scores for cluster '6' of query = 'playing videogames'\n",
      "Loading already existing qs for the method 'initial-query'"
     ]
    },
    {
     "name": "stderr",
     "output_type": "stream",
     "text": [
      "Setting `pad_token_id` to `eos_token_id`:128001 for open-end generation.\n"
     ]
    },
    {
     "name": "stdout",
     "output_type": "stream",
     "text": [
      "Computing scores for cluster '7' of query = 'playing videogames'\n",
      "Loading already existing qs for the method 'initial-query'"
     ]
    },
    {
     "name": "stderr",
     "output_type": "stream",
     "text": [
      "Setting `pad_token_id` to `eos_token_id`:128001 for open-end generation.\n"
     ]
    },
    {
     "name": "stdout",
     "output_type": "stream",
     "text": [
      "Computing scores for cluster '8' of query = 'playing videogames'\n",
      "Loading already existing qs for the method 'initial-query'"
     ]
    },
    {
     "name": "stderr",
     "output_type": "stream",
     "text": [
      "Setting `pad_token_id` to `eos_token_id`:128001 for open-end generation.\n"
     ]
    },
    {
     "name": "stdout",
     "output_type": "stream",
     "text": [
      "Computing scores for cluster '9' of query = 'playing videogames'\n",
      "Loading already existing qs for the method 'initial-query'"
     ]
    },
    {
     "name": "stderr",
     "output_type": "stream",
     "text": [
      "Setting `pad_token_id` to `eos_token_id`:128001 for open-end generation.\n"
     ]
    },
    {
     "name": "stdout",
     "output_type": "stream",
     "text": [
      "Computing scores for cluster '0' of query = 'sunrise'\n",
      "Loading already existing qs for the method 'initial-query'"
     ]
    },
    {
     "name": "stderr",
     "output_type": "stream",
     "text": [
      "Setting `pad_token_id` to `eos_token_id`:128001 for open-end generation.\n"
     ]
    },
    {
     "name": "stdout",
     "output_type": "stream",
     "text": [
      "Computing scores for cluster '1' of query = 'sunrise'\n",
      "Loading already existing qs for the method 'initial-query'"
     ]
    },
    {
     "name": "stderr",
     "output_type": "stream",
     "text": [
      "Setting `pad_token_id` to `eos_token_id`:128001 for open-end generation.\n"
     ]
    },
    {
     "name": "stdout",
     "output_type": "stream",
     "text": [
      "Computing scores for cluster '2' of query = 'sunrise'\n",
      "Loading already existing qs for the method 'initial-query'"
     ]
    },
    {
     "name": "stderr",
     "output_type": "stream",
     "text": [
      "Setting `pad_token_id` to `eos_token_id`:128001 for open-end generation.\n"
     ]
    },
    {
     "name": "stdout",
     "output_type": "stream",
     "text": [
      "Computing scores for cluster '3' of query = 'sunrise'\n",
      "Loading already existing qs for the method 'initial-query'"
     ]
    },
    {
     "name": "stderr",
     "output_type": "stream",
     "text": [
      "Setting `pad_token_id` to `eos_token_id`:128001 for open-end generation.\n"
     ]
    },
    {
     "name": "stdout",
     "output_type": "stream",
     "text": [
      "Computing scores for cluster '0' of query = 'a woman in the city'\n",
      "Loading already existing qs for the method 'initial-query'"
     ]
    },
    {
     "name": "stderr",
     "output_type": "stream",
     "text": [
      "Setting `pad_token_id` to `eos_token_id`:128001 for open-end generation.\n"
     ]
    },
    {
     "name": "stdout",
     "output_type": "stream",
     "text": [
      "Computing scores for cluster '1' of query = 'a woman in the city'\n",
      "Loading already existing qs for the method 'initial-query'"
     ]
    },
    {
     "name": "stderr",
     "output_type": "stream",
     "text": [
      "Setting `pad_token_id` to `eos_token_id`:128001 for open-end generation.\n"
     ]
    },
    {
     "name": "stdout",
     "output_type": "stream",
     "text": [
      "Computing scores for cluster '2' of query = 'a woman in the city'\n",
      "Loading already existing qs for the method 'initial-query'"
     ]
    },
    {
     "name": "stderr",
     "output_type": "stream",
     "text": [
      "Setting `pad_token_id` to `eos_token_id`:128001 for open-end generation.\n"
     ]
    },
    {
     "name": "stdout",
     "output_type": "stream",
     "text": [
      "Computing scores for cluster '3' of query = 'a woman in the city'\n",
      "Loading already existing qs for the method 'initial-query'"
     ]
    },
    {
     "name": "stderr",
     "output_type": "stream",
     "text": [
      "Setting `pad_token_id` to `eos_token_id`:128001 for open-end generation.\n"
     ]
    },
    {
     "name": "stdout",
     "output_type": "stream",
     "text": [
      "Computing scores for cluster '4' of query = 'a woman in the city'\n",
      "Loading already existing qs for the method 'initial-query'"
     ]
    },
    {
     "name": "stderr",
     "output_type": "stream",
     "text": [
      "Setting `pad_token_id` to `eos_token_id`:128001 for open-end generation.\n"
     ]
    },
    {
     "name": "stdout",
     "output_type": "stream",
     "text": [
      "Computing scores for cluster '0' of query = 'a sport race'\n",
      "Loading already existing qs for the method 'initial-query'"
     ]
    },
    {
     "name": "stderr",
     "output_type": "stream",
     "text": [
      "Setting `pad_token_id` to `eos_token_id`:128001 for open-end generation.\n"
     ]
    },
    {
     "name": "stdout",
     "output_type": "stream",
     "text": [
      "Computing scores for cluster '1' of query = 'a sport race'\n",
      "Loading already existing qs for the method 'initial-query'"
     ]
    },
    {
     "name": "stderr",
     "output_type": "stream",
     "text": [
      "Setting `pad_token_id` to `eos_token_id`:128001 for open-end generation.\n"
     ]
    },
    {
     "name": "stdout",
     "output_type": "stream",
     "text": [
      "Computing scores for cluster '2' of query = 'a sport race'\n",
      "Loading already existing qs for the method 'initial-query'"
     ]
    },
    {
     "name": "stderr",
     "output_type": "stream",
     "text": [
      "Setting `pad_token_id` to `eos_token_id`:128001 for open-end generation.\n"
     ]
    },
    {
     "name": "stdout",
     "output_type": "stream",
     "text": [
      "Computing scores for cluster '3' of query = 'a sport race'\n",
      "Loading already existing qs for the method 'initial-query'"
     ]
    },
    {
     "name": "stderr",
     "output_type": "stream",
     "text": [
      "Setting `pad_token_id` to `eos_token_id`:128001 for open-end generation.\n"
     ]
    },
    {
     "name": "stdout",
     "output_type": "stream",
     "text": [
      "Computing scores for cluster '4' of query = 'a sport race'\n",
      "Loading already existing qs for the method 'initial-query'"
     ]
    },
    {
     "name": "stderr",
     "output_type": "stream",
     "text": [
      "Setting `pad_token_id` to `eos_token_id`:128001 for open-end generation.\n"
     ]
    },
    {
     "name": "stdout",
     "output_type": "stream",
     "text": [
      "Computing scores for cluster '0' of query = 'ice cream'\n",
      "Loading already existing qs for the method 'initial-query'"
     ]
    },
    {
     "name": "stderr",
     "output_type": "stream",
     "text": [
      "Setting `pad_token_id` to `eos_token_id`:128001 for open-end generation.\n"
     ]
    },
    {
     "name": "stdout",
     "output_type": "stream",
     "text": [
      "Computing scores for cluster '1' of query = 'ice cream'\n",
      "Loading already existing qs for the method 'initial-query'"
     ]
    },
    {
     "name": "stderr",
     "output_type": "stream",
     "text": [
      "Setting `pad_token_id` to `eos_token_id`:128001 for open-end generation.\n"
     ]
    },
    {
     "name": "stdout",
     "output_type": "stream",
     "text": [
      "Computing scores for cluster '2' of query = 'ice cream'\n",
      "Loading already existing qs for the method 'initial-query'"
     ]
    },
    {
     "name": "stderr",
     "output_type": "stream",
     "text": [
      "Setting `pad_token_id` to `eos_token_id`:128001 for open-end generation.\n"
     ]
    },
    {
     "name": "stdout",
     "output_type": "stream",
     "text": [
      "Computing scores for cluster '3' of query = 'ice cream'\n",
      "Loading already existing qs for the method 'initial-query'"
     ]
    },
    {
     "name": "stderr",
     "output_type": "stream",
     "text": [
      "Setting `pad_token_id` to `eos_token_id`:128001 for open-end generation.\n"
     ]
    },
    {
     "name": "stdout",
     "output_type": "stream",
     "text": [
      "Computing scores for cluster '0' of query = 'police'\n",
      "Loading already existing qs for the method 'initial-query'"
     ]
    },
    {
     "name": "stderr",
     "output_type": "stream",
     "text": [
      "Setting `pad_token_id` to `eos_token_id`:128001 for open-end generation.\n"
     ]
    },
    {
     "name": "stdout",
     "output_type": "stream",
     "text": [
      "Computing scores for cluster '1' of query = 'police'\n",
      "Loading already existing qs for the method 'initial-query'"
     ]
    },
    {
     "name": "stderr",
     "output_type": "stream",
     "text": [
      "Setting `pad_token_id` to `eos_token_id`:128001 for open-end generation.\n"
     ]
    },
    {
     "name": "stdout",
     "output_type": "stream",
     "text": [
      "Computing scores for cluster '2' of query = 'police'\n",
      "Loading already existing qs for the method 'initial-query'"
     ]
    },
    {
     "name": "stderr",
     "output_type": "stream",
     "text": [
      "Setting `pad_token_id` to `eos_token_id`:128001 for open-end generation.\n"
     ]
    },
    {
     "name": "stdout",
     "output_type": "stream",
     "text": [
      "Computing scores for cluster '3' of query = 'police'\n",
      "Loading already existing qs for the method 'initial-query'"
     ]
    },
    {
     "name": "stderr",
     "output_type": "stream",
     "text": [
      "Setting `pad_token_id` to `eos_token_id`:128001 for open-end generation.\n"
     ]
    },
    {
     "name": "stdout",
     "output_type": "stream",
     "text": [
      "Computing scores for cluster '4' of query = 'police'\n",
      "Loading already existing qs for the method 'initial-query'"
     ]
    },
    {
     "name": "stderr",
     "output_type": "stream",
     "text": [
      "Setting `pad_token_id` to `eos_token_id`:128001 for open-end generation.\n"
     ]
    },
    {
     "name": "stdout",
     "output_type": "stream",
     "text": [
      "Computing scores for cluster '0' of query = 'playing frisbee'\n",
      "Loading already existing qs for the method 'initial-query'"
     ]
    },
    {
     "name": "stderr",
     "output_type": "stream",
     "text": [
      "Setting `pad_token_id` to `eos_token_id`:128001 for open-end generation.\n"
     ]
    },
    {
     "name": "stdout",
     "output_type": "stream",
     "text": [
      "Computing scores for cluster '1' of query = 'playing frisbee'\n",
      "Loading already existing qs for the method 'initial-query'"
     ]
    },
    {
     "name": "stderr",
     "output_type": "stream",
     "text": [
      "Setting `pad_token_id` to `eos_token_id`:128001 for open-end generation.\n"
     ]
    },
    {
     "name": "stdout",
     "output_type": "stream",
     "text": [
      "Computing scores for cluster '2' of query = 'playing frisbee'\n",
      "Loading already existing qs for the method 'initial-query'"
     ]
    },
    {
     "name": "stderr",
     "output_type": "stream",
     "text": [
      "Setting `pad_token_id` to `eos_token_id`:128001 for open-end generation.\n"
     ]
    },
    {
     "name": "stdout",
     "output_type": "stream",
     "text": [
      "Computing scores for cluster '0' of query = 'happiness'\n",
      "Loading already existing qs for the method 'initial-query'"
     ]
    },
    {
     "name": "stderr",
     "output_type": "stream",
     "text": [
      "Setting `pad_token_id` to `eos_token_id`:128001 for open-end generation.\n"
     ]
    },
    {
     "name": "stdout",
     "output_type": "stream",
     "text": [
      "Computing scores for cluster '1' of query = 'happiness'\n",
      "Loading already existing qs for the method 'initial-query'"
     ]
    },
    {
     "name": "stderr",
     "output_type": "stream",
     "text": [
      "Setting `pad_token_id` to `eos_token_id`:128001 for open-end generation.\n"
     ]
    },
    {
     "name": "stdout",
     "output_type": "stream",
     "text": [
      "Computing scores for cluster '2' of query = 'happiness'\n",
      "Loading already existing qs for the method 'initial-query'"
     ]
    },
    {
     "name": "stderr",
     "output_type": "stream",
     "text": [
      "Setting `pad_token_id` to `eos_token_id`:128001 for open-end generation.\n"
     ]
    },
    {
     "name": "stdout",
     "output_type": "stream",
     "text": [
      "Computing scores for cluster '3' of query = 'happiness'\n",
      "Loading already existing qs for the method 'initial-query'"
     ]
    },
    {
     "name": "stderr",
     "output_type": "stream",
     "text": [
      "Setting `pad_token_id` to `eos_token_id`:128001 for open-end generation.\n"
     ]
    },
    {
     "name": "stdout",
     "output_type": "stream",
     "text": [
      "Computing scores for cluster '4' of query = 'happiness'\n",
      "Loading already existing qs for the method 'initial-query'"
     ]
    },
    {
     "name": "stderr",
     "output_type": "stream",
     "text": [
      "Setting `pad_token_id` to `eos_token_id`:128001 for open-end generation.\n"
     ]
    },
    {
     "name": "stdout",
     "output_type": "stream",
     "text": [
      "Computing scores for cluster '5' of query = 'happiness'\n",
      "[ndcg] [W] division by 0 [W]\n",
      "[ndcg] [W] division by 0 [W]\n",
      "Loading already existing qs for the method 'initial-query'"
     ]
    },
    {
     "name": "stderr",
     "output_type": "stream",
     "text": [
      "Setting `pad_token_id` to `eos_token_id`:128001 for open-end generation.\n"
     ]
    },
    {
     "name": "stdout",
     "output_type": "stream",
     "text": [
      "Computing scores for cluster '6' of query = 'happiness'\n",
      "Loading already existing qs for the method 'initial-query'"
     ]
    },
    {
     "name": "stderr",
     "output_type": "stream",
     "text": [
      "Setting `pad_token_id` to `eos_token_id`:128001 for open-end generation.\n"
     ]
    },
    {
     "name": "stdout",
     "output_type": "stream",
     "text": [
      "Computing scores for cluster '7' of query = 'happiness'\n",
      "Loading already existing qs for the method 'initial-query'"
     ]
    },
    {
     "name": "stderr",
     "output_type": "stream",
     "text": [
      "Setting `pad_token_id` to `eos_token_id`:128001 for open-end generation.\n"
     ]
    },
    {
     "name": "stdout",
     "output_type": "stream",
     "text": [
      "Computing scores for cluster '0' of query = 'a man with water'\n",
      "Loading already existing qs for the method 'initial-query'"
     ]
    },
    {
     "name": "stderr",
     "output_type": "stream",
     "text": [
      "Setting `pad_token_id` to `eos_token_id`:128001 for open-end generation.\n"
     ]
    },
    {
     "name": "stdout",
     "output_type": "stream",
     "text": [
      "Computing scores for cluster '1' of query = 'a man with water'\n",
      "Loading already existing qs for the method 'initial-query'"
     ]
    },
    {
     "name": "stderr",
     "output_type": "stream",
     "text": [
      "Setting `pad_token_id` to `eos_token_id`:128001 for open-end generation.\n"
     ]
    },
    {
     "name": "stdout",
     "output_type": "stream",
     "text": [
      "Computing scores for cluster '2' of query = 'a man with water'\n",
      "Loading already existing qs for the method 'initial-query'"
     ]
    },
    {
     "name": "stderr",
     "output_type": "stream",
     "text": [
      "Setting `pad_token_id` to `eos_token_id`:128001 for open-end generation.\n"
     ]
    },
    {
     "name": "stdout",
     "output_type": "stream",
     "text": [
      "Computing scores for cluster '3' of query = 'a man with water'\n",
      "Loading already existing qs for the method 'initial-query'"
     ]
    },
    {
     "name": "stderr",
     "output_type": "stream",
     "text": [
      "Setting `pad_token_id` to `eos_token_id`:128001 for open-end generation.\n"
     ]
    },
    {
     "name": "stdout",
     "output_type": "stream",
     "text": [
      "Computing scores for cluster '4' of query = 'a man with water'\n",
      "Loading already existing qs for the method 'initial-query'"
     ]
    },
    {
     "name": "stderr",
     "output_type": "stream",
     "text": [
      "Setting `pad_token_id` to `eos_token_id`:128001 for open-end generation.\n"
     ]
    },
    {
     "name": "stdout",
     "output_type": "stream",
     "text": [
      "Computing scores for cluster '5' of query = 'a man with water'\n",
      "Loading already existing qs for the method 'initial-query'"
     ]
    },
    {
     "name": "stderr",
     "output_type": "stream",
     "text": [
      "Setting `pad_token_id` to `eos_token_id`:128001 for open-end generation.\n"
     ]
    },
    {
     "name": "stdout",
     "output_type": "stream",
     "text": [
      "Computing scores for cluster '6' of query = 'a man with water'\n",
      "Loading already existing qs for the method 'initial-query'"
     ]
    },
    {
     "name": "stderr",
     "output_type": "stream",
     "text": [
      "Setting `pad_token_id` to `eos_token_id`:128001 for open-end generation.\n"
     ]
    },
    {
     "name": "stdout",
     "output_type": "stream",
     "text": [
      "Computing scores for cluster '7' of query = 'a man with water'\n",
      "Loading already existing qs for the method 'initial-query'"
     ]
    },
    {
     "name": "stderr",
     "output_type": "stream",
     "text": [
      "Setting `pad_token_id` to `eos_token_id`:128001 for open-end generation.\n"
     ]
    },
    {
     "name": "stdout",
     "output_type": "stream",
     "text": [
      "Computing scores for cluster '0' of query = 'backpack'\n",
      "Loading already existing qs for the method 'initial-query'"
     ]
    },
    {
     "name": "stderr",
     "output_type": "stream",
     "text": [
      "Setting `pad_token_id` to `eos_token_id`:128001 for open-end generation.\n"
     ]
    },
    {
     "name": "stdout",
     "output_type": "stream",
     "text": [
      "Computing scores for cluster '1' of query = 'backpack'\n",
      "Loading already existing qs for the method 'initial-query'"
     ]
    },
    {
     "name": "stderr",
     "output_type": "stream",
     "text": [
      "Setting `pad_token_id` to `eos_token_id`:128001 for open-end generation.\n"
     ]
    },
    {
     "name": "stdout",
     "output_type": "stream",
     "text": [
      "Computing scores for cluster '2' of query = 'backpack'\n",
      "Loading already existing qs for the method 'initial-query'"
     ]
    },
    {
     "name": "stderr",
     "output_type": "stream",
     "text": [
      "Setting `pad_token_id` to `eos_token_id`:128001 for open-end generation.\n"
     ]
    },
    {
     "name": "stdout",
     "output_type": "stream",
     "text": [
      "Computing scores for cluster '3' of query = 'backpack'\n",
      "Loading already existing qs for the method 'initial-query'"
     ]
    },
    {
     "name": "stderr",
     "output_type": "stream",
     "text": [
      "Setting `pad_token_id` to `eos_token_id`:128001 for open-end generation.\n"
     ]
    },
    {
     "name": "stdout",
     "output_type": "stream",
     "text": [
      "Computing scores for cluster '4' of query = 'backpack'\n",
      "Loading already existing qs for the method 'initial-query'"
     ]
    },
    {
     "name": "stderr",
     "output_type": "stream",
     "text": [
      "Setting `pad_token_id` to `eos_token_id`:128001 for open-end generation.\n"
     ]
    },
    {
     "name": "stdout",
     "output_type": "stream",
     "text": [
      "Computing scores for cluster '0' of query = 'clock'\n",
      "Loading already existing qs for the method 'initial-query'"
     ]
    },
    {
     "name": "stderr",
     "output_type": "stream",
     "text": [
      "Setting `pad_token_id` to `eos_token_id`:128001 for open-end generation.\n"
     ]
    },
    {
     "name": "stdout",
     "output_type": "stream",
     "text": [
      "Computing scores for cluster '1' of query = 'clock'\n",
      "Loading already existing qs for the method 'initial-query'"
     ]
    },
    {
     "name": "stderr",
     "output_type": "stream",
     "text": [
      "Setting `pad_token_id` to `eos_token_id`:128001 for open-end generation.\n"
     ]
    },
    {
     "name": "stdout",
     "output_type": "stream",
     "text": [
      "Computing scores for cluster '2' of query = 'clock'\n",
      "Loading already existing qs for the method 'initial-query'"
     ]
    },
    {
     "name": "stderr",
     "output_type": "stream",
     "text": [
      "Setting `pad_token_id` to `eos_token_id`:128001 for open-end generation.\n"
     ]
    },
    {
     "name": "stdout",
     "output_type": "stream",
     "text": [
      "Computing scores for cluster '3' of query = 'clock'\n",
      "Loading already existing qs for the method 'initial-query'"
     ]
    },
    {
     "name": "stderr",
     "output_type": "stream",
     "text": [
      "Setting `pad_token_id` to `eos_token_id`:128001 for open-end generation.\n"
     ]
    },
    {
     "name": "stdout",
     "output_type": "stream",
     "text": [
      "Computing scores for cluster '4' of query = 'clock'\n",
      "Loading already existing qs for the method 'initial-query'3-8b-qe-few-shot-4'"
     ]
    },
    {
     "name": "stderr",
     "output_type": "stream",
     "text": [
      "Setting `pad_token_id` to `eos_token_id`:128001 for open-end generation.\n"
     ]
    },
    {
     "name": "stdout",
     "output_type": "stream",
     "text": [
      "Computing scores for cluster '0' of query = 'italian car'\n",
      "Loading already existing qs for the method 'initial-query'"
     ]
    },
    {
     "name": "stderr",
     "output_type": "stream",
     "text": [
      "Setting `pad_token_id` to `eos_token_id`:128001 for open-end generation.\n"
     ]
    },
    {
     "name": "stdout",
     "output_type": "stream",
     "text": [
      "Computing scores for cluster '1' of query = 'italian car'\n",
      "Loading already existing qs for the method 'initial-query'"
     ]
    },
    {
     "name": "stderr",
     "output_type": "stream",
     "text": [
      "Setting `pad_token_id` to `eos_token_id`:128001 for open-end generation.\n"
     ]
    },
    {
     "name": "stdout",
     "output_type": "stream",
     "text": [
      "Computing scores for cluster '2' of query = 'italian car'\n",
      "Loading already existing qs for the method 'initial-query'"
     ]
    },
    {
     "name": "stderr",
     "output_type": "stream",
     "text": [
      "Setting `pad_token_id` to `eos_token_id`:128001 for open-end generation.\n"
     ]
    },
    {
     "name": "stdout",
     "output_type": "stream",
     "text": [
      "Computing scores for cluster '3' of query = 'italian car'\n",
      "Loading already existing qs for the method 'initial-query'"
     ]
    },
    {
     "name": "stderr",
     "output_type": "stream",
     "text": [
      "Setting `pad_token_id` to `eos_token_id`:128001 for open-end generation.\n"
     ]
    },
    {
     "name": "stdout",
     "output_type": "stream",
     "text": [
      "Computing scores for cluster '0' of query = 'cat resting'\n",
      "Loading already existing qs for the method 'initial-query'"
     ]
    },
    {
     "name": "stderr",
     "output_type": "stream",
     "text": [
      "Setting `pad_token_id` to `eos_token_id`:128001 for open-end generation.\n"
     ]
    },
    {
     "name": "stdout",
     "output_type": "stream",
     "text": [
      "Computing scores for cluster '1' of query = 'cat resting'\n",
      "Loading already existing qs for the method 'initial-query'"
     ]
    },
    {
     "name": "stderr",
     "output_type": "stream",
     "text": [
      "Setting `pad_token_id` to `eos_token_id`:128001 for open-end generation.\n"
     ]
    },
    {
     "name": "stdout",
     "output_type": "stream",
     "text": [
      "Computing scores for cluster '2' of query = 'cat resting'\n",
      "Loading already existing qs for the method 'initial-query'"
     ]
    },
    {
     "name": "stderr",
     "output_type": "stream",
     "text": [
      "Setting `pad_token_id` to `eos_token_id`:128001 for open-end generation.\n"
     ]
    },
    {
     "name": "stdout",
     "output_type": "stream",
     "text": [
      "Computing scores for cluster '3' of query = 'cat resting'\n",
      "Loading already existing qs for the method 'initial-query'"
     ]
    },
    {
     "name": "stderr",
     "output_type": "stream",
     "text": [
      "Setting `pad_token_id` to `eos_token_id`:128001 for open-end generation.\n"
     ]
    },
    {
     "name": "stdout",
     "output_type": "stream",
     "text": [
      "Computing scores for cluster '4' of query = 'cat resting'\n",
      "Loading already existing qs for the method 'initial-query'"
     ]
    },
    {
     "name": "stderr",
     "output_type": "stream",
     "text": [
      "Setting `pad_token_id` to `eos_token_id`:128001 for open-end generation.\n"
     ]
    },
    {
     "name": "stdout",
     "output_type": "stream",
     "text": [
      "Computing scores for cluster '5' of query = 'cat resting'\n",
      "Loading already existing qs for the method 'initial-query'"
     ]
    },
    {
     "name": "stderr",
     "output_type": "stream",
     "text": [
      "Setting `pad_token_id` to `eos_token_id`:128001 for open-end generation.\n"
     ]
    },
    {
     "name": "stdout",
     "output_type": "stream",
     "text": [
      "Computing scores for cluster '0' of query = 'glass bottle'\n",
      "Loading already existing qs for the method 'initial-query'"
     ]
    },
    {
     "name": "stderr",
     "output_type": "stream",
     "text": [
      "Setting `pad_token_id` to `eos_token_id`:128001 for open-end generation.\n"
     ]
    },
    {
     "name": "stdout",
     "output_type": "stream",
     "text": [
      "Computing scores for cluster '1' of query = 'glass bottle'\n",
      "Loading already existing qs for the method 'initial-query'"
     ]
    },
    {
     "name": "stderr",
     "output_type": "stream",
     "text": [
      "Setting `pad_token_id` to `eos_token_id`:128001 for open-end generation.\n"
     ]
    },
    {
     "name": "stdout",
     "output_type": "stream",
     "text": [
      "Computing scores for cluster '2' of query = 'glass bottle'\n",
      "Loading already existing qs for the method 'initial-query'"
     ]
    },
    {
     "name": "stderr",
     "output_type": "stream",
     "text": [
      "Setting `pad_token_id` to `eos_token_id`:128001 for open-end generation.\n"
     ]
    },
    {
     "name": "stdout",
     "output_type": "stream",
     "text": [
      "Computing scores for cluster '3' of query = 'glass bottle'\n",
      "Loading already existing qs for the method 'initial-query'"
     ]
    },
    {
     "name": "stderr",
     "output_type": "stream",
     "text": [
      "Setting `pad_token_id` to `eos_token_id`:128001 for open-end generation.\n"
     ]
    },
    {
     "name": "stdout",
     "output_type": "stream",
     "text": [
      "Computing scores for cluster '4' of query = 'glass bottle'\n",
      "Loading already existing qs for the method 'initial-query'"
     ]
    },
    {
     "name": "stderr",
     "output_type": "stream",
     "text": [
      "Setting `pad_token_id` to `eos_token_id`:128001 for open-end generation.\n"
     ]
    },
    {
     "name": "stdout",
     "output_type": "stream",
     "text": [
      "Computing scores for cluster '0' of query = 'tennis player'\n",
      "Loading already existing qs for the method 'initial-query'"
     ]
    },
    {
     "name": "stderr",
     "output_type": "stream",
     "text": [
      "Setting `pad_token_id` to `eos_token_id`:128001 for open-end generation.\n"
     ]
    },
    {
     "name": "stdout",
     "output_type": "stream",
     "text": [
      "Computing scores for cluster '1' of query = 'tennis player'\n",
      "Loading already existing qs for the method 'initial-query'"
     ]
    },
    {
     "name": "stderr",
     "output_type": "stream",
     "text": [
      "Setting `pad_token_id` to `eos_token_id`:128001 for open-end generation.\n"
     ]
    },
    {
     "name": "stdout",
     "output_type": "stream",
     "text": [
      "Computing scores for cluster '2' of query = 'tennis player'\n",
      "Loading already existing qs for the method 'initial-query'"
     ]
    },
    {
     "name": "stderr",
     "output_type": "stream",
     "text": [
      "Setting `pad_token_id` to `eos_token_id`:128001 for open-end generation.\n"
     ]
    },
    {
     "name": "stdout",
     "output_type": "stream",
     "text": [
      "Computing scores for cluster '3' of query = 'tennis player'\n",
      "Loading already existing qs for the method 'initial-query'"
     ]
    },
    {
     "name": "stderr",
     "output_type": "stream",
     "text": [
      "Setting `pad_token_id` to `eos_token_id`:128001 for open-end generation.\n"
     ]
    },
    {
     "name": "stdout",
     "output_type": "stream",
     "text": [
      "Computing scores for cluster '4' of query = 'tennis player'\n",
      "Loading already existing qs for the method 'initial-query'"
     ]
    },
    {
     "name": "stderr",
     "output_type": "stream",
     "text": [
      "Setting `pad_token_id` to `eos_token_id`:128001 for open-end generation.\n"
     ]
    },
    {
     "name": "stdout",
     "output_type": "stream",
     "text": [
      "Computing scores for cluster '5' of query = 'tennis player'\n",
      "Loading already existing qs for the method 'initial-query'"
     ]
    },
    {
     "name": "stderr",
     "output_type": "stream",
     "text": [
      "Setting `pad_token_id` to `eos_token_id`:128001 for open-end generation.\n"
     ]
    },
    {
     "name": "stdout",
     "output_type": "stream",
     "text": [
      "Computing scores for cluster '6' of query = 'tennis player'\n",
      "Loading already existing qs for the method 'initial-query'"
     ]
    },
    {
     "name": "stderr",
     "output_type": "stream",
     "text": [
      "Setting `pad_token_id` to `eos_token_id`:128001 for open-end generation.\n"
     ]
    },
    {
     "name": "stdout",
     "output_type": "stream",
     "text": [
      "Computing scores for cluster '7' of query = 'tennis player'\n",
      "Loading already existing qs for the method 'initial-query'"
     ]
    },
    {
     "name": "stderr",
     "output_type": "stream",
     "text": [
      "Setting `pad_token_id` to `eos_token_id`:128001 for open-end generation.\n"
     ]
    },
    {
     "name": "stdout",
     "output_type": "stream",
     "text": [
      "Computing scores for cluster '0' of query = 'road sign'\n",
      "Loading already existing qs for the method 'initial-query'"
     ]
    },
    {
     "name": "stderr",
     "output_type": "stream",
     "text": [
      "Setting `pad_token_id` to `eos_token_id`:128001 for open-end generation.\n"
     ]
    },
    {
     "name": "stdout",
     "output_type": "stream",
     "text": [
      "Computing scores for cluster '1' of query = 'road sign'\n",
      "Loading already existing qs for the method 'initial-query'"
     ]
    },
    {
     "name": "stderr",
     "output_type": "stream",
     "text": [
      "Setting `pad_token_id` to `eos_token_id`:128001 for open-end generation.\n"
     ]
    },
    {
     "name": "stdout",
     "output_type": "stream",
     "text": [
      "Computing scores for cluster '2' of query = 'road sign'\n",
      "Loading already existing qs for the method 'initial-query'"
     ]
    },
    {
     "name": "stderr",
     "output_type": "stream",
     "text": [
      "Setting `pad_token_id` to `eos_token_id`:128001 for open-end generation.\n"
     ]
    },
    {
     "name": "stdout",
     "output_type": "stream",
     "text": [
      "Computing scores for cluster '3' of query = 'road sign'\n",
      "Loading already existing qs for the method 'initial-query'"
     ]
    },
    {
     "name": "stderr",
     "output_type": "stream",
     "text": [
      "Setting `pad_token_id` to `eos_token_id`:128001 for open-end generation.\n"
     ]
    },
    {
     "name": "stdout",
     "output_type": "stream",
     "text": [
      "Computing scores for cluster '4' of query = 'road sign'\n",
      "Loading already existing qs for the method 'initial-query'"
     ]
    },
    {
     "name": "stderr",
     "output_type": "stream",
     "text": [
      "Setting `pad_token_id` to `eos_token_id`:128001 for open-end generation.\n"
     ]
    },
    {
     "name": "stdout",
     "output_type": "stream",
     "text": [
      "Computing scores for cluster '5' of query = 'road sign'\n",
      "Loading already existing qs for the method 'initial-query'"
     ]
    },
    {
     "name": "stderr",
     "output_type": "stream",
     "text": [
      "Setting `pad_token_id` to `eos_token_id`:128001 for open-end generation.\n"
     ]
    },
    {
     "name": "stdout",
     "output_type": "stream",
     "text": [
      "Computing scores for cluster '6' of query = 'road sign'\n",
      "Loading already existing qs for the method 'initial-query'"
     ]
    },
    {
     "name": "stderr",
     "output_type": "stream",
     "text": [
      "Setting `pad_token_id` to `eos_token_id`:128001 for open-end generation.\n"
     ]
    },
    {
     "name": "stdout",
     "output_type": "stream",
     "text": [
      "Computing scores for cluster '7' of query = 'road sign'\n",
      "Loading already existing qs for the method 'initial-query'"
     ]
    },
    {
     "name": "stderr",
     "output_type": "stream",
     "text": [
      "Setting `pad_token_id` to `eos_token_id`:128001 for open-end generation.\n"
     ]
    },
    {
     "name": "stdout",
     "output_type": "stream",
     "text": [
      "Computing scores for cluster '0' of query = 'mountain'\n",
      "Loading already existing qs for the method 'initial-query'"
     ]
    },
    {
     "name": "stderr",
     "output_type": "stream",
     "text": [
      "Setting `pad_token_id` to `eos_token_id`:128001 for open-end generation.\n"
     ]
    },
    {
     "name": "stdout",
     "output_type": "stream",
     "text": [
      "Computing scores for cluster '1' of query = 'mountain'\n",
      "Loading already existing qs for the method 'initial-query'"
     ]
    },
    {
     "name": "stderr",
     "output_type": "stream",
     "text": [
      "Setting `pad_token_id` to `eos_token_id`:128001 for open-end generation.\n"
     ]
    },
    {
     "name": "stdout",
     "output_type": "stream",
     "text": [
      "Computing scores for cluster '2' of query = 'mountain'\n",
      "Loading already existing qs for the method 'initial-query'"
     ]
    },
    {
     "name": "stderr",
     "output_type": "stream",
     "text": [
      "Setting `pad_token_id` to `eos_token_id`:128001 for open-end generation.\n"
     ]
    },
    {
     "name": "stdout",
     "output_type": "stream",
     "text": [
      "Computing scores for cluster '3' of query = 'mountain'\n",
      "Loading already existing qs for the method 'initial-query'"
     ]
    },
    {
     "name": "stderr",
     "output_type": "stream",
     "text": [
      "Setting `pad_token_id` to `eos_token_id`:128001 for open-end generation.\n"
     ]
    },
    {
     "name": "stdout",
     "output_type": "stream",
     "text": [
      "Computing scores for cluster '4' of query = 'mountain'\n",
      "Loading already existing qs for the method 'initial-query'"
     ]
    },
    {
     "name": "stderr",
     "output_type": "stream",
     "text": [
      "Setting `pad_token_id` to `eos_token_id`:128001 for open-end generation.\n"
     ]
    },
    {
     "name": "stdout",
     "output_type": "stream",
     "text": [
      "Computing scores for cluster '5' of query = 'mountain'\n",
      "Loading already existing qs for the method 'initial-query'"
     ]
    },
    {
     "name": "stderr",
     "output_type": "stream",
     "text": [
      "Setting `pad_token_id` to `eos_token_id`:128001 for open-end generation.\n"
     ]
    },
    {
     "name": "stdout",
     "output_type": "stream",
     "text": [
      "Computing scores for cluster '0' of query = 'bridge'\n",
      "Loading already existing qs for the method 'initial-query'"
     ]
    },
    {
     "name": "stderr",
     "output_type": "stream",
     "text": [
      "Setting `pad_token_id` to `eos_token_id`:128001 for open-end generation.\n"
     ]
    },
    {
     "name": "stdout",
     "output_type": "stream",
     "text": [
      "Computing scores for cluster '1' of query = 'bridge'\n",
      "Loading already existing qs for the method 'initial-query'"
     ]
    },
    {
     "name": "stderr",
     "output_type": "stream",
     "text": [
      "Setting `pad_token_id` to `eos_token_id`:128001 for open-end generation.\n"
     ]
    },
    {
     "name": "stdout",
     "output_type": "stream",
     "text": [
      "Computing scores for cluster '2' of query = 'bridge'\n",
      "Loading already existing qs for the method 'initial-query'"
     ]
    },
    {
     "name": "stderr",
     "output_type": "stream",
     "text": [
      "Setting `pad_token_id` to `eos_token_id`:128001 for open-end generation.\n"
     ]
    },
    {
     "name": "stdout",
     "output_type": "stream",
     "text": [
      "Computing scores for cluster '3' of query = 'bridge'\n",
      "Loading already existing qs for the method 'initial-query'"
     ]
    },
    {
     "name": "stderr",
     "output_type": "stream",
     "text": [
      "Setting `pad_token_id` to `eos_token_id`:128001 for open-end generation.\n"
     ]
    },
    {
     "name": "stdout",
     "output_type": "stream",
     "text": [
      "Computing scores for cluster '4' of query = 'bridge'\n",
      "Loading already existing qs for the method 'initial-query'"
     ]
    },
    {
     "name": "stderr",
     "output_type": "stream",
     "text": [
      "Setting `pad_token_id` to `eos_token_id`:128001 for open-end generation.\n"
     ]
    },
    {
     "name": "stdout",
     "output_type": "stream",
     "text": [
      "Computing scores for cluster '5' of query = 'bridge'\n",
      "Loading already existing qs for the method 'initial-query'"
     ]
    },
    {
     "name": "stderr",
     "output_type": "stream",
     "text": [
      "Setting `pad_token_id` to `eos_token_id`:128001 for open-end generation.\n"
     ]
    },
    {
     "name": "stdout",
     "output_type": "stream",
     "text": [
      "Computing scores for cluster '6' of query = 'bridge'\n"
     ]
    },
    {
     "data": {
      "text/html": [
       "<div>\n",
       "<style scoped>\n",
       "    .dataframe tbody tr th:only-of-type {\n",
       "        vertical-align: middle;\n",
       "    }\n",
       "\n",
       "    .dataframe tbody tr th {\n",
       "        vertical-align: top;\n",
       "    }\n",
       "\n",
       "    .dataframe thead th {\n",
       "        text-align: right;\n",
       "    }\n",
       "</style>\n",
       "<table border=\"1\" class=\"dataframe\">\n",
       "  <thead>\n",
       "    <tr style=\"text-align: right;\">\n",
       "      <th></th>\n",
       "      <th>query</th>\n",
       "      <th>cluster</th>\n",
       "      <th>method</th>\n",
       "      <th>suggested-query</th>\n",
       "      <th>jaccard-q</th>\n",
       "      <th>clip-similarity-cluster</th>\n",
       "      <th>clip-similarity-q</th>\n",
       "      <th>NDCG@10</th>\n",
       "      <th>MAP</th>\n",
       "      <th>Recall-Open-Set-@100</th>\n",
       "      <th>Recall-Closed-Set</th>\n",
       "    </tr>\n",
       "  </thead>\n",
       "  <tbody>\n",
       "    <tr>\n",
       "      <th>0</th>\n",
       "      <td>dog running</td>\n",
       "      <td>0</td>\n",
       "      <td>initial-query</td>\n",
       "      <td>dog running</td>\n",
       "      <td>1.000</td>\n",
       "      <td>0.293</td>\n",
       "      <td>1.000</td>\n",
       "      <td>0.408536</td>\n",
       "      <td>0.497725</td>\n",
       "      <td>0.548387</td>\n",
       "      <td>0.720430</td>\n",
       "    </tr>\n",
       "    <tr>\n",
       "      <th>1</th>\n",
       "      <td>dog running</td>\n",
       "      <td>0</td>\n",
       "      <td>groupcap-llama3-8b-qe-few-shot-2</td>\n",
       "      <td>dog running outdoors</td>\n",
       "      <td>0.667</td>\n",
       "      <td>0.287</td>\n",
       "      <td>0.963</td>\n",
       "      <td>0.588467</td>\n",
       "      <td>0.594678</td>\n",
       "      <td>0.591398</td>\n",
       "      <td>0.827957</td>\n",
       "    </tr>\n",
       "    <tr>\n",
       "      <th>2</th>\n",
       "      <td>dog running</td>\n",
       "      <td>0</td>\n",
       "      <td>human</td>\n",
       "      <td>dog running catching a frisbee</td>\n",
       "      <td>0.500</td>\n",
       "      <td>0.319</td>\n",
       "      <td>0.830</td>\n",
       "      <td>0.864315</td>\n",
       "      <td>0.741513</td>\n",
       "      <td>0.580645</td>\n",
       "      <td>0.892473</td>\n",
       "    </tr>\n",
       "    <tr>\n",
       "      <th>3</th>\n",
       "      <td>dog running</td>\n",
       "      <td>0</td>\n",
       "      <td>groupcap-llama3-8b-qe-few-shot-3</td>\n",
       "      <td>dog running with a frisbee</td>\n",
       "      <td>0.667</td>\n",
       "      <td>0.319</td>\n",
       "      <td>0.792</td>\n",
       "      <td>0.860382</td>\n",
       "      <td>0.648007</td>\n",
       "      <td>0.526882</td>\n",
       "      <td>0.913978</td>\n",
       "    </tr>\n",
       "    <tr>\n",
       "      <th>4</th>\n",
       "      <td>dog running</td>\n",
       "      <td>0</td>\n",
       "      <td>groupcap-llama3-8b-qe-few-shot-4</td>\n",
       "      <td>dog running to catch frisbee</td>\n",
       "      <td>0.500</td>\n",
       "      <td>0.311</td>\n",
       "      <td>0.872</td>\n",
       "      <td>0.933746</td>\n",
       "      <td>0.812702</td>\n",
       "      <td>0.612903</td>\n",
       "      <td>0.881720</td>\n",
       "    </tr>\n",
       "    <tr>\n",
       "      <th>...</th>\n",
       "      <td>...</td>\n",
       "      <td>...</td>\n",
       "      <td>...</td>\n",
       "      <td>...</td>\n",
       "      <td>...</td>\n",
       "      <td>...</td>\n",
       "      <td>...</td>\n",
       "      <td>...</td>\n",
       "      <td>...</td>\n",
       "      <td>...</td>\n",
       "      <td>...</td>\n",
       "    </tr>\n",
       "    <tr>\n",
       "      <th>1470</th>\n",
       "      <td>bridge</td>\n",
       "      <td>6</td>\n",
       "      <td>initial-query</td>\n",
       "      <td>bridge</td>\n",
       "      <td>1.000</td>\n",
       "      <td>0.270</td>\n",
       "      <td>1.000</td>\n",
       "      <td>0.138862</td>\n",
       "      <td>0.213246</td>\n",
       "      <td>0.606061</td>\n",
       "      <td>0.181818</td>\n",
       "    </tr>\n",
       "    <tr>\n",
       "      <th>1471</th>\n",
       "      <td>bridge</td>\n",
       "      <td>6</td>\n",
       "      <td>groupcap-llama3-8b-qe-few-shot-2</td>\n",
       "      <td>bridge over a river</td>\n",
       "      <td>0.500</td>\n",
       "      <td>0.269</td>\n",
       "      <td>0.938</td>\n",
       "      <td>0.224006</td>\n",
       "      <td>0.293281</td>\n",
       "      <td>0.727273</td>\n",
       "      <td>0.272727</td>\n",
       "    </tr>\n",
       "    <tr>\n",
       "      <th>1472</th>\n",
       "      <td>bridge</td>\n",
       "      <td>6</td>\n",
       "      <td>human</td>\n",
       "      <td>bridge over a river near forest</td>\n",
       "      <td>0.250</td>\n",
       "      <td>0.266</td>\n",
       "      <td>0.897</td>\n",
       "      <td>0.599694</td>\n",
       "      <td>0.456155</td>\n",
       "      <td>0.666667</td>\n",
       "      <td>0.363636</td>\n",
       "    </tr>\n",
       "    <tr>\n",
       "      <th>1473</th>\n",
       "      <td>bridge</td>\n",
       "      <td>6</td>\n",
       "      <td>groupcap-llama3-8b-qe-few-shot-3</td>\n",
       "      <td>bridge over a river</td>\n",
       "      <td>0.500</td>\n",
       "      <td>0.269</td>\n",
       "      <td>0.938</td>\n",
       "      <td>0.224006</td>\n",
       "      <td>0.293281</td>\n",
       "      <td>0.727273</td>\n",
       "      <td>0.272727</td>\n",
       "    </tr>\n",
       "    <tr>\n",
       "      <th>1474</th>\n",
       "      <td>bridge</td>\n",
       "      <td>6</td>\n",
       "      <td>groupcap-llama3-8b-qe-few-shot-4</td>\n",
       "      <td>bridge over a river</td>\n",
       "      <td>0.500</td>\n",
       "      <td>0.269</td>\n",
       "      <td>0.938</td>\n",
       "      <td>0.224006</td>\n",
       "      <td>0.293281</td>\n",
       "      <td>0.727273</td>\n",
       "      <td>0.272727</td>\n",
       "    </tr>\n",
       "  </tbody>\n",
       "</table>\n",
       "<p>1475 rows × 11 columns</p>\n",
       "</div>"
      ],
      "text/plain": [
       "            query cluster                            method  \\\n",
       "0     dog running       0                     initial-query   \n",
       "1     dog running       0  groupcap-llama3-8b-qe-few-shot-2   \n",
       "2     dog running       0                             human   \n",
       "3     dog running       0  groupcap-llama3-8b-qe-few-shot-3   \n",
       "4     dog running       0  groupcap-llama3-8b-qe-few-shot-4   \n",
       "...           ...     ...                               ...   \n",
       "1470       bridge       6                     initial-query   \n",
       "1471       bridge       6  groupcap-llama3-8b-qe-few-shot-2   \n",
       "1472       bridge       6                             human   \n",
       "1473       bridge       6  groupcap-llama3-8b-qe-few-shot-3   \n",
       "1474       bridge       6  groupcap-llama3-8b-qe-few-shot-4   \n",
       "\n",
       "                      suggested-query  jaccard-q  clip-similarity-cluster  \\\n",
       "0                         dog running      1.000                    0.293   \n",
       "1                dog running outdoors      0.667                    0.287   \n",
       "2      dog running catching a frisbee      0.500                    0.319   \n",
       "3          dog running with a frisbee      0.667                    0.319   \n",
       "4        dog running to catch frisbee      0.500                    0.311   \n",
       "...                               ...        ...                      ...   \n",
       "1470                           bridge      1.000                    0.270   \n",
       "1471              bridge over a river      0.500                    0.269   \n",
       "1472  bridge over a river near forest      0.250                    0.266   \n",
       "1473              bridge over a river      0.500                    0.269   \n",
       "1474              bridge over a river      0.500                    0.269   \n",
       "\n",
       "      clip-similarity-q   NDCG@10       MAP  Recall-Open-Set-@100  \\\n",
       "0                 1.000  0.408536  0.497725              0.548387   \n",
       "1                 0.963  0.588467  0.594678              0.591398   \n",
       "2                 0.830  0.864315  0.741513              0.580645   \n",
       "3                 0.792  0.860382  0.648007              0.526882   \n",
       "4                 0.872  0.933746  0.812702              0.612903   \n",
       "...                 ...       ...       ...                   ...   \n",
       "1470              1.000  0.138862  0.213246              0.606061   \n",
       "1471              0.938  0.224006  0.293281              0.727273   \n",
       "1472              0.897  0.599694  0.456155              0.666667   \n",
       "1473              0.938  0.224006  0.293281              0.727273   \n",
       "1474              0.938  0.224006  0.293281              0.727273   \n",
       "\n",
       "      Recall-Closed-Set  \n",
       "0              0.720430  \n",
       "1              0.827957  \n",
       "2              0.892473  \n",
       "3              0.913978  \n",
       "4              0.881720  \n",
       "...                 ...  \n",
       "1470           0.181818  \n",
       "1471           0.272727  \n",
       "1472           0.363636  \n",
       "1473           0.272727  \n",
       "1474           0.272727  \n",
       "\n",
       "[1475 rows x 11 columns]"
      ]
     },
     "execution_count": 39,
     "metadata": {},
     "output_type": "execute_result"
    }
   ],
   "source": [
    "ret_df = croQS.get_query_suggestions_dataframe_all_queries(qe_dict)\n",
    "\n",
    "ret_df"
   ]
  },
  {
   "cell_type": "code",
   "execution_count": 30,
   "metadata": {},
   "outputs": [
    {
     "name": "stdout",
     "output_type": "stream",
     "text": [
      "Loading already existing qs for the method 'groupcap-llama3-8b-qe-few-shot-3'"
     ]
    },
    {
     "data": {
      "text/html": [
       "<div>\n",
       "<style scoped>\n",
       "    .dataframe tbody tr th:only-of-type {\n",
       "        vertical-align: middle;\n",
       "    }\n",
       "\n",
       "    .dataframe tbody tr th {\n",
       "        vertical-align: top;\n",
       "    }\n",
       "\n",
       "    .dataframe thead th {\n",
       "        text-align: right;\n",
       "    }\n",
       "</style>\n",
       "<table border=\"1\" class=\"dataframe\">\n",
       "  <thead>\n",
       "    <tr style=\"text-align: right;\">\n",
       "      <th></th>\n",
       "      <th>query</th>\n",
       "      <th>cluster</th>\n",
       "      <th>method</th>\n",
       "      <th>suggested-query</th>\n",
       "      <th>jaccard-q</th>\n",
       "      <th>clip-similarity-cluster</th>\n",
       "      <th>clip-similarity-q</th>\n",
       "      <th>NDCG@10</th>\n",
       "      <th>MAP</th>\n",
       "      <th>Recall-Open-Set-@100</th>\n",
       "      <th>Recall-Closed-Set</th>\n",
       "    </tr>\n",
       "  </thead>\n",
       "  <tbody>\n",
       "    <tr>\n",
       "      <th>0</th>\n",
       "      <td>dog running</td>\n",
       "      <td>0</td>\n",
       "      <td>initial-query</td>\n",
       "      <td>dog running</td>\n",
       "      <td>1.000</td>\n",
       "      <td>0.293</td>\n",
       "      <td>1.000</td>\n",
       "      <td>0.408536</td>\n",
       "      <td>0.497725</td>\n",
       "      <td>0.548387</td>\n",
       "      <td>0.720430</td>\n",
       "    </tr>\n",
       "    <tr>\n",
       "      <th>1</th>\n",
       "      <td>dog running</td>\n",
       "      <td>0</td>\n",
       "      <td>groupcap-llama3-8b-qe-few-shot-2</td>\n",
       "      <td>dog running outdoors</td>\n",
       "      <td>0.667</td>\n",
       "      <td>0.287</td>\n",
       "      <td>0.963</td>\n",
       "      <td>0.588467</td>\n",
       "      <td>0.594678</td>\n",
       "      <td>0.591398</td>\n",
       "      <td>0.827957</td>\n",
       "    </tr>\n",
       "    <tr>\n",
       "      <th>2</th>\n",
       "      <td>dog running</td>\n",
       "      <td>0</td>\n",
       "      <td>human</td>\n",
       "      <td>dog running catching a frisbee</td>\n",
       "      <td>0.500</td>\n",
       "      <td>0.319</td>\n",
       "      <td>0.830</td>\n",
       "      <td>0.864315</td>\n",
       "      <td>0.741513</td>\n",
       "      <td>0.580645</td>\n",
       "      <td>0.892473</td>\n",
       "    </tr>\n",
       "    <tr>\n",
       "      <th>3</th>\n",
       "      <td>dog running</td>\n",
       "      <td>0</td>\n",
       "      <td>groupcap-llama3-8b-qe-few-shot-3</td>\n",
       "      <td>dog running with a frisbee</td>\n",
       "      <td>0.667</td>\n",
       "      <td>0.319</td>\n",
       "      <td>0.792</td>\n",
       "      <td>0.860382</td>\n",
       "      <td>0.648007</td>\n",
       "      <td>0.526882</td>\n",
       "      <td>0.913978</td>\n",
       "    </tr>\n",
       "    <tr>\n",
       "      <th>4</th>\n",
       "      <td>dog running</td>\n",
       "      <td>2</td>\n",
       "      <td>initial-query</td>\n",
       "      <td>dog running</td>\n",
       "      <td>1.000</td>\n",
       "      <td>0.294</td>\n",
       "      <td>1.000</td>\n",
       "      <td>0.215018</td>\n",
       "      <td>0.214729</td>\n",
       "      <td>0.500000</td>\n",
       "      <td>0.294118</td>\n",
       "    </tr>\n",
       "    <tr>\n",
       "      <th>...</th>\n",
       "      <td>...</td>\n",
       "      <td>...</td>\n",
       "      <td>...</td>\n",
       "      <td>...</td>\n",
       "      <td>...</td>\n",
       "      <td>...</td>\n",
       "      <td>...</td>\n",
       "      <td>...</td>\n",
       "      <td>...</td>\n",
       "      <td>...</td>\n",
       "      <td>...</td>\n",
       "    </tr>\n",
       "    <tr>\n",
       "      <th>1175</th>\n",
       "      <td>bridge</td>\n",
       "      <td>5</td>\n",
       "      <td>groupcap-llama3-8b-qe-few-shot-3</td>\n",
       "      <td>bridge near a river</td>\n",
       "      <td>0.333</td>\n",
       "      <td>0.259</td>\n",
       "      <td>0.924</td>\n",
       "      <td>0.000000</td>\n",
       "      <td>0.122222</td>\n",
       "      <td>0.481481</td>\n",
       "      <td>0.111111</td>\n",
       "    </tr>\n",
       "    <tr>\n",
       "      <th>1176</th>\n",
       "      <td>bridge</td>\n",
       "      <td>6</td>\n",
       "      <td>initial-query</td>\n",
       "      <td>bridge</td>\n",
       "      <td>1.000</td>\n",
       "      <td>0.270</td>\n",
       "      <td>1.000</td>\n",
       "      <td>0.138862</td>\n",
       "      <td>0.213246</td>\n",
       "      <td>0.606061</td>\n",
       "      <td>0.181818</td>\n",
       "    </tr>\n",
       "    <tr>\n",
       "      <th>1177</th>\n",
       "      <td>bridge</td>\n",
       "      <td>6</td>\n",
       "      <td>groupcap-llama3-8b-qe-few-shot-2</td>\n",
       "      <td>bridge over a river</td>\n",
       "      <td>0.500</td>\n",
       "      <td>0.269</td>\n",
       "      <td>0.938</td>\n",
       "      <td>0.224006</td>\n",
       "      <td>0.293281</td>\n",
       "      <td>0.727273</td>\n",
       "      <td>0.272727</td>\n",
       "    </tr>\n",
       "    <tr>\n",
       "      <th>1178</th>\n",
       "      <td>bridge</td>\n",
       "      <td>6</td>\n",
       "      <td>human</td>\n",
       "      <td>bridge over a river near forest</td>\n",
       "      <td>0.250</td>\n",
       "      <td>0.266</td>\n",
       "      <td>0.897</td>\n",
       "      <td>0.599694</td>\n",
       "      <td>0.456155</td>\n",
       "      <td>0.666667</td>\n",
       "      <td>0.363636</td>\n",
       "    </tr>\n",
       "    <tr>\n",
       "      <th>1179</th>\n",
       "      <td>bridge</td>\n",
       "      <td>6</td>\n",
       "      <td>groupcap-llama3-8b-qe-few-shot-3</td>\n",
       "      <td>bridge over a river</td>\n",
       "      <td>0.500</td>\n",
       "      <td>0.269</td>\n",
       "      <td>0.938</td>\n",
       "      <td>0.224006</td>\n",
       "      <td>0.293281</td>\n",
       "      <td>0.727273</td>\n",
       "      <td>0.272727</td>\n",
       "    </tr>\n",
       "  </tbody>\n",
       "</table>\n",
       "<p>1180 rows × 11 columns</p>\n",
       "</div>"
      ],
      "text/plain": [
       "            query cluster                            method  \\\n",
       "0     dog running       0                     initial-query   \n",
       "1     dog running       0  groupcap-llama3-8b-qe-few-shot-2   \n",
       "2     dog running       0                             human   \n",
       "3     dog running       0  groupcap-llama3-8b-qe-few-shot-3   \n",
       "4     dog running       2                     initial-query   \n",
       "...           ...     ...                               ...   \n",
       "1175       bridge       5  groupcap-llama3-8b-qe-few-shot-3   \n",
       "1176       bridge       6                     initial-query   \n",
       "1177       bridge       6  groupcap-llama3-8b-qe-few-shot-2   \n",
       "1178       bridge       6                             human   \n",
       "1179       bridge       6  groupcap-llama3-8b-qe-few-shot-3   \n",
       "\n",
       "                      suggested-query  jaccard-q  clip-similarity-cluster  \\\n",
       "0                         dog running      1.000                    0.293   \n",
       "1                dog running outdoors      0.667                    0.287   \n",
       "2      dog running catching a frisbee      0.500                    0.319   \n",
       "3          dog running with a frisbee      0.667                    0.319   \n",
       "4                         dog running      1.000                    0.294   \n",
       "...                               ...        ...                      ...   \n",
       "1175              bridge near a river      0.333                    0.259   \n",
       "1176                           bridge      1.000                    0.270   \n",
       "1177              bridge over a river      0.500                    0.269   \n",
       "1178  bridge over a river near forest      0.250                    0.266   \n",
       "1179              bridge over a river      0.500                    0.269   \n",
       "\n",
       "      clip-similarity-q   NDCG@10       MAP  Recall-Open-Set-@100  \\\n",
       "0                 1.000  0.408536  0.497725              0.548387   \n",
       "1                 0.963  0.588467  0.594678              0.591398   \n",
       "2                 0.830  0.864315  0.741513              0.580645   \n",
       "3                 0.792  0.860382  0.648007              0.526882   \n",
       "4                 1.000  0.215018  0.214729              0.500000   \n",
       "...                 ...       ...       ...                   ...   \n",
       "1175              0.924  0.000000  0.122222              0.481481   \n",
       "1176              1.000  0.138862  0.213246              0.606061   \n",
       "1177              0.938  0.224006  0.293281              0.727273   \n",
       "1178              0.897  0.599694  0.456155              0.666667   \n",
       "1179              0.938  0.224006  0.293281              0.727273   \n",
       "\n",
       "      Recall-Closed-Set  \n",
       "0              0.720430  \n",
       "1              0.827957  \n",
       "2              0.892473  \n",
       "3              0.913978  \n",
       "4              0.294118  \n",
       "...                 ...  \n",
       "1175           0.111111  \n",
       "1176           0.181818  \n",
       "1177           0.272727  \n",
       "1178           0.363636  \n",
       "1179           0.272727  \n",
       "\n",
       "[1180 rows x 11 columns]"
      ]
     },
     "execution_count": 30,
     "metadata": {},
     "output_type": "execute_result"
    }
   ],
   "source": [
    "ret_df = croQS.get_query_suggestions_dataframe_all_queries(qe_dict)\n",
    "\n",
    "ret_df"
   ]
  },
  {
   "cell_type": "code",
   "execution_count": 40,
   "metadata": {},
   "outputs": [
    {
     "name": "stderr",
     "output_type": "stream",
     "text": [
      "/tmp/ipykernel_987741/2624988023.py:3: FutureWarning: The default value of numeric_only in DataFrameGroupBy.mean is deprecated. In a future version, numeric_only will default to False. Either specify numeric_only or select only columns which should be valid for the function.\n",
      "  aggregated_df_2 = ret_df.groupby(['query', 'method']).mean().reset_index()\n"
     ]
    },
    {
     "data": {
      "text/html": [
       "<div>\n",
       "<style scoped>\n",
       "    .dataframe tbody tr th:only-of-type {\n",
       "        vertical-align: middle;\n",
       "    }\n",
       "\n",
       "    .dataframe tbody tr th {\n",
       "        vertical-align: top;\n",
       "    }\n",
       "\n",
       "    .dataframe thead tr th {\n",
       "        text-align: left;\n",
       "    }\n",
       "</style>\n",
       "<table border=\"1\" class=\"dataframe\">\n",
       "  <thead>\n",
       "    <tr>\n",
       "      <th></th>\n",
       "      <th>method</th>\n",
       "      <th colspan=\"2\" halign=\"left\">jaccard-q</th>\n",
       "      <th colspan=\"2\" halign=\"left\">clip-similarity-cluster</th>\n",
       "      <th colspan=\"2\" halign=\"left\">clip-similarity-q</th>\n",
       "      <th colspan=\"2\" halign=\"left\">NDCG@10</th>\n",
       "      <th colspan=\"2\" halign=\"left\">MAP</th>\n",
       "      <th colspan=\"2\" halign=\"left\">Recall-Open-Set-@100</th>\n",
       "      <th colspan=\"2\" halign=\"left\">Recall-Closed-Set</th>\n",
       "    </tr>\n",
       "    <tr>\n",
       "      <th></th>\n",
       "      <th></th>\n",
       "      <th>mean</th>\n",
       "      <th>std</th>\n",
       "      <th>mean</th>\n",
       "      <th>std</th>\n",
       "      <th>mean</th>\n",
       "      <th>std</th>\n",
       "      <th>mean</th>\n",
       "      <th>std</th>\n",
       "      <th>mean</th>\n",
       "      <th>std</th>\n",
       "      <th>mean</th>\n",
       "      <th>std</th>\n",
       "      <th>mean</th>\n",
       "      <th>std</th>\n",
       "    </tr>\n",
       "  </thead>\n",
       "  <tbody>\n",
       "    <tr>\n",
       "      <th>0</th>\n",
       "      <td>groupcap-llama3-8b-qe-few-shot-2</td>\n",
       "      <td>0.659922</td>\n",
       "      <td>0.157349</td>\n",
       "      <td>0.283306</td>\n",
       "      <td>0.018148</td>\n",
       "      <td>0.939840</td>\n",
       "      <td>0.029049</td>\n",
       "      <td>0.277522</td>\n",
       "      <td>0.144467</td>\n",
       "      <td>0.275342</td>\n",
       "      <td>0.112867</td>\n",
       "      <td>0.481073</td>\n",
       "      <td>0.113584</td>\n",
       "      <td>0.314199</td>\n",
       "      <td>0.136502</td>\n",
       "    </tr>\n",
       "    <tr>\n",
       "      <th>1</th>\n",
       "      <td>groupcap-llama3-8b-qe-few-shot-3</td>\n",
       "      <td>0.668567</td>\n",
       "      <td>0.169887</td>\n",
       "      <td>0.284210</td>\n",
       "      <td>0.018974</td>\n",
       "      <td>0.927612</td>\n",
       "      <td>0.047191</td>\n",
       "      <td>0.309838</td>\n",
       "      <td>0.178642</td>\n",
       "      <td>0.293558</td>\n",
       "      <td>0.135260</td>\n",
       "      <td>0.495029</td>\n",
       "      <td>0.109589</td>\n",
       "      <td>0.336709</td>\n",
       "      <td>0.169050</td>\n",
       "    </tr>\n",
       "    <tr>\n",
       "      <th>2</th>\n",
       "      <td>groupcap-llama3-8b-qe-few-shot-4</td>\n",
       "      <td>0.551813</td>\n",
       "      <td>0.130300</td>\n",
       "      <td>0.288767</td>\n",
       "      <td>0.017386</td>\n",
       "      <td>0.900695</td>\n",
       "      <td>0.037484</td>\n",
       "      <td>0.353558</td>\n",
       "      <td>0.155959</td>\n",
       "      <td>0.325102</td>\n",
       "      <td>0.127053</td>\n",
       "      <td>0.486121</td>\n",
       "      <td>0.127187</td>\n",
       "      <td>0.400165</td>\n",
       "      <td>0.167331</td>\n",
       "    </tr>\n",
       "    <tr>\n",
       "      <th>3</th>\n",
       "      <td>human</td>\n",
       "      <td>0.437972</td>\n",
       "      <td>0.112474</td>\n",
       "      <td>0.298296</td>\n",
       "      <td>0.015991</td>\n",
       "      <td>0.870624</td>\n",
       "      <td>0.032796</td>\n",
       "      <td>0.518537</td>\n",
       "      <td>0.139276</td>\n",
       "      <td>0.445149</td>\n",
       "      <td>0.108550</td>\n",
       "      <td>0.620265</td>\n",
       "      <td>0.121844</td>\n",
       "      <td>0.591542</td>\n",
       "      <td>0.126442</td>\n",
       "    </tr>\n",
       "    <tr>\n",
       "      <th>4</th>\n",
       "      <td>initial-query</td>\n",
       "      <td>1.000000</td>\n",
       "      <td>0.000000</td>\n",
       "      <td>0.279894</td>\n",
       "      <td>0.018076</td>\n",
       "      <td>1.000000</td>\n",
       "      <td>0.000000</td>\n",
       "      <td>0.177377</td>\n",
       "      <td>0.053571</td>\n",
       "      <td>0.210269</td>\n",
       "      <td>0.053614</td>\n",
       "      <td>0.518257</td>\n",
       "      <td>0.032359</td>\n",
       "      <td>0.190265</td>\n",
       "      <td>0.071740</td>\n",
       "    </tr>\n",
       "  </tbody>\n",
       "</table>\n",
       "</div>"
      ],
      "text/plain": [
       "                             method jaccard-q            \\\n",
       "                                         mean       std   \n",
       "0  groupcap-llama3-8b-qe-few-shot-2  0.659922  0.157349   \n",
       "1  groupcap-llama3-8b-qe-few-shot-3  0.668567  0.169887   \n",
       "2  groupcap-llama3-8b-qe-few-shot-4  0.551813  0.130300   \n",
       "3                             human  0.437972  0.112474   \n",
       "4                     initial-query  1.000000  0.000000   \n",
       "\n",
       "  clip-similarity-cluster           clip-similarity-q             NDCG@10  \\\n",
       "                     mean       std              mean       std      mean   \n",
       "0                0.283306  0.018148          0.939840  0.029049  0.277522   \n",
       "1                0.284210  0.018974          0.927612  0.047191  0.309838   \n",
       "2                0.288767  0.017386          0.900695  0.037484  0.353558   \n",
       "3                0.298296  0.015991          0.870624  0.032796  0.518537   \n",
       "4                0.279894  0.018076          1.000000  0.000000  0.177377   \n",
       "\n",
       "                  MAP           Recall-Open-Set-@100            \\\n",
       "        std      mean       std                 mean       std   \n",
       "0  0.144467  0.275342  0.112867             0.481073  0.113584   \n",
       "1  0.178642  0.293558  0.135260             0.495029  0.109589   \n",
       "2  0.155959  0.325102  0.127053             0.486121  0.127187   \n",
       "3  0.139276  0.445149  0.108550             0.620265  0.121844   \n",
       "4  0.053571  0.210269  0.053614             0.518257  0.032359   \n",
       "\n",
       "  Recall-Closed-Set            \n",
       "               mean       std  \n",
       "0          0.314199  0.136502  \n",
       "1          0.336709  0.169050  \n",
       "2          0.400165  0.167331  \n",
       "3          0.591542  0.126442  \n",
       "4          0.190265  0.071740  "
      ]
     },
     "execution_count": 40,
     "metadata": {},
     "output_type": "execute_result"
    }
   ],
   "source": [
    "error_type = 'std'\n",
    "\n",
    "aggregated_df_2 = ret_df.groupby(['query', 'method']).mean().reset_index()\n",
    "title_info = \"Macro Averaged \"\n",
    "\n",
    "score_cols = list(aggregated_df_2.columns)\n",
    "for el in ['query','method']: score_cols.remove(el)\n",
    "\n",
    "# Group by method and compute mean and error for each score column\n",
    "agg_dict = {col: ['mean', error_type] for col in score_cols}\n",
    "grouped_2 = aggregated_df_2.groupby('method').agg(agg_dict).reset_index()\n",
    "grouped_2"
   ]
  },
  {
   "cell_type": "code",
   "execution_count": 6,
   "metadata": {},
   "outputs": [
    {
     "name": "stderr",
     "output_type": "stream",
     "text": [
      "Setting `pad_token_id` to `eos_token_id`:128001 for open-end generation.\n",
      "/home/giacomo.pacini/miniconda3/envs/py38/lib/python3.8/site-packages/bitsandbytes/nn/modules.py:426: UserWarning: Input type into Linear4bit is torch.float16, but bnb_4bit_compute_dtype=torch.float32 (default). This will lead to slow inference or training speed.\n",
      "  warnings.warn(\n"
     ]
    },
    {
     "name": "stdout",
     "output_type": "stream",
     "text": [
      "Computing scores for cluster '0' of query = 'dog running'\n"
     ]
    },
    {
     "name": "stderr",
     "output_type": "stream",
     "text": [
      "Some weights of RobertaModel were not initialized from the model checkpoint at roberta-large and are newly initialized: ['roberta.pooler.dense.bias', 'roberta.pooler.dense.weight']\n",
      "You should probably TRAIN this model on a down-stream task to be able to use it for predictions and inference.\n",
      "Setting `pad_token_id` to `eos_token_id`:128001 for open-end generation.\n"
     ]
    },
    {
     "name": "stdout",
     "output_type": "stream",
     "text": [
      "Computing scores for cluster '2' of query = 'dog running'\n"
     ]
    },
    {
     "name": "stderr",
     "output_type": "stream",
     "text": [
      "Setting `pad_token_id` to `eos_token_id`:128001 for open-end generation.\n"
     ]
    },
    {
     "name": "stdout",
     "output_type": "stream",
     "text": [
      "Computing scores for cluster '0' of query = 'person reading'\n"
     ]
    },
    {
     "name": "stderr",
     "output_type": "stream",
     "text": [
      "Setting `pad_token_id` to `eos_token_id`:128001 for open-end generation.\n"
     ]
    },
    {
     "name": "stdout",
     "output_type": "stream",
     "text": [
      "Computing scores for cluster '1' of query = 'person reading'\n"
     ]
    },
    {
     "name": "stderr",
     "output_type": "stream",
     "text": [
      "Setting `pad_token_id` to `eos_token_id`:128001 for open-end generation.\n"
     ]
    },
    {
     "name": "stdout",
     "output_type": "stream",
     "text": [
      "Computing scores for cluster '2' of query = 'person reading'\n"
     ]
    },
    {
     "name": "stderr",
     "output_type": "stream",
     "text": [
      "Setting `pad_token_id` to `eos_token_id`:128001 for open-end generation.\n"
     ]
    },
    {
     "name": "stdout",
     "output_type": "stream",
     "text": [
      "Computing scores for cluster '3' of query = 'person reading'\n"
     ]
    },
    {
     "name": "stderr",
     "output_type": "stream",
     "text": [
      "Setting `pad_token_id` to `eos_token_id`:128001 for open-end generation.\n"
     ]
    },
    {
     "name": "stdout",
     "output_type": "stream",
     "text": [
      "Computing scores for cluster '0' of query = 'laptop near'\n"
     ]
    },
    {
     "name": "stderr",
     "output_type": "stream",
     "text": [
      "Setting `pad_token_id` to `eos_token_id`:128001 for open-end generation.\n"
     ]
    },
    {
     "name": "stdout",
     "output_type": "stream",
     "text": [
      "Computing scores for cluster '1' of query = 'laptop near'\n"
     ]
    },
    {
     "name": "stderr",
     "output_type": "stream",
     "text": [
      "Setting `pad_token_id` to `eos_token_id`:128001 for open-end generation.\n"
     ]
    },
    {
     "name": "stdout",
     "output_type": "stream",
     "text": [
      "Computing scores for cluster '2' of query = 'laptop near'\n"
     ]
    },
    {
     "name": "stderr",
     "output_type": "stream",
     "text": [
      "Setting `pad_token_id` to `eos_token_id`:128001 for open-end generation.\n"
     ]
    },
    {
     "name": "stdout",
     "output_type": "stream",
     "text": [
      "Computing scores for cluster '3' of query = 'laptop near'\n"
     ]
    },
    {
     "name": "stderr",
     "output_type": "stream",
     "text": [
      "--- Logging error ---\n",
      "Traceback (most recent call last):\n",
      "  File \"/home/giacomo.pacini/miniconda3/envs/py38/lib/python3.8/logging/__init__.py\", line 1085, in emit\n",
      "    msg = self.format(record)\n",
      "  File \"/home/giacomo.pacini/miniconda3/envs/py38/lib/python3.8/logging/__init__.py\", line 929, in format\n",
      "    return fmt.format(record)\n",
      "  File \"/home/giacomo.pacini/miniconda3/envs/py38/lib/python3.8/logging/__init__.py\", line 668, in format\n",
      "    record.message = record.getMessage()\n",
      "  File \"/home/giacomo.pacini/miniconda3/envs/py38/lib/python3.8/logging/__init__.py\", line 373, in getMessage\n",
      "    msg = msg % self.args\n",
      "TypeError: not all arguments converted during string formatting\n",
      "Call stack:\n",
      "  File \"/home/giacomo.pacini/miniconda3/envs/py38/lib/python3.8/runpy.py\", line 194, in _run_module_as_main\n",
      "    return _run_code(code, main_globals, None,\n",
      "  File \"/home/giacomo.pacini/miniconda3/envs/py38/lib/python3.8/runpy.py\", line 87, in _run_code\n",
      "    exec(code, run_globals)\n",
      "  File \"/home/giacomo.pacini/miniconda3/envs/py38/lib/python3.8/site-packages/ipykernel_launcher.py\", line 18, in <module>\n",
      "    app.launch_new_instance()\n",
      "  File \"/home/giacomo.pacini/miniconda3/envs/py38/lib/python3.8/site-packages/traitlets/config/application.py\", line 1075, in launch_instance\n",
      "    app.start()\n",
      "  File \"/home/giacomo.pacini/miniconda3/envs/py38/lib/python3.8/site-packages/ipykernel/kernelapp.py\", line 739, in start\n",
      "    self.io_loop.start()\n",
      "  File \"/home/giacomo.pacini/miniconda3/envs/py38/lib/python3.8/site-packages/tornado/platform/asyncio.py\", line 205, in start\n",
      "    self.asyncio_loop.run_forever()\n",
      "  File \"/home/giacomo.pacini/miniconda3/envs/py38/lib/python3.8/asyncio/base_events.py\", line 570, in run_forever\n",
      "    self._run_once()\n",
      "  File \"/home/giacomo.pacini/miniconda3/envs/py38/lib/python3.8/asyncio/base_events.py\", line 1859, in _run_once\n",
      "    handle._run()\n",
      "  File \"/home/giacomo.pacini/miniconda3/envs/py38/lib/python3.8/asyncio/events.py\", line 81, in _run\n",
      "    self._context.run(self._callback, *self._args)\n",
      "  File \"/home/giacomo.pacini/miniconda3/envs/py38/lib/python3.8/site-packages/ipykernel/kernelbase.py\", line 545, in dispatch_queue\n",
      "    await self.process_one()\n",
      "  File \"/home/giacomo.pacini/miniconda3/envs/py38/lib/python3.8/site-packages/ipykernel/kernelbase.py\", line 534, in process_one\n",
      "    await dispatch(*args)\n",
      "  File \"/home/giacomo.pacini/miniconda3/envs/py38/lib/python3.8/site-packages/ipykernel/kernelbase.py\", line 437, in dispatch_shell\n",
      "    await result\n",
      "  File \"/home/giacomo.pacini/miniconda3/envs/py38/lib/python3.8/site-packages/ipykernel/ipkernel.py\", line 359, in execute_request\n",
      "    await super().execute_request(stream, ident, parent)\n",
      "  File \"/home/giacomo.pacini/miniconda3/envs/py38/lib/python3.8/site-packages/ipykernel/kernelbase.py\", line 778, in execute_request\n",
      "    reply_content = await reply_content\n",
      "  File \"/home/giacomo.pacini/miniconda3/envs/py38/lib/python3.8/site-packages/ipykernel/ipkernel.py\", line 446, in do_execute\n",
      "    res = shell.run_cell(\n",
      "  File \"/home/giacomo.pacini/miniconda3/envs/py38/lib/python3.8/site-packages/ipykernel/zmqshell.py\", line 549, in run_cell\n",
      "    return super().run_cell(*args, **kwargs)\n",
      "  File \"/home/giacomo.pacini/miniconda3/envs/py38/lib/python3.8/site-packages/IPython/core/interactiveshell.py\", line 3009, in run_cell\n",
      "    result = self._run_cell(\n",
      "  File \"/home/giacomo.pacini/miniconda3/envs/py38/lib/python3.8/site-packages/IPython/core/interactiveshell.py\", line 3064, in _run_cell\n",
      "    result = runner(coro)\n",
      "  File \"/home/giacomo.pacini/miniconda3/envs/py38/lib/python3.8/site-packages/IPython/core/async_helpers.py\", line 129, in _pseudo_sync_runner\n",
      "    coro.send(None)\n",
      "  File \"/home/giacomo.pacini/miniconda3/envs/py38/lib/python3.8/site-packages/IPython/core/interactiveshell.py\", line 3269, in run_cell_async\n",
      "    has_raised = await self.run_ast_nodes(code_ast.body, cell_name,\n",
      "  File \"/home/giacomo.pacini/miniconda3/envs/py38/lib/python3.8/site-packages/IPython/core/interactiveshell.py\", line 3448, in run_ast_nodes\n",
      "    if await self.run_code(code, result, async_=asy):\n",
      "  File \"/home/giacomo.pacini/miniconda3/envs/py38/lib/python3.8/site-packages/IPython/core/interactiveshell.py\", line 3508, in run_code\n",
      "    exec(code_obj, self.user_global_ns, self.user_ns)\n",
      "  File \"/tmp/ipykernel_987741/2623208049.py\", line 1, in <module>\n",
      "    ret_df = croQS.get_query_suggestions_dataframe_all_queries(qe_dict)\n",
      "  File \"/home/giacomo.pacini/CroQS-benchmark/lib/CroQS.py\", line 329, in get_query_suggestions_dataframe_all_queries\n",
      "    tmp, changed = self.get_query_suggestions_dataframe_for_query(q, qs_dict, allowed_methods_names, do_save=False)\n",
      "  File \"/home/giacomo.pacini/CroQS-benchmark/lib/CroQS.py\", line 285, in get_query_suggestions_dataframe_for_query\n",
      "    data, changed = self.load_query_suggestions(query, cluster_label, qs_dict, do_save=True)\n",
      "  File \"/home/giacomo.pacini/CroQS-benchmark/lib/CroQS.py\", line 202, in load_query_suggestions\n",
      "    sugg_query = qs_common_interface.compute_suggested_query(query, coco_ids, method_dict, method_type)\n",
      "  File \"/home/giacomo.pacini/CroQS-benchmark/lib/QSHandler.py\", line 109, in compute_suggested_query\n",
      "    generated_q = run_query_suggestion_method(method_dict, cluster_embeddings, original_query)\n",
      "  File \"/home/giacomo.pacini/CroQS-benchmark/lib/QSHandler.py\", line 134, in run_query_suggestion_method\n",
      "    generated_query = method_dict['object'](data_parameter, original_query)\n",
      "  File \"/home/giacomo.pacini/CroQS-benchmark/lib/methods/groupcap/model.py\", line 146, in generate_expanded_query\n",
      "    return self.generate_expanded_query_from_images_captions(captions, original_query)\n",
      "  File \"/home/giacomo.pacini/CroQS-benchmark/lib/methods/groupcap/model.py\", line 163, in generate_expanded_query_from_images_captions\n",
      "    return self.__run_method(prompt)\n",
      "  File \"/home/giacomo.pacini/CroQS-benchmark/lib/methods/groupcap/model.py\", line 123, in __run_method\n",
      "    generated_answer = self.send_chat_message(prompt)\n",
      "  File \"/home/giacomo.pacini/CroQS-benchmark/lib/methods/groupcap/model.py\", line 179, in send_chat_message\n",
      "    return self.pipeline(chat)[0]['generated_text'][-1]['content']\n",
      "  File \"/home/giacomo.pacini/miniconda3/envs/py38/lib/python3.8/site-packages/transformers/pipelines/text_generation.py\", line 235, in __call__\n",
      "    return super().__call__(Chat(text_inputs), **kwargs)\n",
      "  File \"/home/giacomo.pacini/miniconda3/envs/py38/lib/python3.8/site-packages/transformers/pipelines/base.py\", line 1167, in __call__\n",
      "    logger.warning_once(\n",
      "  File \"/home/giacomo.pacini/miniconda3/envs/py38/lib/python3.8/site-packages/transformers/utils/logging.py\", line 329, in warning_once\n",
      "    self.warning(*args, **kwargs)\n",
      "Message: 'You seem to be using the pipelines sequentially on GPU. In order to maximize efficiency please use a dataset'\n",
      "Arguments: (<class 'UserWarning'>,)\n",
      "Setting `pad_token_id` to `eos_token_id`:128001 for open-end generation.\n"
     ]
    },
    {
     "name": "stdout",
     "output_type": "stream",
     "text": [
      "Computing scores for cluster '0' of query = 'car moving'\n"
     ]
    },
    {
     "name": "stderr",
     "output_type": "stream",
     "text": [
      "Setting `pad_token_id` to `eos_token_id`:128001 for open-end generation.\n"
     ]
    },
    {
     "name": "stdout",
     "output_type": "stream",
     "text": [
      "Computing scores for cluster '1' of query = 'car moving'\n",
      "[ndcg] [W] division by 0 [W]\n"
     ]
    },
    {
     "name": "stderr",
     "output_type": "stream",
     "text": [
      "Setting `pad_token_id` to `eos_token_id`:128001 for open-end generation.\n"
     ]
    },
    {
     "name": "stdout",
     "output_type": "stream",
     "text": [
      "Computing scores for cluster '2' of query = 'car moving'\n"
     ]
    },
    {
     "name": "stderr",
     "output_type": "stream",
     "text": [
      "Setting `pad_token_id` to `eos_token_id`:128001 for open-end generation.\n"
     ]
    },
    {
     "name": "stdout",
     "output_type": "stream",
     "text": [
      "Computing scores for cluster '3' of query = 'car moving'\n"
     ]
    },
    {
     "name": "stderr",
     "output_type": "stream",
     "text": [
      "Setting `pad_token_id` to `eos_token_id`:128001 for open-end generation.\n"
     ]
    },
    {
     "name": "stdout",
     "output_type": "stream",
     "text": [
      "Computing scores for cluster '4' of query = 'car moving'\n"
     ]
    },
    {
     "name": "stderr",
     "output_type": "stream",
     "text": [
      "Setting `pad_token_id` to `eos_token_id`:128001 for open-end generation.\n"
     ]
    },
    {
     "name": "stdout",
     "output_type": "stream",
     "text": [
      "Computing scores for cluster '5' of query = 'car moving'\n"
     ]
    },
    {
     "name": "stderr",
     "output_type": "stream",
     "text": [
      "Setting `pad_token_id` to `eos_token_id`:128001 for open-end generation.\n"
     ]
    },
    {
     "name": "stdout",
     "output_type": "stream",
     "text": [
      "Computing scores for cluster '6' of query = 'car moving'\n"
     ]
    },
    {
     "name": "stderr",
     "output_type": "stream",
     "text": [
      "Setting `pad_token_id` to `eos_token_id`:128001 for open-end generation.\n"
     ]
    },
    {
     "name": "stdout",
     "output_type": "stream",
     "text": [
      "Computing scores for cluster '0' of query = 'small house'\n"
     ]
    },
    {
     "name": "stderr",
     "output_type": "stream",
     "text": [
      "Setting `pad_token_id` to `eos_token_id`:128001 for open-end generation.\n"
     ]
    },
    {
     "name": "stdout",
     "output_type": "stream",
     "text": [
      "Computing scores for cluster '1' of query = 'small house'\n"
     ]
    },
    {
     "name": "stderr",
     "output_type": "stream",
     "text": [
      "Setting `pad_token_id` to `eos_token_id`:128001 for open-end generation.\n"
     ]
    },
    {
     "name": "stdout",
     "output_type": "stream",
     "text": [
      "Computing scores for cluster '2' of query = 'small house'\n"
     ]
    },
    {
     "name": "stderr",
     "output_type": "stream",
     "text": [
      "Setting `pad_token_id` to `eos_token_id`:128001 for open-end generation.\n"
     ]
    },
    {
     "name": "stdout",
     "output_type": "stream",
     "text": [
      "Computing scores for cluster '3' of query = 'small house'\n"
     ]
    },
    {
     "name": "stderr",
     "output_type": "stream",
     "text": [
      "Setting `pad_token_id` to `eos_token_id`:128001 for open-end generation.\n"
     ]
    },
    {
     "name": "stdout",
     "output_type": "stream",
     "text": [
      "Computing scores for cluster '4' of query = 'small house'\n"
     ]
    },
    {
     "name": "stderr",
     "output_type": "stream",
     "text": [
      "Setting `pad_token_id` to `eos_token_id`:128001 for open-end generation.\n"
     ]
    },
    {
     "name": "stdout",
     "output_type": "stream",
     "text": [
      "Computing scores for cluster '5' of query = 'small house'\n"
     ]
    },
    {
     "name": "stderr",
     "output_type": "stream",
     "text": [
      "Setting `pad_token_id` to `eos_token_id`:128001 for open-end generation.\n"
     ]
    },
    {
     "name": "stdout",
     "output_type": "stream",
     "text": [
      "Computing scores for cluster '6' of query = 'small house'\n"
     ]
    },
    {
     "name": "stderr",
     "output_type": "stream",
     "text": [
      "Setting `pad_token_id` to `eos_token_id`:128001 for open-end generation.\n"
     ]
    },
    {
     "name": "stdout",
     "output_type": "stream",
     "text": [
      "Computing scores for cluster '7' of query = 'small house'\n"
     ]
    },
    {
     "name": "stderr",
     "output_type": "stream",
     "text": [
      "Setting `pad_token_id` to `eos_token_id`:128001 for open-end generation.\n"
     ]
    },
    {
     "name": "stdout",
     "output_type": "stream",
     "text": [
      "Computing scores for cluster '8' of query = 'small house'\n"
     ]
    },
    {
     "name": "stderr",
     "output_type": "stream",
     "text": [
      "Setting `pad_token_id` to `eos_token_id`:128001 for open-end generation.\n"
     ]
    },
    {
     "name": "stdout",
     "output_type": "stream",
     "text": [
      "Computing scores for cluster '0' of query = 'horse sleeping'\n"
     ]
    },
    {
     "name": "stderr",
     "output_type": "stream",
     "text": [
      "Setting `pad_token_id` to `eos_token_id`:128001 for open-end generation.\n"
     ]
    },
    {
     "name": "stdout",
     "output_type": "stream",
     "text": [
      "Computing scores for cluster '1' of query = 'horse sleeping'\n"
     ]
    },
    {
     "name": "stderr",
     "output_type": "stream",
     "text": [
      "Setting `pad_token_id` to `eos_token_id`:128001 for open-end generation.\n"
     ]
    },
    {
     "name": "stdout",
     "output_type": "stream",
     "text": [
      "Computing scores for cluster '2' of query = 'horse sleeping'\n"
     ]
    },
    {
     "name": "stderr",
     "output_type": "stream",
     "text": [
      "Setting `pad_token_id` to `eos_token_id`:128001 for open-end generation.\n"
     ]
    },
    {
     "name": "stdout",
     "output_type": "stream",
     "text": [
      "Computing scores for cluster '3' of query = 'horse sleeping'\n"
     ]
    },
    {
     "name": "stderr",
     "output_type": "stream",
     "text": [
      "Setting `pad_token_id` to `eos_token_id`:128001 for open-end generation.\n"
     ]
    },
    {
     "name": "stdout",
     "output_type": "stream",
     "text": [
      "Computing scores for cluster '4' of query = 'horse sleeping'\n",
      "[ndcg] [W] division by 0 [W]\n"
     ]
    },
    {
     "name": "stderr",
     "output_type": "stream",
     "text": [
      "Setting `pad_token_id` to `eos_token_id`:128001 for open-end generation.\n"
     ]
    },
    {
     "name": "stdout",
     "output_type": "stream",
     "text": [
      "Computing scores for cluster '6' of query = 'horse sleeping'\n"
     ]
    },
    {
     "name": "stderr",
     "output_type": "stream",
     "text": [
      "Setting `pad_token_id` to `eos_token_id`:128001 for open-end generation.\n"
     ]
    },
    {
     "name": "stdout",
     "output_type": "stream",
     "text": [
      "Computing scores for cluster '0' of query = 'cat drinking'\n"
     ]
    },
    {
     "name": "stderr",
     "output_type": "stream",
     "text": [
      "Setting `pad_token_id` to `eos_token_id`:128001 for open-end generation.\n"
     ]
    },
    {
     "name": "stdout",
     "output_type": "stream",
     "text": [
      "Computing scores for cluster '1' of query = 'cat drinking'\n"
     ]
    },
    {
     "name": "stderr",
     "output_type": "stream",
     "text": [
      "Setting `pad_token_id` to `eos_token_id`:128001 for open-end generation.\n"
     ]
    },
    {
     "name": "stdout",
     "output_type": "stream",
     "text": [
      "Computing scores for cluster '2' of query = 'cat drinking'\n"
     ]
    },
    {
     "name": "stderr",
     "output_type": "stream",
     "text": [
      "Setting `pad_token_id` to `eos_token_id`:128001 for open-end generation.\n"
     ]
    },
    {
     "name": "stdout",
     "output_type": "stream",
     "text": [
      "Computing scores for cluster '3' of query = 'cat drinking'\n"
     ]
    },
    {
     "name": "stderr",
     "output_type": "stream",
     "text": [
      "Setting `pad_token_id` to `eos_token_id`:128001 for open-end generation.\n"
     ]
    },
    {
     "name": "stdout",
     "output_type": "stream",
     "text": [
      "Computing scores for cluster '4' of query = 'cat drinking'\n"
     ]
    },
    {
     "name": "stderr",
     "output_type": "stream",
     "text": [
      "Setting `pad_token_id` to `eos_token_id`:128001 for open-end generation.\n"
     ]
    },
    {
     "name": "stdout",
     "output_type": "stream",
     "text": [
      "Computing scores for cluster '5' of query = 'cat drinking'\n"
     ]
    },
    {
     "name": "stderr",
     "output_type": "stream",
     "text": [
      "Setting `pad_token_id` to `eos_token_id`:128001 for open-end generation.\n"
     ]
    },
    {
     "name": "stdout",
     "output_type": "stream",
     "text": [
      "Computing scores for cluster '6' of query = 'cat drinking'\n"
     ]
    },
    {
     "name": "stderr",
     "output_type": "stream",
     "text": [
      "Setting `pad_token_id` to `eos_token_id`:128001 for open-end generation.\n"
     ]
    },
    {
     "name": "stdout",
     "output_type": "stream",
     "text": [
      "Computing scores for cluster '7' of query = 'cat drinking'\n"
     ]
    },
    {
     "name": "stderr",
     "output_type": "stream",
     "text": [
      "Setting `pad_token_id` to `eos_token_id`:128001 for open-end generation.\n"
     ]
    },
    {
     "name": "stdout",
     "output_type": "stream",
     "text": [
      "Computing scores for cluster '8' of query = 'cat drinking'\n"
     ]
    },
    {
     "name": "stderr",
     "output_type": "stream",
     "text": [
      "Setting `pad_token_id` to `eos_token_id`:128001 for open-end generation.\n"
     ]
    },
    {
     "name": "stdout",
     "output_type": "stream",
     "text": [
      "Computing scores for cluster '0' of query = 'factory'\n"
     ]
    },
    {
     "name": "stderr",
     "output_type": "stream",
     "text": [
      "Setting `pad_token_id` to `eos_token_id`:128001 for open-end generation.\n"
     ]
    },
    {
     "name": "stdout",
     "output_type": "stream",
     "text": [
      "Computing scores for cluster '1' of query = 'factory'\n"
     ]
    },
    {
     "name": "stderr",
     "output_type": "stream",
     "text": [
      "Setting `pad_token_id` to `eos_token_id`:128001 for open-end generation.\n"
     ]
    },
    {
     "name": "stdout",
     "output_type": "stream",
     "text": [
      "Computing scores for cluster '2' of query = 'factory'\n"
     ]
    },
    {
     "name": "stderr",
     "output_type": "stream",
     "text": [
      "Setting `pad_token_id` to `eos_token_id`:128001 for open-end generation.\n"
     ]
    },
    {
     "name": "stdout",
     "output_type": "stream",
     "text": [
      "Computing scores for cluster '3' of query = 'factory'\n"
     ]
    },
    {
     "name": "stderr",
     "output_type": "stream",
     "text": [
      "Setting `pad_token_id` to `eos_token_id`:128001 for open-end generation.\n"
     ]
    },
    {
     "name": "stdout",
     "output_type": "stream",
     "text": [
      "Computing scores for cluster '4' of query = 'factory'\n"
     ]
    },
    {
     "name": "stderr",
     "output_type": "stream",
     "text": [
      "Setting `pad_token_id` to `eos_token_id`:128001 for open-end generation.\n"
     ]
    },
    {
     "name": "stdout",
     "output_type": "stream",
     "text": [
      "Computing scores for cluster '5' of query = 'factory'\n"
     ]
    },
    {
     "name": "stderr",
     "output_type": "stream",
     "text": [
      "Setting `pad_token_id` to `eos_token_id`:128001 for open-end generation.\n"
     ]
    },
    {
     "name": "stdout",
     "output_type": "stream",
     "text": [
      "Computing scores for cluster '0' of query = 'chair'\n"
     ]
    },
    {
     "name": "stderr",
     "output_type": "stream",
     "text": [
      "Setting `pad_token_id` to `eos_token_id`:128001 for open-end generation.\n"
     ]
    },
    {
     "name": "stdout",
     "output_type": "stream",
     "text": [
      "Computing scores for cluster '1' of query = 'chair'\n"
     ]
    },
    {
     "name": "stderr",
     "output_type": "stream",
     "text": [
      "Setting `pad_token_id` to `eos_token_id`:128001 for open-end generation.\n"
     ]
    },
    {
     "name": "stdout",
     "output_type": "stream",
     "text": [
      "Computing scores for cluster '2' of query = 'chair'\n"
     ]
    },
    {
     "name": "stderr",
     "output_type": "stream",
     "text": [
      "Setting `pad_token_id` to `eos_token_id`:128001 for open-end generation.\n"
     ]
    },
    {
     "name": "stdout",
     "output_type": "stream",
     "text": [
      "Computing scores for cluster '3' of query = 'chair'\n"
     ]
    },
    {
     "name": "stderr",
     "output_type": "stream",
     "text": [
      "Setting `pad_token_id` to `eos_token_id`:128001 for open-end generation.\n"
     ]
    },
    {
     "name": "stdout",
     "output_type": "stream",
     "text": [
      "Computing scores for cluster '4' of query = 'chair'\n"
     ]
    },
    {
     "name": "stderr",
     "output_type": "stream",
     "text": [
      "Setting `pad_token_id` to `eos_token_id`:128001 for open-end generation.\n"
     ]
    },
    {
     "name": "stdout",
     "output_type": "stream",
     "text": [
      "Computing scores for cluster '5' of query = 'chair'\n"
     ]
    },
    {
     "name": "stderr",
     "output_type": "stream",
     "text": [
      "Setting `pad_token_id` to `eos_token_id`:128001 for open-end generation.\n"
     ]
    },
    {
     "name": "stdout",
     "output_type": "stream",
     "text": [
      "Computing scores for cluster '6' of query = 'chair'\n"
     ]
    },
    {
     "name": "stderr",
     "output_type": "stream",
     "text": [
      "Setting `pad_token_id` to `eos_token_id`:128001 for open-end generation.\n"
     ]
    },
    {
     "name": "stdout",
     "output_type": "stream",
     "text": [
      "Computing scores for cluster '7' of query = 'chair'\n",
      "[ndcg] [W] division by 0 [W]\n"
     ]
    },
    {
     "name": "stderr",
     "output_type": "stream",
     "text": [
      "Setting `pad_token_id` to `eos_token_id`:128001 for open-end generation.\n"
     ]
    },
    {
     "name": "stdout",
     "output_type": "stream",
     "text": [
      "Computing scores for cluster '0' of query = 'classroom'\n"
     ]
    },
    {
     "name": "stderr",
     "output_type": "stream",
     "text": [
      "Setting `pad_token_id` to `eos_token_id`:128001 for open-end generation.\n"
     ]
    },
    {
     "name": "stdout",
     "output_type": "stream",
     "text": [
      "Computing scores for cluster '1' of query = 'classroom'\n"
     ]
    },
    {
     "name": "stderr",
     "output_type": "stream",
     "text": [
      "Setting `pad_token_id` to `eos_token_id`:128001 for open-end generation.\n"
     ]
    },
    {
     "name": "stdout",
     "output_type": "stream",
     "text": [
      "Computing scores for cluster '2' of query = 'classroom'\n"
     ]
    },
    {
     "name": "stderr",
     "output_type": "stream",
     "text": [
      "Setting `pad_token_id` to `eos_token_id`:128001 for open-end generation.\n"
     ]
    },
    {
     "name": "stdout",
     "output_type": "stream",
     "text": [
      "Computing scores for cluster '0' of query = 'a person cooking'\n"
     ]
    },
    {
     "name": "stderr",
     "output_type": "stream",
     "text": [
      "Setting `pad_token_id` to `eos_token_id`:128001 for open-end generation.\n"
     ]
    },
    {
     "name": "stdout",
     "output_type": "stream",
     "text": [
      "Computing scores for cluster '1' of query = 'a person cooking'\n"
     ]
    },
    {
     "name": "stderr",
     "output_type": "stream",
     "text": [
      "Setting `pad_token_id` to `eos_token_id`:128001 for open-end generation.\n"
     ]
    },
    {
     "name": "stdout",
     "output_type": "stream",
     "text": [
      "Computing scores for cluster '2' of query = 'a person cooking'\n"
     ]
    },
    {
     "name": "stderr",
     "output_type": "stream",
     "text": [
      "Setting `pad_token_id` to `eos_token_id`:128001 for open-end generation.\n"
     ]
    },
    {
     "name": "stdout",
     "output_type": "stream",
     "text": [
      "Computing scores for cluster '3' of query = 'a person cooking'\n"
     ]
    },
    {
     "name": "stderr",
     "output_type": "stream",
     "text": [
      "Setting `pad_token_id` to `eos_token_id`:128001 for open-end generation.\n"
     ]
    },
    {
     "name": "stdout",
     "output_type": "stream",
     "text": [
      "Computing scores for cluster '4' of query = 'a person cooking'\n"
     ]
    },
    {
     "name": "stderr",
     "output_type": "stream",
     "text": [
      "Setting `pad_token_id` to `eos_token_id`:128001 for open-end generation.\n"
     ]
    },
    {
     "name": "stdout",
     "output_type": "stream",
     "text": [
      "Computing scores for cluster '5' of query = 'a person cooking'\n"
     ]
    },
    {
     "name": "stderr",
     "output_type": "stream",
     "text": [
      "Setting `pad_token_id` to `eos_token_id`:128001 for open-end generation.\n"
     ]
    },
    {
     "name": "stdout",
     "output_type": "stream",
     "text": [
      "Computing scores for cluster '6' of query = 'a person cooking'\n"
     ]
    },
    {
     "name": "stderr",
     "output_type": "stream",
     "text": [
      "Setting `pad_token_id` to `eos_token_id`:128001 for open-end generation.\n"
     ]
    },
    {
     "name": "stdout",
     "output_type": "stream",
     "text": [
      "Computing scores for cluster '7' of query = 'a person cooking'\n"
     ]
    },
    {
     "name": "stderr",
     "output_type": "stream",
     "text": [
      "Setting `pad_token_id` to `eos_token_id`:128001 for open-end generation.\n"
     ]
    },
    {
     "name": "stdout",
     "output_type": "stream",
     "text": [
      "Computing scores for cluster '8' of query = 'a person cooking'\n"
     ]
    },
    {
     "name": "stderr",
     "output_type": "stream",
     "text": [
      "Setting `pad_token_id` to `eos_token_id`:128001 for open-end generation.\n"
     ]
    },
    {
     "name": "stdout",
     "output_type": "stream",
     "text": [
      "Computing scores for cluster '9' of query = 'a person cooking'\n"
     ]
    },
    {
     "name": "stderr",
     "output_type": "stream",
     "text": [
      "Setting `pad_token_id` to `eos_token_id`:128001 for open-end generation.\n"
     ]
    },
    {
     "name": "stdout",
     "output_type": "stream",
     "text": [
      "Computing scores for cluster '0' of query = 'kid eating'\n"
     ]
    },
    {
     "name": "stderr",
     "output_type": "stream",
     "text": [
      "Setting `pad_token_id` to `eos_token_id`:128001 for open-end generation.\n"
     ]
    },
    {
     "name": "stdout",
     "output_type": "stream",
     "text": [
      "Computing scores for cluster '1' of query = 'kid eating'\n"
     ]
    },
    {
     "name": "stderr",
     "output_type": "stream",
     "text": [
      "Setting `pad_token_id` to `eos_token_id`:128001 for open-end generation.\n"
     ]
    },
    {
     "name": "stdout",
     "output_type": "stream",
     "text": [
      "Computing scores for cluster '2' of query = 'kid eating'\n"
     ]
    },
    {
     "name": "stderr",
     "output_type": "stream",
     "text": [
      "Setting `pad_token_id` to `eos_token_id`:128001 for open-end generation.\n"
     ]
    },
    {
     "name": "stdout",
     "output_type": "stream",
     "text": [
      "Computing scores for cluster '3' of query = 'kid eating'\n"
     ]
    },
    {
     "name": "stderr",
     "output_type": "stream",
     "text": [
      "Setting `pad_token_id` to `eos_token_id`:128001 for open-end generation.\n"
     ]
    },
    {
     "name": "stdout",
     "output_type": "stream",
     "text": [
      "Computing scores for cluster '4' of query = 'kid eating'\n"
     ]
    },
    {
     "name": "stderr",
     "output_type": "stream",
     "text": [
      "Setting `pad_token_id` to `eos_token_id`:128001 for open-end generation.\n"
     ]
    },
    {
     "name": "stdout",
     "output_type": "stream",
     "text": [
      "Computing scores for cluster '0' of query = 'person with pizza'\n"
     ]
    },
    {
     "name": "stderr",
     "output_type": "stream",
     "text": [
      "Setting `pad_token_id` to `eos_token_id`:128001 for open-end generation.\n"
     ]
    },
    {
     "name": "stdout",
     "output_type": "stream",
     "text": [
      "Computing scores for cluster '1' of query = 'person with pizza'\n"
     ]
    },
    {
     "name": "stderr",
     "output_type": "stream",
     "text": [
      "Setting `pad_token_id` to `eos_token_id`:128001 for open-end generation.\n"
     ]
    },
    {
     "name": "stdout",
     "output_type": "stream",
     "text": [
      "Computing scores for cluster '2' of query = 'person with pizza'\n"
     ]
    },
    {
     "name": "stderr",
     "output_type": "stream",
     "text": [
      "Setting `pad_token_id` to `eos_token_id`:128001 for open-end generation.\n"
     ]
    },
    {
     "name": "stdout",
     "output_type": "stream",
     "text": [
      "Computing scores for cluster '3' of query = 'person with pizza'\n"
     ]
    },
    {
     "name": "stderr",
     "output_type": "stream",
     "text": [
      "Setting `pad_token_id` to `eos_token_id`:128001 for open-end generation.\n"
     ]
    },
    {
     "name": "stdout",
     "output_type": "stream",
     "text": [
      "Computing scores for cluster '4' of query = 'person with pizza'\n"
     ]
    },
    {
     "name": "stderr",
     "output_type": "stream",
     "text": [
      "Setting `pad_token_id` to `eos_token_id`:128001 for open-end generation.\n"
     ]
    },
    {
     "name": "stdout",
     "output_type": "stream",
     "text": [
      "Computing scores for cluster '5' of query = 'person with pizza'\n"
     ]
    },
    {
     "name": "stderr",
     "output_type": "stream",
     "text": [
      "Setting `pad_token_id` to `eos_token_id`:128001 for open-end generation.\n"
     ]
    },
    {
     "name": "stdout",
     "output_type": "stream",
     "text": [
      "Computing scores for cluster '0' of query = 'person with a surf board'\n"
     ]
    },
    {
     "name": "stderr",
     "output_type": "stream",
     "text": [
      "Setting `pad_token_id` to `eos_token_id`:128001 for open-end generation.\n"
     ]
    },
    {
     "name": "stdout",
     "output_type": "stream",
     "text": [
      "Computing scores for cluster '1' of query = 'person with a surf board'\n"
     ]
    },
    {
     "name": "stderr",
     "output_type": "stream",
     "text": [
      "Setting `pad_token_id` to `eos_token_id`:128001 for open-end generation.\n"
     ]
    },
    {
     "name": "stdout",
     "output_type": "stream",
     "text": [
      "Computing scores for cluster '2' of query = 'person with a surf board'\n"
     ]
    },
    {
     "name": "stderr",
     "output_type": "stream",
     "text": [
      "Setting `pad_token_id` to `eos_token_id`:128001 for open-end generation.\n"
     ]
    },
    {
     "name": "stdout",
     "output_type": "stream",
     "text": [
      "Computing scores for cluster '3' of query = 'person with a surf board'\n",
      "[ndcg] [W] division by 0 [W]\n"
     ]
    },
    {
     "name": "stderr",
     "output_type": "stream",
     "text": [
      "Setting `pad_token_id` to `eos_token_id`:128001 for open-end generation.\n"
     ]
    },
    {
     "name": "stdout",
     "output_type": "stream",
     "text": [
      "Computing scores for cluster '4' of query = 'person with a surf board'\n",
      "[ndcg] [W] division by 0 [W]\n"
     ]
    },
    {
     "name": "stderr",
     "output_type": "stream",
     "text": [
      "Setting `pad_token_id` to `eos_token_id`:128001 for open-end generation.\n"
     ]
    },
    {
     "name": "stdout",
     "output_type": "stream",
     "text": [
      "Computing scores for cluster '5' of query = 'person with a surf board'\n"
     ]
    },
    {
     "name": "stderr",
     "output_type": "stream",
     "text": [
      "Setting `pad_token_id` to `eos_token_id`:128001 for open-end generation.\n"
     ]
    },
    {
     "name": "stdout",
     "output_type": "stream",
     "text": [
      "Computing scores for cluster '6' of query = 'person with a surf board'\n"
     ]
    },
    {
     "name": "stderr",
     "output_type": "stream",
     "text": [
      "Setting `pad_token_id` to `eos_token_id`:128001 for open-end generation.\n"
     ]
    },
    {
     "name": "stdout",
     "output_type": "stream",
     "text": [
      "Computing scores for cluster '7' of query = 'person with a surf board'\n"
     ]
    },
    {
     "name": "stderr",
     "output_type": "stream",
     "text": [
      "Setting `pad_token_id` to `eos_token_id`:128001 for open-end generation.\n"
     ]
    },
    {
     "name": "stdout",
     "output_type": "stream",
     "text": [
      "Computing scores for cluster '8' of query = 'person with a surf board'\n"
     ]
    },
    {
     "name": "stderr",
     "output_type": "stream",
     "text": [
      "Setting `pad_token_id` to `eos_token_id`:128001 for open-end generation.\n"
     ]
    },
    {
     "name": "stdout",
     "output_type": "stream",
     "text": [
      "Computing scores for cluster '9' of query = 'person with a surf board'\n",
      "[ndcg] [W] division by 0 [W]\n"
     ]
    },
    {
     "name": "stderr",
     "output_type": "stream",
     "text": [
      "Setting `pad_token_id` to `eos_token_id`:128001 for open-end generation.\n"
     ]
    },
    {
     "name": "stdout",
     "output_type": "stream",
     "text": [
      "Computing scores for cluster '0' of query = 'person riding'\n"
     ]
    },
    {
     "name": "stderr",
     "output_type": "stream",
     "text": [
      "Setting `pad_token_id` to `eos_token_id`:128001 for open-end generation.\n"
     ]
    },
    {
     "name": "stdout",
     "output_type": "stream",
     "text": [
      "Computing scores for cluster '1' of query = 'person riding'\n"
     ]
    },
    {
     "name": "stderr",
     "output_type": "stream",
     "text": [
      "Setting `pad_token_id` to `eos_token_id`:128001 for open-end generation.\n"
     ]
    },
    {
     "name": "stdout",
     "output_type": "stream",
     "text": [
      "Computing scores for cluster '2' of query = 'person riding'\n"
     ]
    },
    {
     "name": "stderr",
     "output_type": "stream",
     "text": [
      "Setting `pad_token_id` to `eos_token_id`:128001 for open-end generation.\n"
     ]
    },
    {
     "name": "stdout",
     "output_type": "stream",
     "text": [
      "Computing scores for cluster '3' of query = 'person riding'\n"
     ]
    },
    {
     "name": "stderr",
     "output_type": "stream",
     "text": [
      "Setting `pad_token_id` to `eos_token_id`:128001 for open-end generation.\n"
     ]
    },
    {
     "name": "stdout",
     "output_type": "stream",
     "text": [
      "Computing scores for cluster '4' of query = 'person riding'\n"
     ]
    },
    {
     "name": "stderr",
     "output_type": "stream",
     "text": [
      "Setting `pad_token_id` to `eos_token_id`:128001 for open-end generation.\n"
     ]
    },
    {
     "name": "stdout",
     "output_type": "stream",
     "text": [
      "Computing scores for cluster '5' of query = 'person riding'\n"
     ]
    },
    {
     "name": "stderr",
     "output_type": "stream",
     "text": [
      "Setting `pad_token_id` to `eos_token_id`:128001 for open-end generation.\n"
     ]
    },
    {
     "name": "stdout",
     "output_type": "stream",
     "text": [
      "Computing scores for cluster '6' of query = 'person riding'\n"
     ]
    },
    {
     "name": "stderr",
     "output_type": "stream",
     "text": [
      "Setting `pad_token_id` to `eos_token_id`:128001 for open-end generation.\n"
     ]
    },
    {
     "name": "stdout",
     "output_type": "stream",
     "text": [
      "Computing scores for cluster '7' of query = 'person riding'\n"
     ]
    },
    {
     "name": "stderr",
     "output_type": "stream",
     "text": [
      "Setting `pad_token_id` to `eos_token_id`:128001 for open-end generation.\n"
     ]
    },
    {
     "name": "stdout",
     "output_type": "stream",
     "text": [
      "Computing scores for cluster '8' of query = 'person riding'\n"
     ]
    },
    {
     "name": "stderr",
     "output_type": "stream",
     "text": [
      "Setting `pad_token_id` to `eos_token_id`:128001 for open-end generation.\n"
     ]
    },
    {
     "name": "stdout",
     "output_type": "stream",
     "text": [
      "Computing scores for cluster '0' of query = 'reading a news paper'\n"
     ]
    },
    {
     "name": "stderr",
     "output_type": "stream",
     "text": [
      "Setting `pad_token_id` to `eos_token_id`:128001 for open-end generation.\n"
     ]
    },
    {
     "name": "stdout",
     "output_type": "stream",
     "text": [
      "Computing scores for cluster '2' of query = 'reading a news paper'\n"
     ]
    },
    {
     "name": "stderr",
     "output_type": "stream",
     "text": [
      "Setting `pad_token_id` to `eos_token_id`:128001 for open-end generation.\n"
     ]
    },
    {
     "name": "stdout",
     "output_type": "stream",
     "text": [
      "Computing scores for cluster '3' of query = 'reading a news paper'\n"
     ]
    },
    {
     "name": "stderr",
     "output_type": "stream",
     "text": [
      "Setting `pad_token_id` to `eos_token_id`:128001 for open-end generation.\n"
     ]
    },
    {
     "name": "stdout",
     "output_type": "stream",
     "text": [
      "Computing scores for cluster '4' of query = 'reading a news paper'\n"
     ]
    },
    {
     "name": "stderr",
     "output_type": "stream",
     "text": [
      "Setting `pad_token_id` to `eos_token_id`:128001 for open-end generation.\n"
     ]
    },
    {
     "name": "stdout",
     "output_type": "stream",
     "text": [
      "Computing scores for cluster '6' of query = 'reading a news paper'\n"
     ]
    },
    {
     "name": "stderr",
     "output_type": "stream",
     "text": [
      "Setting `pad_token_id` to `eos_token_id`:128001 for open-end generation.\n"
     ]
    },
    {
     "name": "stdout",
     "output_type": "stream",
     "text": [
      "Computing scores for cluster '0' of query = 'keyboard'\n"
     ]
    },
    {
     "name": "stderr",
     "output_type": "stream",
     "text": [
      "Setting `pad_token_id` to `eos_token_id`:128001 for open-end generation.\n"
     ]
    },
    {
     "name": "stdout",
     "output_type": "stream",
     "text": [
      "Computing scores for cluster '1' of query = 'keyboard'\n"
     ]
    },
    {
     "name": "stderr",
     "output_type": "stream",
     "text": [
      "Setting `pad_token_id` to `eos_token_id`:128001 for open-end generation.\n"
     ]
    },
    {
     "name": "stdout",
     "output_type": "stream",
     "text": [
      "Computing scores for cluster '2' of query = 'keyboard'\n"
     ]
    },
    {
     "name": "stderr",
     "output_type": "stream",
     "text": [
      "Setting `pad_token_id` to `eos_token_id`:128001 for open-end generation.\n"
     ]
    },
    {
     "name": "stdout",
     "output_type": "stream",
     "text": [
      "Computing scores for cluster '3' of query = 'keyboard'\n"
     ]
    },
    {
     "name": "stderr",
     "output_type": "stream",
     "text": [
      "Setting `pad_token_id` to `eos_token_id`:128001 for open-end generation.\n"
     ]
    },
    {
     "name": "stdout",
     "output_type": "stream",
     "text": [
      "Computing scores for cluster '4' of query = 'keyboard'\n"
     ]
    },
    {
     "name": "stderr",
     "output_type": "stream",
     "text": [
      "Setting `pad_token_id` to `eos_token_id`:128001 for open-end generation.\n"
     ]
    },
    {
     "name": "stdout",
     "output_type": "stream",
     "text": [
      "Computing scores for cluster '5' of query = 'keyboard'\n"
     ]
    },
    {
     "name": "stderr",
     "output_type": "stream",
     "text": [
      "Setting `pad_token_id` to `eos_token_id`:128001 for open-end generation.\n"
     ]
    },
    {
     "name": "stdout",
     "output_type": "stream",
     "text": [
      "Computing scores for cluster '6' of query = 'keyboard'\n"
     ]
    },
    {
     "name": "stderr",
     "output_type": "stream",
     "text": [
      "Setting `pad_token_id` to `eos_token_id`:128001 for open-end generation.\n"
     ]
    },
    {
     "name": "stdout",
     "output_type": "stream",
     "text": [
      "Computing scores for cluster '0' of query = 'using a notebook'\n"
     ]
    },
    {
     "name": "stderr",
     "output_type": "stream",
     "text": [
      "Setting `pad_token_id` to `eos_token_id`:128001 for open-end generation.\n"
     ]
    },
    {
     "name": "stdout",
     "output_type": "stream",
     "text": [
      "Computing scores for cluster '1' of query = 'using a notebook'\n"
     ]
    },
    {
     "name": "stderr",
     "output_type": "stream",
     "text": [
      "Setting `pad_token_id` to `eos_token_id`:128001 for open-end generation.\n"
     ]
    },
    {
     "name": "stdout",
     "output_type": "stream",
     "text": [
      "Computing scores for cluster '2' of query = 'using a notebook'\n"
     ]
    },
    {
     "name": "stderr",
     "output_type": "stream",
     "text": [
      "Setting `pad_token_id` to `eos_token_id`:128001 for open-end generation.\n"
     ]
    },
    {
     "name": "stdout",
     "output_type": "stream",
     "text": [
      "Computing scores for cluster '3' of query = 'using a notebook'\n"
     ]
    },
    {
     "name": "stderr",
     "output_type": "stream",
     "text": [
      "Setting `pad_token_id` to `eos_token_id`:128001 for open-end generation.\n"
     ]
    },
    {
     "name": "stdout",
     "output_type": "stream",
     "text": [
      "Computing scores for cluster '4' of query = 'using a notebook'\n"
     ]
    },
    {
     "name": "stderr",
     "output_type": "stream",
     "text": [
      "Setting `pad_token_id` to `eos_token_id`:128001 for open-end generation.\n"
     ]
    },
    {
     "name": "stdout",
     "output_type": "stream",
     "text": [
      "Computing scores for cluster '5' of query = 'using a notebook'\n"
     ]
    },
    {
     "name": "stderr",
     "output_type": "stream",
     "text": [
      "Setting `pad_token_id` to `eos_token_id`:128001 for open-end generation.\n"
     ]
    },
    {
     "name": "stdout",
     "output_type": "stream",
     "text": [
      "Computing scores for cluster '6' of query = 'using a notebook'\n"
     ]
    },
    {
     "name": "stderr",
     "output_type": "stream",
     "text": [
      "Setting `pad_token_id` to `eos_token_id`:128001 for open-end generation.\n"
     ]
    },
    {
     "name": "stdout",
     "output_type": "stream",
     "text": [
      "Computing scores for cluster '8' of query = 'using a notebook'\n"
     ]
    },
    {
     "name": "stderr",
     "output_type": "stream",
     "text": [
      "Setting `pad_token_id` to `eos_token_id`:128001 for open-end generation.\n"
     ]
    },
    {
     "name": "stdout",
     "output_type": "stream",
     "text": [
      "Computing scores for cluster '0' of query = 'running water'\n"
     ]
    },
    {
     "name": "stderr",
     "output_type": "stream",
     "text": [
      "Setting `pad_token_id` to `eos_token_id`:128001 for open-end generation.\n"
     ]
    },
    {
     "name": "stdout",
     "output_type": "stream",
     "text": [
      "Computing scores for cluster '1' of query = 'running water'\n"
     ]
    },
    {
     "name": "stderr",
     "output_type": "stream",
     "text": [
      "Setting `pad_token_id` to `eos_token_id`:128001 for open-end generation.\n"
     ]
    },
    {
     "name": "stdout",
     "output_type": "stream",
     "text": [
      "Computing scores for cluster '2' of query = 'running water'\n",
      "[ndcg] [W] division by 0 [W]\n"
     ]
    },
    {
     "name": "stderr",
     "output_type": "stream",
     "text": [
      "Setting `pad_token_id` to `eos_token_id`:128001 for open-end generation.\n"
     ]
    },
    {
     "name": "stdout",
     "output_type": "stream",
     "text": [
      "Computing scores for cluster '3' of query = 'running water'\n"
     ]
    },
    {
     "name": "stderr",
     "output_type": "stream",
     "text": [
      "Setting `pad_token_id` to `eos_token_id`:128001 for open-end generation.\n"
     ]
    },
    {
     "name": "stdout",
     "output_type": "stream",
     "text": [
      "Computing scores for cluster '4' of query = 'running water'\n"
     ]
    },
    {
     "name": "stderr",
     "output_type": "stream",
     "text": [
      "Setting `pad_token_id` to `eos_token_id`:128001 for open-end generation.\n"
     ]
    },
    {
     "name": "stdout",
     "output_type": "stream",
     "text": [
      "Computing scores for cluster '0' of query = 'a cat proud'\n"
     ]
    },
    {
     "name": "stderr",
     "output_type": "stream",
     "text": [
      "Setting `pad_token_id` to `eos_token_id`:128001 for open-end generation.\n"
     ]
    },
    {
     "name": "stdout",
     "output_type": "stream",
     "text": [
      "Computing scores for cluster '1' of query = 'a cat proud'\n"
     ]
    },
    {
     "name": "stderr",
     "output_type": "stream",
     "text": [
      "Setting `pad_token_id` to `eos_token_id`:128001 for open-end generation.\n"
     ]
    },
    {
     "name": "stdout",
     "output_type": "stream",
     "text": [
      "Computing scores for cluster '2' of query = 'a cat proud'\n"
     ]
    },
    {
     "name": "stderr",
     "output_type": "stream",
     "text": [
      "Setting `pad_token_id` to `eos_token_id`:128001 for open-end generation.\n"
     ]
    },
    {
     "name": "stdout",
     "output_type": "stream",
     "text": [
      "Computing scores for cluster '3' of query = 'a cat proud'\n"
     ]
    },
    {
     "name": "stderr",
     "output_type": "stream",
     "text": [
      "Setting `pad_token_id` to `eos_token_id`:128001 for open-end generation.\n"
     ]
    },
    {
     "name": "stdout",
     "output_type": "stream",
     "text": [
      "Computing scores for cluster '4' of query = 'a cat proud'\n"
     ]
    },
    {
     "name": "stderr",
     "output_type": "stream",
     "text": [
      "Setting `pad_token_id` to `eos_token_id`:128001 for open-end generation.\n"
     ]
    },
    {
     "name": "stdout",
     "output_type": "stream",
     "text": [
      "Computing scores for cluster '0' of query = 'dog in the water'\n"
     ]
    },
    {
     "name": "stderr",
     "output_type": "stream",
     "text": [
      "Setting `pad_token_id` to `eos_token_id`:128001 for open-end generation.\n"
     ]
    },
    {
     "name": "stdout",
     "output_type": "stream",
     "text": [
      "Computing scores for cluster '1' of query = 'dog in the water'\n"
     ]
    },
    {
     "name": "stderr",
     "output_type": "stream",
     "text": [
      "Setting `pad_token_id` to `eos_token_id`:128001 for open-end generation.\n"
     ]
    },
    {
     "name": "stdout",
     "output_type": "stream",
     "text": [
      "Computing scores for cluster '2' of query = 'dog in the water'\n"
     ]
    },
    {
     "name": "stderr",
     "output_type": "stream",
     "text": [
      "Setting `pad_token_id` to `eos_token_id`:128001 for open-end generation.\n"
     ]
    },
    {
     "name": "stdout",
     "output_type": "stream",
     "text": [
      "Computing scores for cluster '3' of query = 'dog in the water'\n"
     ]
    },
    {
     "name": "stderr",
     "output_type": "stream",
     "text": [
      "Setting `pad_token_id` to `eos_token_id`:128001 for open-end generation.\n"
     ]
    },
    {
     "name": "stdout",
     "output_type": "stream",
     "text": [
      "Computing scores for cluster '4' of query = 'dog in the water'\n"
     ]
    },
    {
     "name": "stderr",
     "output_type": "stream",
     "text": [
      "Setting `pad_token_id` to `eos_token_id`:128001 for open-end generation.\n"
     ]
    },
    {
     "name": "stdout",
     "output_type": "stream",
     "text": [
      "Computing scores for cluster '0' of query = 'riding a motorcycle'\n"
     ]
    },
    {
     "name": "stderr",
     "output_type": "stream",
     "text": [
      "Setting `pad_token_id` to `eos_token_id`:128001 for open-end generation.\n"
     ]
    },
    {
     "name": "stdout",
     "output_type": "stream",
     "text": [
      "Computing scores for cluster '1' of query = 'riding a motorcycle'\n"
     ]
    },
    {
     "name": "stderr",
     "output_type": "stream",
     "text": [
      "Setting `pad_token_id` to `eos_token_id`:128001 for open-end generation.\n"
     ]
    },
    {
     "name": "stdout",
     "output_type": "stream",
     "text": [
      "Computing scores for cluster '2' of query = 'riding a motorcycle'\n",
      "[ndcg] [W] division by 0 [W]\n"
     ]
    },
    {
     "name": "stderr",
     "output_type": "stream",
     "text": [
      "Setting `pad_token_id` to `eos_token_id`:128001 for open-end generation.\n"
     ]
    },
    {
     "name": "stdout",
     "output_type": "stream",
     "text": [
      "Computing scores for cluster '3' of query = 'riding a motorcycle'\n"
     ]
    },
    {
     "name": "stderr",
     "output_type": "stream",
     "text": [
      "Setting `pad_token_id` to `eos_token_id`:128001 for open-end generation.\n"
     ]
    },
    {
     "name": "stdout",
     "output_type": "stream",
     "text": [
      "Computing scores for cluster '4' of query = 'riding a motorcycle'\n"
     ]
    },
    {
     "name": "stderr",
     "output_type": "stream",
     "text": [
      "Setting `pad_token_id` to `eos_token_id`:128001 for open-end generation.\n"
     ]
    },
    {
     "name": "stdout",
     "output_type": "stream",
     "text": [
      "Computing scores for cluster '5' of query = 'riding a motorcycle'\n"
     ]
    },
    {
     "name": "stderr",
     "output_type": "stream",
     "text": [
      "Setting `pad_token_id` to `eos_token_id`:128001 for open-end generation.\n"
     ]
    },
    {
     "name": "stdout",
     "output_type": "stream",
     "text": [
      "Computing scores for cluster '0' of query = 'flying a kite'\n"
     ]
    },
    {
     "name": "stderr",
     "output_type": "stream",
     "text": [
      "Setting `pad_token_id` to `eos_token_id`:128001 for open-end generation.\n"
     ]
    },
    {
     "name": "stdout",
     "output_type": "stream",
     "text": [
      "Computing scores for cluster '1' of query = 'flying a kite'\n"
     ]
    },
    {
     "name": "stderr",
     "output_type": "stream",
     "text": [
      "Setting `pad_token_id` to `eos_token_id`:128001 for open-end generation.\n"
     ]
    },
    {
     "name": "stdout",
     "output_type": "stream",
     "text": [
      "Computing scores for cluster '2' of query = 'flying a kite'\n"
     ]
    },
    {
     "name": "stderr",
     "output_type": "stream",
     "text": [
      "Setting `pad_token_id` to `eos_token_id`:128001 for open-end generation.\n"
     ]
    },
    {
     "name": "stdout",
     "output_type": "stream",
     "text": [
      "Computing scores for cluster '3' of query = 'flying a kite'\n"
     ]
    },
    {
     "name": "stderr",
     "output_type": "stream",
     "text": [
      "Setting `pad_token_id` to `eos_token_id`:128001 for open-end generation.\n"
     ]
    },
    {
     "name": "stdout",
     "output_type": "stream",
     "text": [
      "Computing scores for cluster '0' of query = 'marketplace'\n"
     ]
    },
    {
     "name": "stderr",
     "output_type": "stream",
     "text": [
      "Setting `pad_token_id` to `eos_token_id`:128001 for open-end generation.\n"
     ]
    },
    {
     "name": "stdout",
     "output_type": "stream",
     "text": [
      "Computing scores for cluster '1' of query = 'marketplace'\n"
     ]
    },
    {
     "name": "stderr",
     "output_type": "stream",
     "text": [
      "Setting `pad_token_id` to `eos_token_id`:128001 for open-end generation.\n"
     ]
    },
    {
     "name": "stdout",
     "output_type": "stream",
     "text": [
      "Computing scores for cluster '2' of query = 'marketplace'\n"
     ]
    },
    {
     "name": "stderr",
     "output_type": "stream",
     "text": [
      "Setting `pad_token_id` to `eos_token_id`:128001 for open-end generation.\n"
     ]
    },
    {
     "name": "stdout",
     "output_type": "stream",
     "text": [
      "Computing scores for cluster '3' of query = 'marketplace'\n"
     ]
    },
    {
     "name": "stderr",
     "output_type": "stream",
     "text": [
      "Setting `pad_token_id` to `eos_token_id`:128001 for open-end generation.\n"
     ]
    },
    {
     "name": "stdout",
     "output_type": "stream",
     "text": [
      "Computing scores for cluster '4' of query = 'marketplace'\n"
     ]
    },
    {
     "name": "stderr",
     "output_type": "stream",
     "text": [
      "Setting `pad_token_id` to `eos_token_id`:128001 for open-end generation.\n"
     ]
    },
    {
     "name": "stdout",
     "output_type": "stream",
     "text": [
      "Computing scores for cluster '0' of query = 'kitchen appliances'\n"
     ]
    },
    {
     "name": "stderr",
     "output_type": "stream",
     "text": [
      "Setting `pad_token_id` to `eos_token_id`:128001 for open-end generation.\n"
     ]
    },
    {
     "name": "stdout",
     "output_type": "stream",
     "text": [
      "Computing scores for cluster '1' of query = 'kitchen appliances'\n"
     ]
    },
    {
     "name": "stderr",
     "output_type": "stream",
     "text": [
      "Setting `pad_token_id` to `eos_token_id`:128001 for open-end generation.\n"
     ]
    },
    {
     "name": "stdout",
     "output_type": "stream",
     "text": [
      "Computing scores for cluster '2' of query = 'kitchen appliances'\n"
     ]
    },
    {
     "name": "stderr",
     "output_type": "stream",
     "text": [
      "Setting `pad_token_id` to `eos_token_id`:128001 for open-end generation.\n"
     ]
    },
    {
     "name": "stdout",
     "output_type": "stream",
     "text": [
      "Computing scores for cluster '3' of query = 'kitchen appliances'\n"
     ]
    },
    {
     "name": "stderr",
     "output_type": "stream",
     "text": [
      "Setting `pad_token_id` to `eos_token_id`:128001 for open-end generation.\n"
     ]
    },
    {
     "name": "stdout",
     "output_type": "stream",
     "text": [
      "Computing scores for cluster '4' of query = 'kitchen appliances'\n"
     ]
    },
    {
     "name": "stderr",
     "output_type": "stream",
     "text": [
      "Setting `pad_token_id` to `eos_token_id`:128001 for open-end generation.\n"
     ]
    },
    {
     "name": "stdout",
     "output_type": "stream",
     "text": [
      "Computing scores for cluster '0' of query = 'a photo of a tree'\n"
     ]
    },
    {
     "name": "stderr",
     "output_type": "stream",
     "text": [
      "Setting `pad_token_id` to `eos_token_id`:128001 for open-end generation.\n"
     ]
    },
    {
     "name": "stdout",
     "output_type": "stream",
     "text": [
      "Computing scores for cluster '1' of query = 'a photo of a tree'\n"
     ]
    },
    {
     "name": "stderr",
     "output_type": "stream",
     "text": [
      "Setting `pad_token_id` to `eos_token_id`:128001 for open-end generation.\n"
     ]
    },
    {
     "name": "stdout",
     "output_type": "stream",
     "text": [
      "Computing scores for cluster '2' of query = 'a photo of a tree'\n"
     ]
    },
    {
     "name": "stderr",
     "output_type": "stream",
     "text": [
      "Setting `pad_token_id` to `eos_token_id`:128001 for open-end generation.\n"
     ]
    },
    {
     "name": "stdout",
     "output_type": "stream",
     "text": [
      "Computing scores for cluster '3' of query = 'a photo of a tree'\n"
     ]
    },
    {
     "name": "stderr",
     "output_type": "stream",
     "text": [
      "Setting `pad_token_id` to `eos_token_id`:128001 for open-end generation.\n"
     ]
    },
    {
     "name": "stdout",
     "output_type": "stream",
     "text": [
      "Computing scores for cluster '0' of query = 'people enjoying'\n"
     ]
    },
    {
     "name": "stderr",
     "output_type": "stream",
     "text": [
      "Setting `pad_token_id` to `eos_token_id`:128001 for open-end generation.\n"
     ]
    },
    {
     "name": "stdout",
     "output_type": "stream",
     "text": [
      "Computing scores for cluster '1' of query = 'people enjoying'\n"
     ]
    },
    {
     "name": "stderr",
     "output_type": "stream",
     "text": [
      "Setting `pad_token_id` to `eos_token_id`:128001 for open-end generation.\n"
     ]
    },
    {
     "name": "stdout",
     "output_type": "stream",
     "text": [
      "Computing scores for cluster '2' of query = 'people enjoying'\n"
     ]
    },
    {
     "name": "stderr",
     "output_type": "stream",
     "text": [
      "Setting `pad_token_id` to `eos_token_id`:128001 for open-end generation.\n"
     ]
    },
    {
     "name": "stdout",
     "output_type": "stream",
     "text": [
      "Computing scores for cluster '3' of query = 'people enjoying'\n"
     ]
    },
    {
     "name": "stderr",
     "output_type": "stream",
     "text": [
      "Setting `pad_token_id` to `eos_token_id`:128001 for open-end generation.\n"
     ]
    },
    {
     "name": "stdout",
     "output_type": "stream",
     "text": [
      "Computing scores for cluster '4' of query = 'people enjoying'\n"
     ]
    },
    {
     "name": "stderr",
     "output_type": "stream",
     "text": [
      "Setting `pad_token_id` to `eos_token_id`:128001 for open-end generation.\n"
     ]
    },
    {
     "name": "stdout",
     "output_type": "stream",
     "text": [
      "Computing scores for cluster '6' of query = 'people enjoying'\n"
     ]
    },
    {
     "name": "stderr",
     "output_type": "stream",
     "text": [
      "Setting `pad_token_id` to `eos_token_id`:128001 for open-end generation.\n"
     ]
    },
    {
     "name": "stdout",
     "output_type": "stream",
     "text": [
      "Computing scores for cluster '7' of query = 'people enjoying'\n"
     ]
    },
    {
     "name": "stderr",
     "output_type": "stream",
     "text": [
      "Setting `pad_token_id` to `eos_token_id`:128001 for open-end generation.\n"
     ]
    },
    {
     "name": "stdout",
     "output_type": "stream",
     "text": [
      "Computing scores for cluster '0' of query = 'a portrait'\n",
      "[ndcg] [W] division by 0 [W]\n"
     ]
    },
    {
     "name": "stderr",
     "output_type": "stream",
     "text": [
      "Setting `pad_token_id` to `eos_token_id`:128001 for open-end generation.\n"
     ]
    },
    {
     "name": "stdout",
     "output_type": "stream",
     "text": [
      "Computing scores for cluster '1' of query = 'a portrait'\n"
     ]
    },
    {
     "name": "stderr",
     "output_type": "stream",
     "text": [
      "Setting `pad_token_id` to `eos_token_id`:128001 for open-end generation.\n"
     ]
    },
    {
     "name": "stdout",
     "output_type": "stream",
     "text": [
      "Computing scores for cluster '2' of query = 'a portrait'\n"
     ]
    },
    {
     "name": "stderr",
     "output_type": "stream",
     "text": [
      "Setting `pad_token_id` to `eos_token_id`:128001 for open-end generation.\n"
     ]
    },
    {
     "name": "stdout",
     "output_type": "stream",
     "text": [
      "Computing scores for cluster '3' of query = 'a portrait'\n"
     ]
    },
    {
     "name": "stderr",
     "output_type": "stream",
     "text": [
      "Setting `pad_token_id` to `eos_token_id`:128001 for open-end generation.\n"
     ]
    },
    {
     "name": "stdout",
     "output_type": "stream",
     "text": [
      "Computing scores for cluster '4' of query = 'a portrait'\n"
     ]
    },
    {
     "name": "stderr",
     "output_type": "stream",
     "text": [
      "Setting `pad_token_id` to `eos_token_id`:128001 for open-end generation.\n"
     ]
    },
    {
     "name": "stdout",
     "output_type": "stream",
     "text": [
      "Computing scores for cluster '0' of query = 'person at the phone'\n"
     ]
    },
    {
     "name": "stderr",
     "output_type": "stream",
     "text": [
      "Setting `pad_token_id` to `eos_token_id`:128001 for open-end generation.\n"
     ]
    },
    {
     "name": "stdout",
     "output_type": "stream",
     "text": [
      "Computing scores for cluster '1' of query = 'person at the phone'\n"
     ]
    },
    {
     "name": "stderr",
     "output_type": "stream",
     "text": [
      "Setting `pad_token_id` to `eos_token_id`:128001 for open-end generation.\n"
     ]
    },
    {
     "name": "stdout",
     "output_type": "stream",
     "text": [
      "Computing scores for cluster '2' of query = 'person at the phone'\n"
     ]
    },
    {
     "name": "stderr",
     "output_type": "stream",
     "text": [
      "Setting `pad_token_id` to `eos_token_id`:128001 for open-end generation.\n"
     ]
    },
    {
     "name": "stdout",
     "output_type": "stream",
     "text": [
      "Computing scores for cluster '3' of query = 'person at the phone'\n"
     ]
    },
    {
     "name": "stderr",
     "output_type": "stream",
     "text": [
      "Setting `pad_token_id` to `eos_token_id`:128001 for open-end generation.\n"
     ]
    },
    {
     "name": "stdout",
     "output_type": "stream",
     "text": [
      "Computing scores for cluster '0' of query = 'football'\n"
     ]
    },
    {
     "name": "stderr",
     "output_type": "stream",
     "text": [
      "Setting `pad_token_id` to `eos_token_id`:128001 for open-end generation.\n"
     ]
    },
    {
     "name": "stdout",
     "output_type": "stream",
     "text": [
      "Computing scores for cluster '1' of query = 'football'\n"
     ]
    },
    {
     "name": "stderr",
     "output_type": "stream",
     "text": [
      "Setting `pad_token_id` to `eos_token_id`:128001 for open-end generation.\n"
     ]
    },
    {
     "name": "stdout",
     "output_type": "stream",
     "text": [
      "Computing scores for cluster '2' of query = 'football'\n"
     ]
    },
    {
     "name": "stderr",
     "output_type": "stream",
     "text": [
      "Setting `pad_token_id` to `eos_token_id`:128001 for open-end generation.\n"
     ]
    },
    {
     "name": "stdout",
     "output_type": "stream",
     "text": [
      "Computing scores for cluster '3' of query = 'football'\n"
     ]
    },
    {
     "name": "stderr",
     "output_type": "stream",
     "text": [
      "Setting `pad_token_id` to `eos_token_id`:128001 for open-end generation.\n"
     ]
    },
    {
     "name": "stdout",
     "output_type": "stream",
     "text": [
      "Computing scores for cluster '0' of query = 'dish of food'\n"
     ]
    },
    {
     "name": "stderr",
     "output_type": "stream",
     "text": [
      "Setting `pad_token_id` to `eos_token_id`:128001 for open-end generation.\n"
     ]
    },
    {
     "name": "stdout",
     "output_type": "stream",
     "text": [
      "Computing scores for cluster '1' of query = 'dish of food'\n"
     ]
    },
    {
     "name": "stderr",
     "output_type": "stream",
     "text": [
      "Setting `pad_token_id` to `eos_token_id`:128001 for open-end generation.\n"
     ]
    },
    {
     "name": "stdout",
     "output_type": "stream",
     "text": [
      "Computing scores for cluster '2' of query = 'dish of food'\n"
     ]
    },
    {
     "name": "stderr",
     "output_type": "stream",
     "text": [
      "Setting `pad_token_id` to `eos_token_id`:128001 for open-end generation.\n"
     ]
    },
    {
     "name": "stdout",
     "output_type": "stream",
     "text": [
      "Computing scores for cluster '3' of query = 'dish of food'\n"
     ]
    },
    {
     "name": "stderr",
     "output_type": "stream",
     "text": [
      "Setting `pad_token_id` to `eos_token_id`:128001 for open-end generation.\n"
     ]
    },
    {
     "name": "stdout",
     "output_type": "stream",
     "text": [
      "Computing scores for cluster '4' of query = 'dish of food'\n"
     ]
    },
    {
     "name": "stderr",
     "output_type": "stream",
     "text": [
      "Setting `pad_token_id` to `eos_token_id`:128001 for open-end generation.\n"
     ]
    },
    {
     "name": "stdout",
     "output_type": "stream",
     "text": [
      "Computing scores for cluster '5' of query = 'dish of food'\n"
     ]
    },
    {
     "name": "stderr",
     "output_type": "stream",
     "text": [
      "Setting `pad_token_id` to `eos_token_id`:128001 for open-end generation.\n"
     ]
    },
    {
     "name": "stdout",
     "output_type": "stream",
     "text": [
      "Computing scores for cluster '6' of query = 'dish of food'\n"
     ]
    },
    {
     "name": "stderr",
     "output_type": "stream",
     "text": [
      "Setting `pad_token_id` to `eos_token_id`:128001 for open-end generation.\n"
     ]
    },
    {
     "name": "stdout",
     "output_type": "stream",
     "text": [
      "Computing scores for cluster '0' of query = 'playing videogames'\n"
     ]
    },
    {
     "name": "stderr",
     "output_type": "stream",
     "text": [
      "Setting `pad_token_id` to `eos_token_id`:128001 for open-end generation.\n"
     ]
    },
    {
     "name": "stdout",
     "output_type": "stream",
     "text": [
      "Computing scores for cluster '1' of query = 'playing videogames'\n"
     ]
    },
    {
     "name": "stderr",
     "output_type": "stream",
     "text": [
      "Setting `pad_token_id` to `eos_token_id`:128001 for open-end generation.\n"
     ]
    },
    {
     "name": "stdout",
     "output_type": "stream",
     "text": [
      "Computing scores for cluster '2' of query = 'playing videogames'\n"
     ]
    },
    {
     "name": "stderr",
     "output_type": "stream",
     "text": [
      "Setting `pad_token_id` to `eos_token_id`:128001 for open-end generation.\n"
     ]
    },
    {
     "name": "stdout",
     "output_type": "stream",
     "text": [
      "Computing scores for cluster '3' of query = 'playing videogames'\n"
     ]
    },
    {
     "name": "stderr",
     "output_type": "stream",
     "text": [
      "Setting `pad_token_id` to `eos_token_id`:128001 for open-end generation.\n"
     ]
    },
    {
     "name": "stdout",
     "output_type": "stream",
     "text": [
      "Computing scores for cluster '4' of query = 'playing videogames'\n"
     ]
    },
    {
     "name": "stderr",
     "output_type": "stream",
     "text": [
      "Setting `pad_token_id` to `eos_token_id`:128001 for open-end generation.\n"
     ]
    },
    {
     "name": "stdout",
     "output_type": "stream",
     "text": [
      "Computing scores for cluster '5' of query = 'playing videogames'\n"
     ]
    },
    {
     "name": "stderr",
     "output_type": "stream",
     "text": [
      "Setting `pad_token_id` to `eos_token_id`:128001 for open-end generation.\n"
     ]
    },
    {
     "name": "stdout",
     "output_type": "stream",
     "text": [
      "Computing scores for cluster '6' of query = 'playing videogames'\n",
      "[ndcg] [W] division by 0 [W]\n"
     ]
    },
    {
     "name": "stderr",
     "output_type": "stream",
     "text": [
      "Setting `pad_token_id` to `eos_token_id`:128001 for open-end generation.\n"
     ]
    },
    {
     "name": "stdout",
     "output_type": "stream",
     "text": [
      "Computing scores for cluster '7' of query = 'playing videogames'\n"
     ]
    },
    {
     "name": "stderr",
     "output_type": "stream",
     "text": [
      "Setting `pad_token_id` to `eos_token_id`:128001 for open-end generation.\n"
     ]
    },
    {
     "name": "stdout",
     "output_type": "stream",
     "text": [
      "Computing scores for cluster '8' of query = 'playing videogames'\n"
     ]
    },
    {
     "name": "stderr",
     "output_type": "stream",
     "text": [
      "Setting `pad_token_id` to `eos_token_id`:128001 for open-end generation.\n"
     ]
    },
    {
     "name": "stdout",
     "output_type": "stream",
     "text": [
      "Computing scores for cluster '9' of query = 'playing videogames'\n"
     ]
    },
    {
     "name": "stderr",
     "output_type": "stream",
     "text": [
      "Setting `pad_token_id` to `eos_token_id`:128001 for open-end generation.\n"
     ]
    },
    {
     "name": "stdout",
     "output_type": "stream",
     "text": [
      "Computing scores for cluster '0' of query = 'sunrise'\n"
     ]
    },
    {
     "name": "stderr",
     "output_type": "stream",
     "text": [
      "Setting `pad_token_id` to `eos_token_id`:128001 for open-end generation.\n"
     ]
    },
    {
     "name": "stdout",
     "output_type": "stream",
     "text": [
      "Computing scores for cluster '1' of query = 'sunrise'\n"
     ]
    },
    {
     "name": "stderr",
     "output_type": "stream",
     "text": [
      "Setting `pad_token_id` to `eos_token_id`:128001 for open-end generation.\n"
     ]
    },
    {
     "name": "stdout",
     "output_type": "stream",
     "text": [
      "Computing scores for cluster '2' of query = 'sunrise'\n"
     ]
    },
    {
     "name": "stderr",
     "output_type": "stream",
     "text": [
      "Setting `pad_token_id` to `eos_token_id`:128001 for open-end generation.\n"
     ]
    },
    {
     "name": "stdout",
     "output_type": "stream",
     "text": [
      "Computing scores for cluster '3' of query = 'sunrise'\n"
     ]
    },
    {
     "name": "stderr",
     "output_type": "stream",
     "text": [
      "Setting `pad_token_id` to `eos_token_id`:128001 for open-end generation.\n"
     ]
    },
    {
     "name": "stdout",
     "output_type": "stream",
     "text": [
      "Computing scores for cluster '0' of query = 'a woman in the city'\n"
     ]
    },
    {
     "name": "stderr",
     "output_type": "stream",
     "text": [
      "Setting `pad_token_id` to `eos_token_id`:128001 for open-end generation.\n"
     ]
    },
    {
     "name": "stdout",
     "output_type": "stream",
     "text": [
      "Computing scores for cluster '1' of query = 'a woman in the city'\n"
     ]
    },
    {
     "name": "stderr",
     "output_type": "stream",
     "text": [
      "Setting `pad_token_id` to `eos_token_id`:128001 for open-end generation.\n"
     ]
    },
    {
     "name": "stdout",
     "output_type": "stream",
     "text": [
      "Computing scores for cluster '2' of query = 'a woman in the city'\n"
     ]
    },
    {
     "name": "stderr",
     "output_type": "stream",
     "text": [
      "Setting `pad_token_id` to `eos_token_id`:128001 for open-end generation.\n"
     ]
    },
    {
     "name": "stdout",
     "output_type": "stream",
     "text": [
      "Computing scores for cluster '3' of query = 'a woman in the city'\n"
     ]
    },
    {
     "name": "stderr",
     "output_type": "stream",
     "text": [
      "Setting `pad_token_id` to `eos_token_id`:128001 for open-end generation.\n"
     ]
    },
    {
     "name": "stdout",
     "output_type": "stream",
     "text": [
      "Computing scores for cluster '4' of query = 'a woman in the city'\n"
     ]
    },
    {
     "name": "stderr",
     "output_type": "stream",
     "text": [
      "Setting `pad_token_id` to `eos_token_id`:128001 for open-end generation.\n"
     ]
    },
    {
     "name": "stdout",
     "output_type": "stream",
     "text": [
      "Computing scores for cluster '0' of query = 'a sport race'\n"
     ]
    },
    {
     "name": "stderr",
     "output_type": "stream",
     "text": [
      "Setting `pad_token_id` to `eos_token_id`:128001 for open-end generation.\n"
     ]
    },
    {
     "name": "stdout",
     "output_type": "stream",
     "text": [
      "Computing scores for cluster '1' of query = 'a sport race'\n"
     ]
    },
    {
     "name": "stderr",
     "output_type": "stream",
     "text": [
      "Setting `pad_token_id` to `eos_token_id`:128001 for open-end generation.\n"
     ]
    },
    {
     "name": "stdout",
     "output_type": "stream",
     "text": [
      "Computing scores for cluster '2' of query = 'a sport race'\n"
     ]
    },
    {
     "name": "stderr",
     "output_type": "stream",
     "text": [
      "Setting `pad_token_id` to `eos_token_id`:128001 for open-end generation.\n"
     ]
    },
    {
     "name": "stdout",
     "output_type": "stream",
     "text": [
      "Computing scores for cluster '3' of query = 'a sport race'\n"
     ]
    },
    {
     "name": "stderr",
     "output_type": "stream",
     "text": [
      "Setting `pad_token_id` to `eos_token_id`:128001 for open-end generation.\n"
     ]
    },
    {
     "name": "stdout",
     "output_type": "stream",
     "text": [
      "Computing scores for cluster '4' of query = 'a sport race'\n"
     ]
    },
    {
     "name": "stderr",
     "output_type": "stream",
     "text": [
      "Setting `pad_token_id` to `eos_token_id`:128001 for open-end generation.\n"
     ]
    },
    {
     "name": "stdout",
     "output_type": "stream",
     "text": [
      "Computing scores for cluster '0' of query = 'ice cream'\n"
     ]
    },
    {
     "name": "stderr",
     "output_type": "stream",
     "text": [
      "Setting `pad_token_id` to `eos_token_id`:128001 for open-end generation.\n"
     ]
    },
    {
     "name": "stdout",
     "output_type": "stream",
     "text": [
      "Computing scores for cluster '1' of query = 'ice cream'\n"
     ]
    },
    {
     "name": "stderr",
     "output_type": "stream",
     "text": [
      "Setting `pad_token_id` to `eos_token_id`:128001 for open-end generation.\n"
     ]
    },
    {
     "name": "stdout",
     "output_type": "stream",
     "text": [
      "Computing scores for cluster '2' of query = 'ice cream'\n"
     ]
    },
    {
     "name": "stderr",
     "output_type": "stream",
     "text": [
      "Setting `pad_token_id` to `eos_token_id`:128001 for open-end generation.\n"
     ]
    },
    {
     "name": "stdout",
     "output_type": "stream",
     "text": [
      "Computing scores for cluster '3' of query = 'ice cream'\n"
     ]
    },
    {
     "name": "stderr",
     "output_type": "stream",
     "text": [
      "Setting `pad_token_id` to `eos_token_id`:128001 for open-end generation.\n"
     ]
    },
    {
     "name": "stdout",
     "output_type": "stream",
     "text": [
      "Computing scores for cluster '0' of query = 'police'\n"
     ]
    },
    {
     "name": "stderr",
     "output_type": "stream",
     "text": [
      "Setting `pad_token_id` to `eos_token_id`:128001 for open-end generation.\n"
     ]
    },
    {
     "name": "stdout",
     "output_type": "stream",
     "text": [
      "Computing scores for cluster '1' of query = 'police'\n"
     ]
    },
    {
     "name": "stderr",
     "output_type": "stream",
     "text": [
      "Setting `pad_token_id` to `eos_token_id`:128001 for open-end generation.\n"
     ]
    },
    {
     "name": "stdout",
     "output_type": "stream",
     "text": [
      "Computing scores for cluster '2' of query = 'police'\n"
     ]
    },
    {
     "name": "stderr",
     "output_type": "stream",
     "text": [
      "Setting `pad_token_id` to `eos_token_id`:128001 for open-end generation.\n"
     ]
    },
    {
     "name": "stdout",
     "output_type": "stream",
     "text": [
      "Computing scores for cluster '3' of query = 'police'\n"
     ]
    },
    {
     "name": "stderr",
     "output_type": "stream",
     "text": [
      "Setting `pad_token_id` to `eos_token_id`:128001 for open-end generation.\n"
     ]
    },
    {
     "name": "stdout",
     "output_type": "stream",
     "text": [
      "Computing scores for cluster '4' of query = 'police'\n"
     ]
    },
    {
     "name": "stderr",
     "output_type": "stream",
     "text": [
      "Setting `pad_token_id` to `eos_token_id`:128001 for open-end generation.\n"
     ]
    },
    {
     "name": "stdout",
     "output_type": "stream",
     "text": [
      "Computing scores for cluster '0' of query = 'playing frisbee'\n"
     ]
    },
    {
     "name": "stderr",
     "output_type": "stream",
     "text": [
      "Setting `pad_token_id` to `eos_token_id`:128001 for open-end generation.\n"
     ]
    },
    {
     "name": "stdout",
     "output_type": "stream",
     "text": [
      "Computing scores for cluster '1' of query = 'playing frisbee'\n"
     ]
    },
    {
     "name": "stderr",
     "output_type": "stream",
     "text": [
      "Setting `pad_token_id` to `eos_token_id`:128001 for open-end generation.\n"
     ]
    },
    {
     "name": "stdout",
     "output_type": "stream",
     "text": [
      "Computing scores for cluster '2' of query = 'playing frisbee'\n"
     ]
    },
    {
     "name": "stderr",
     "output_type": "stream",
     "text": [
      "Setting `pad_token_id` to `eos_token_id`:128001 for open-end generation.\n"
     ]
    },
    {
     "name": "stdout",
     "output_type": "stream",
     "text": [
      "Computing scores for cluster '0' of query = 'happiness'\n",
      "[ndcg] [W] division by 0 [W]\n"
     ]
    },
    {
     "name": "stderr",
     "output_type": "stream",
     "text": [
      "Setting `pad_token_id` to `eos_token_id`:128001 for open-end generation.\n"
     ]
    },
    {
     "name": "stdout",
     "output_type": "stream",
     "text": [
      "Computing scores for cluster '1' of query = 'happiness'\n"
     ]
    },
    {
     "name": "stderr",
     "output_type": "stream",
     "text": [
      "Setting `pad_token_id` to `eos_token_id`:128001 for open-end generation.\n"
     ]
    },
    {
     "name": "stdout",
     "output_type": "stream",
     "text": [
      "Computing scores for cluster '2' of query = 'happiness'\n"
     ]
    },
    {
     "name": "stderr",
     "output_type": "stream",
     "text": [
      "Setting `pad_token_id` to `eos_token_id`:128001 for open-end generation.\n"
     ]
    },
    {
     "name": "stdout",
     "output_type": "stream",
     "text": [
      "Computing scores for cluster '3' of query = 'happiness'\n",
      "[ndcg] [W] division by 0 [W]\n"
     ]
    },
    {
     "name": "stderr",
     "output_type": "stream",
     "text": [
      "Setting `pad_token_id` to `eos_token_id`:128001 for open-end generation.\n"
     ]
    },
    {
     "name": "stdout",
     "output_type": "stream",
     "text": [
      "Computing scores for cluster '4' of query = 'happiness'\n"
     ]
    },
    {
     "name": "stderr",
     "output_type": "stream",
     "text": [
      "Setting `pad_token_id` to `eos_token_id`:128001 for open-end generation.\n"
     ]
    },
    {
     "name": "stdout",
     "output_type": "stream",
     "text": [
      "Computing scores for cluster '5' of query = 'happiness'\n",
      "[ndcg] [W] division by 0 [W]\n",
      "[ndcg] [W] division by 0 [W]\n"
     ]
    },
    {
     "name": "stderr",
     "output_type": "stream",
     "text": [
      "Setting `pad_token_id` to `eos_token_id`:128001 for open-end generation.\n"
     ]
    },
    {
     "name": "stdout",
     "output_type": "stream",
     "text": [
      "Computing scores for cluster '6' of query = 'happiness'\n"
     ]
    },
    {
     "name": "stderr",
     "output_type": "stream",
     "text": [
      "Setting `pad_token_id` to `eos_token_id`:128001 for open-end generation.\n"
     ]
    },
    {
     "name": "stdout",
     "output_type": "stream",
     "text": [
      "Computing scores for cluster '7' of query = 'happiness'\n"
     ]
    },
    {
     "name": "stderr",
     "output_type": "stream",
     "text": [
      "Setting `pad_token_id` to `eos_token_id`:128001 for open-end generation.\n"
     ]
    },
    {
     "name": "stdout",
     "output_type": "stream",
     "text": [
      "Computing scores for cluster '0' of query = 'a man with water'\n"
     ]
    },
    {
     "name": "stderr",
     "output_type": "stream",
     "text": [
      "Setting `pad_token_id` to `eos_token_id`:128001 for open-end generation.\n"
     ]
    },
    {
     "name": "stdout",
     "output_type": "stream",
     "text": [
      "Computing scores for cluster '1' of query = 'a man with water'\n"
     ]
    },
    {
     "name": "stderr",
     "output_type": "stream",
     "text": [
      "Setting `pad_token_id` to `eos_token_id`:128001 for open-end generation.\n"
     ]
    },
    {
     "name": "stdout",
     "output_type": "stream",
     "text": [
      "Computing scores for cluster '2' of query = 'a man with water'\n"
     ]
    },
    {
     "name": "stderr",
     "output_type": "stream",
     "text": [
      "Setting `pad_token_id` to `eos_token_id`:128001 for open-end generation.\n"
     ]
    },
    {
     "name": "stdout",
     "output_type": "stream",
     "text": [
      "Computing scores for cluster '3' of query = 'a man with water'\n"
     ]
    },
    {
     "name": "stderr",
     "output_type": "stream",
     "text": [
      "Setting `pad_token_id` to `eos_token_id`:128001 for open-end generation.\n"
     ]
    },
    {
     "name": "stdout",
     "output_type": "stream",
     "text": [
      "Computing scores for cluster '4' of query = 'a man with water'\n"
     ]
    },
    {
     "name": "stderr",
     "output_type": "stream",
     "text": [
      "Setting `pad_token_id` to `eos_token_id`:128001 for open-end generation.\n"
     ]
    },
    {
     "name": "stdout",
     "output_type": "stream",
     "text": [
      "Computing scores for cluster '5' of query = 'a man with water'\n"
     ]
    },
    {
     "name": "stderr",
     "output_type": "stream",
     "text": [
      "Setting `pad_token_id` to `eos_token_id`:128001 for open-end generation.\n"
     ]
    },
    {
     "name": "stdout",
     "output_type": "stream",
     "text": [
      "Computing scores for cluster '6' of query = 'a man with water'\n"
     ]
    },
    {
     "name": "stderr",
     "output_type": "stream",
     "text": [
      "Setting `pad_token_id` to `eos_token_id`:128001 for open-end generation.\n"
     ]
    },
    {
     "name": "stdout",
     "output_type": "stream",
     "text": [
      "Computing scores for cluster '7' of query = 'a man with water'\n"
     ]
    },
    {
     "name": "stderr",
     "output_type": "stream",
     "text": [
      "Setting `pad_token_id` to `eos_token_id`:128001 for open-end generation.\n"
     ]
    },
    {
     "name": "stdout",
     "output_type": "stream",
     "text": [
      "Computing scores for cluster '0' of query = 'backpack'\n"
     ]
    },
    {
     "name": "stderr",
     "output_type": "stream",
     "text": [
      "Setting `pad_token_id` to `eos_token_id`:128001 for open-end generation.\n"
     ]
    },
    {
     "name": "stdout",
     "output_type": "stream",
     "text": [
      "Computing scores for cluster '1' of query = 'backpack'\n"
     ]
    },
    {
     "name": "stderr",
     "output_type": "stream",
     "text": [
      "Setting `pad_token_id` to `eos_token_id`:128001 for open-end generation.\n"
     ]
    },
    {
     "name": "stdout",
     "output_type": "stream",
     "text": [
      "Computing scores for cluster '2' of query = 'backpack'\n"
     ]
    },
    {
     "name": "stderr",
     "output_type": "stream",
     "text": [
      "Setting `pad_token_id` to `eos_token_id`:128001 for open-end generation.\n"
     ]
    },
    {
     "name": "stdout",
     "output_type": "stream",
     "text": [
      "Computing scores for cluster '3' of query = 'backpack'\n"
     ]
    },
    {
     "name": "stderr",
     "output_type": "stream",
     "text": [
      "Setting `pad_token_id` to `eos_token_id`:128001 for open-end generation.\n"
     ]
    },
    {
     "name": "stdout",
     "output_type": "stream",
     "text": [
      "Computing scores for cluster '4' of query = 'backpack'\n"
     ]
    },
    {
     "name": "stderr",
     "output_type": "stream",
     "text": [
      "Setting `pad_token_id` to `eos_token_id`:128001 for open-end generation.\n"
     ]
    },
    {
     "name": "stdout",
     "output_type": "stream",
     "text": [
      "Computing scores for cluster '0' of query = 'clock'\n"
     ]
    },
    {
     "name": "stderr",
     "output_type": "stream",
     "text": [
      "Setting `pad_token_id` to `eos_token_id`:128001 for open-end generation.\n"
     ]
    },
    {
     "name": "stdout",
     "output_type": "stream",
     "text": [
      "Computing scores for cluster '1' of query = 'clock'\n"
     ]
    },
    {
     "name": "stderr",
     "output_type": "stream",
     "text": [
      "Setting `pad_token_id` to `eos_token_id`:128001 for open-end generation.\n"
     ]
    },
    {
     "name": "stdout",
     "output_type": "stream",
     "text": [
      "Computing scores for cluster '2' of query = 'clock'\n"
     ]
    },
    {
     "name": "stderr",
     "output_type": "stream",
     "text": [
      "Setting `pad_token_id` to `eos_token_id`:128001 for open-end generation.\n"
     ]
    },
    {
     "name": "stdout",
     "output_type": "stream",
     "text": [
      "Computing scores for cluster '3' of query = 'clock'\n"
     ]
    },
    {
     "name": "stderr",
     "output_type": "stream",
     "text": [
      "Setting `pad_token_id` to `eos_token_id`:128001 for open-end generation.\n"
     ]
    },
    {
     "name": "stdout",
     "output_type": "stream",
     "text": [
      "Computing scores for cluster '4' of query = 'clock'\n"
     ]
    },
    {
     "name": "stderr",
     "output_type": "stream",
     "text": [
      "Setting `pad_token_id` to `eos_token_id`:128001 for open-end generation.\n"
     ]
    },
    {
     "name": "stdout",
     "output_type": "stream",
     "text": [
      "Computing scores for cluster '0' of query = 'italy'\n"
     ]
    },
    {
     "name": "stderr",
     "output_type": "stream",
     "text": [
      "Setting `pad_token_id` to `eos_token_id`:128001 for open-end generation.\n"
     ]
    },
    {
     "name": "stdout",
     "output_type": "stream",
     "text": [
      "Computing scores for cluster '1' of query = 'italy'\n"
     ]
    },
    {
     "name": "stderr",
     "output_type": "stream",
     "text": [
      "Setting `pad_token_id` to `eos_token_id`:128001 for open-end generation.\n"
     ]
    },
    {
     "name": "stdout",
     "output_type": "stream",
     "text": [
      "Computing scores for cluster '2' of query = 'italy'\n"
     ]
    },
    {
     "name": "stderr",
     "output_type": "stream",
     "text": [
      "Setting `pad_token_id` to `eos_token_id`:128001 for open-end generation.\n"
     ]
    },
    {
     "name": "stdout",
     "output_type": "stream",
     "text": [
      "Computing scores for cluster '3' of query = 'italy'\n"
     ]
    },
    {
     "name": "stderr",
     "output_type": "stream",
     "text": [
      "Setting `pad_token_id` to `eos_token_id`:128001 for open-end generation.\n"
     ]
    },
    {
     "name": "stdout",
     "output_type": "stream",
     "text": [
      "Computing scores for cluster '4' of query = 'italy'\n"
     ]
    },
    {
     "name": "stderr",
     "output_type": "stream",
     "text": [
      "Setting `pad_token_id` to `eos_token_id`:128001 for open-end generation.\n"
     ]
    },
    {
     "name": "stdout",
     "output_type": "stream",
     "text": [
      "Computing scores for cluster '0' of query = 'italian car'\n"
     ]
    },
    {
     "name": "stderr",
     "output_type": "stream",
     "text": [
      "Setting `pad_token_id` to `eos_token_id`:128001 for open-end generation.\n"
     ]
    },
    {
     "name": "stdout",
     "output_type": "stream",
     "text": [
      "Computing scores for cluster '1' of query = 'italian car'\n"
     ]
    },
    {
     "name": "stderr",
     "output_type": "stream",
     "text": [
      "Setting `pad_token_id` to `eos_token_id`:128001 for open-end generation.\n"
     ]
    },
    {
     "name": "stdout",
     "output_type": "stream",
     "text": [
      "Computing scores for cluster '2' of query = 'italian car'\n"
     ]
    },
    {
     "name": "stderr",
     "output_type": "stream",
     "text": [
      "Setting `pad_token_id` to `eos_token_id`:128001 for open-end generation.\n"
     ]
    },
    {
     "name": "stdout",
     "output_type": "stream",
     "text": [
      "Computing scores for cluster '3' of query = 'italian car'\n"
     ]
    },
    {
     "name": "stderr",
     "output_type": "stream",
     "text": [
      "Setting `pad_token_id` to `eos_token_id`:128001 for open-end generation.\n"
     ]
    },
    {
     "name": "stdout",
     "output_type": "stream",
     "text": [
      "Computing scores for cluster '0' of query = 'cat resting'\n"
     ]
    },
    {
     "name": "stderr",
     "output_type": "stream",
     "text": [
      "Setting `pad_token_id` to `eos_token_id`:128001 for open-end generation.\n"
     ]
    },
    {
     "name": "stdout",
     "output_type": "stream",
     "text": [
      "Computing scores for cluster '1' of query = 'cat resting'\n"
     ]
    },
    {
     "name": "stderr",
     "output_type": "stream",
     "text": [
      "Setting `pad_token_id` to `eos_token_id`:128001 for open-end generation.\n"
     ]
    },
    {
     "name": "stdout",
     "output_type": "stream",
     "text": [
      "Computing scores for cluster '2' of query = 'cat resting'\n"
     ]
    },
    {
     "name": "stderr",
     "output_type": "stream",
     "text": [
      "Setting `pad_token_id` to `eos_token_id`:128001 for open-end generation.\n"
     ]
    },
    {
     "name": "stdout",
     "output_type": "stream",
     "text": [
      "Computing scores for cluster '3' of query = 'cat resting'\n"
     ]
    },
    {
     "name": "stderr",
     "output_type": "stream",
     "text": [
      "Setting `pad_token_id` to `eos_token_id`:128001 for open-end generation.\n"
     ]
    },
    {
     "name": "stdout",
     "output_type": "stream",
     "text": [
      "Computing scores for cluster '4' of query = 'cat resting'\n"
     ]
    },
    {
     "name": "stderr",
     "output_type": "stream",
     "text": [
      "Setting `pad_token_id` to `eos_token_id`:128001 for open-end generation.\n"
     ]
    },
    {
     "name": "stdout",
     "output_type": "stream",
     "text": [
      "Computing scores for cluster '5' of query = 'cat resting'\n"
     ]
    },
    {
     "name": "stderr",
     "output_type": "stream",
     "text": [
      "Setting `pad_token_id` to `eos_token_id`:128001 for open-end generation.\n"
     ]
    },
    {
     "name": "stdout",
     "output_type": "stream",
     "text": [
      "Computing scores for cluster '0' of query = 'glass bottle'\n"
     ]
    },
    {
     "name": "stderr",
     "output_type": "stream",
     "text": [
      "Setting `pad_token_id` to `eos_token_id`:128001 for open-end generation.\n"
     ]
    },
    {
     "name": "stdout",
     "output_type": "stream",
     "text": [
      "Computing scores for cluster '1' of query = 'glass bottle'\n"
     ]
    },
    {
     "name": "stderr",
     "output_type": "stream",
     "text": [
      "Setting `pad_token_id` to `eos_token_id`:128001 for open-end generation.\n"
     ]
    },
    {
     "name": "stdout",
     "output_type": "stream",
     "text": [
      "Computing scores for cluster '2' of query = 'glass bottle'\n"
     ]
    },
    {
     "name": "stderr",
     "output_type": "stream",
     "text": [
      "Setting `pad_token_id` to `eos_token_id`:128001 for open-end generation.\n"
     ]
    },
    {
     "name": "stdout",
     "output_type": "stream",
     "text": [
      "Computing scores for cluster '3' of query = 'glass bottle'\n"
     ]
    },
    {
     "name": "stderr",
     "output_type": "stream",
     "text": [
      "Setting `pad_token_id` to `eos_token_id`:128001 for open-end generation.\n"
     ]
    },
    {
     "name": "stdout",
     "output_type": "stream",
     "text": [
      "Computing scores for cluster '4' of query = 'glass bottle'\n"
     ]
    },
    {
     "name": "stderr",
     "output_type": "stream",
     "text": [
      "Setting `pad_token_id` to `eos_token_id`:128001 for open-end generation.\n"
     ]
    },
    {
     "name": "stdout",
     "output_type": "stream",
     "text": [
      "Computing scores for cluster '0' of query = 'tennis player'\n"
     ]
    },
    {
     "name": "stderr",
     "output_type": "stream",
     "text": [
      "Setting `pad_token_id` to `eos_token_id`:128001 for open-end generation.\n"
     ]
    },
    {
     "name": "stdout",
     "output_type": "stream",
     "text": [
      "Computing scores for cluster '1' of query = 'tennis player'\n"
     ]
    },
    {
     "name": "stderr",
     "output_type": "stream",
     "text": [
      "Setting `pad_token_id` to `eos_token_id`:128001 for open-end generation.\n"
     ]
    },
    {
     "name": "stdout",
     "output_type": "stream",
     "text": [
      "Computing scores for cluster '2' of query = 'tennis player'\n"
     ]
    },
    {
     "name": "stderr",
     "output_type": "stream",
     "text": [
      "Setting `pad_token_id` to `eos_token_id`:128001 for open-end generation.\n"
     ]
    },
    {
     "name": "stdout",
     "output_type": "stream",
     "text": [
      "Computing scores for cluster '3' of query = 'tennis player'\n"
     ]
    },
    {
     "name": "stderr",
     "output_type": "stream",
     "text": [
      "Setting `pad_token_id` to `eos_token_id`:128001 for open-end generation.\n"
     ]
    },
    {
     "name": "stdout",
     "output_type": "stream",
     "text": [
      "Computing scores for cluster '4' of query = 'tennis player'\n",
      "[ndcg] [W] division by 0 [W]\n"
     ]
    },
    {
     "name": "stderr",
     "output_type": "stream",
     "text": [
      "Setting `pad_token_id` to `eos_token_id`:128001 for open-end generation.\n"
     ]
    },
    {
     "name": "stdout",
     "output_type": "stream",
     "text": [
      "Computing scores for cluster '5' of query = 'tennis player'\n"
     ]
    },
    {
     "name": "stderr",
     "output_type": "stream",
     "text": [
      "Setting `pad_token_id` to `eos_token_id`:128001 for open-end generation.\n"
     ]
    },
    {
     "name": "stdout",
     "output_type": "stream",
     "text": [
      "Computing scores for cluster '6' of query = 'tennis player'\n"
     ]
    },
    {
     "name": "stderr",
     "output_type": "stream",
     "text": [
      "Setting `pad_token_id` to `eos_token_id`:128001 for open-end generation.\n"
     ]
    },
    {
     "name": "stdout",
     "output_type": "stream",
     "text": [
      "Computing scores for cluster '7' of query = 'tennis player'\n"
     ]
    },
    {
     "name": "stderr",
     "output_type": "stream",
     "text": [
      "Setting `pad_token_id` to `eos_token_id`:128001 for open-end generation.\n"
     ]
    },
    {
     "name": "stdout",
     "output_type": "stream",
     "text": [
      "Computing scores for cluster '0' of query = 'road sign'\n"
     ]
    },
    {
     "name": "stderr",
     "output_type": "stream",
     "text": [
      "Setting `pad_token_id` to `eos_token_id`:128001 for open-end generation.\n"
     ]
    },
    {
     "name": "stdout",
     "output_type": "stream",
     "text": [
      "Computing scores for cluster '1' of query = 'road sign'\n"
     ]
    },
    {
     "name": "stderr",
     "output_type": "stream",
     "text": [
      "Setting `pad_token_id` to `eos_token_id`:128001 for open-end generation.\n"
     ]
    },
    {
     "name": "stdout",
     "output_type": "stream",
     "text": [
      "Computing scores for cluster '2' of query = 'road sign'\n"
     ]
    },
    {
     "name": "stderr",
     "output_type": "stream",
     "text": [
      "Setting `pad_token_id` to `eos_token_id`:128001 for open-end generation.\n"
     ]
    },
    {
     "name": "stdout",
     "output_type": "stream",
     "text": [
      "Computing scores for cluster '3' of query = 'road sign'\n"
     ]
    },
    {
     "name": "stderr",
     "output_type": "stream",
     "text": [
      "Setting `pad_token_id` to `eos_token_id`:128001 for open-end generation.\n"
     ]
    },
    {
     "name": "stdout",
     "output_type": "stream",
     "text": [
      "Computing scores for cluster '4' of query = 'road sign'\n"
     ]
    },
    {
     "name": "stderr",
     "output_type": "stream",
     "text": [
      "Setting `pad_token_id` to `eos_token_id`:128001 for open-end generation.\n"
     ]
    },
    {
     "name": "stdout",
     "output_type": "stream",
     "text": [
      "Computing scores for cluster '5' of query = 'road sign'\n"
     ]
    },
    {
     "name": "stderr",
     "output_type": "stream",
     "text": [
      "Setting `pad_token_id` to `eos_token_id`:128001 for open-end generation.\n"
     ]
    },
    {
     "name": "stdout",
     "output_type": "stream",
     "text": [
      "Computing scores for cluster '6' of query = 'road sign'\n"
     ]
    },
    {
     "name": "stderr",
     "output_type": "stream",
     "text": [
      "Setting `pad_token_id` to `eos_token_id`:128001 for open-end generation.\n"
     ]
    },
    {
     "name": "stdout",
     "output_type": "stream",
     "text": [
      "Computing scores for cluster '7' of query = 'road sign'\n"
     ]
    },
    {
     "name": "stderr",
     "output_type": "stream",
     "text": [
      "Setting `pad_token_id` to `eos_token_id`:128001 for open-end generation.\n"
     ]
    },
    {
     "name": "stdout",
     "output_type": "stream",
     "text": [
      "Computing scores for cluster '0' of query = 'mountain'\n"
     ]
    },
    {
     "name": "stderr",
     "output_type": "stream",
     "text": [
      "Setting `pad_token_id` to `eos_token_id`:128001 for open-end generation.\n"
     ]
    },
    {
     "name": "stdout",
     "output_type": "stream",
     "text": [
      "Computing scores for cluster '1' of query = 'mountain'\n"
     ]
    },
    {
     "name": "stderr",
     "output_type": "stream",
     "text": [
      "Setting `pad_token_id` to `eos_token_id`:128001 for open-end generation.\n"
     ]
    },
    {
     "name": "stdout",
     "output_type": "stream",
     "text": [
      "Computing scores for cluster '2' of query = 'mountain'\n"
     ]
    },
    {
     "name": "stderr",
     "output_type": "stream",
     "text": [
      "Setting `pad_token_id` to `eos_token_id`:128001 for open-end generation.\n"
     ]
    },
    {
     "name": "stdout",
     "output_type": "stream",
     "text": [
      "Computing scores for cluster '3' of query = 'mountain'\n"
     ]
    },
    {
     "name": "stderr",
     "output_type": "stream",
     "text": [
      "Setting `pad_token_id` to `eos_token_id`:128001 for open-end generation.\n"
     ]
    },
    {
     "name": "stdout",
     "output_type": "stream",
     "text": [
      "Computing scores for cluster '4' of query = 'mountain'\n"
     ]
    },
    {
     "name": "stderr",
     "output_type": "stream",
     "text": [
      "Setting `pad_token_id` to `eos_token_id`:128001 for open-end generation.\n"
     ]
    },
    {
     "name": "stdout",
     "output_type": "stream",
     "text": [
      "Computing scores for cluster '5' of query = 'mountain'\n"
     ]
    },
    {
     "name": "stderr",
     "output_type": "stream",
     "text": [
      "Setting `pad_token_id` to `eos_token_id`:128001 for open-end generation.\n"
     ]
    },
    {
     "name": "stdout",
     "output_type": "stream",
     "text": [
      "Computing scores for cluster '0' of query = 'bridge'\n"
     ]
    },
    {
     "name": "stderr",
     "output_type": "stream",
     "text": [
      "Setting `pad_token_id` to `eos_token_id`:128001 for open-end generation.\n"
     ]
    },
    {
     "name": "stdout",
     "output_type": "stream",
     "text": [
      "Computing scores for cluster '1' of query = 'bridge'\n"
     ]
    },
    {
     "name": "stderr",
     "output_type": "stream",
     "text": [
      "Setting `pad_token_id` to `eos_token_id`:128001 for open-end generation.\n"
     ]
    },
    {
     "name": "stdout",
     "output_type": "stream",
     "text": [
      "Computing scores for cluster '2' of query = 'bridge'\n"
     ]
    },
    {
     "name": "stderr",
     "output_type": "stream",
     "text": [
      "Setting `pad_token_id` to `eos_token_id`:128001 for open-end generation.\n"
     ]
    },
    {
     "name": "stdout",
     "output_type": "stream",
     "text": [
      "Computing scores for cluster '3' of query = 'bridge'\n"
     ]
    },
    {
     "name": "stderr",
     "output_type": "stream",
     "text": [
      "Setting `pad_token_id` to `eos_token_id`:128001 for open-end generation.\n"
     ]
    },
    {
     "name": "stdout",
     "output_type": "stream",
     "text": [
      "Computing scores for cluster '4' of query = 'bridge'\n"
     ]
    },
    {
     "name": "stderr",
     "output_type": "stream",
     "text": [
      "Setting `pad_token_id` to `eos_token_id`:128001 for open-end generation.\n"
     ]
    },
    {
     "name": "stdout",
     "output_type": "stream",
     "text": [
      "Computing scores for cluster '5' of query = 'bridge'\n"
     ]
    },
    {
     "name": "stderr",
     "output_type": "stream",
     "text": [
      "Setting `pad_token_id` to `eos_token_id`:128001 for open-end generation.\n"
     ]
    },
    {
     "name": "stdout",
     "output_type": "stream",
     "text": [
      "Computing scores for cluster '6' of query = 'bridge'\n"
     ]
    },
    {
     "data": {
      "text/html": [
       "<div>\n",
       "<style scoped>\n",
       "    .dataframe tbody tr th:only-of-type {\n",
       "        vertical-align: middle;\n",
       "    }\n",
       "\n",
       "    .dataframe tbody tr th {\n",
       "        vertical-align: top;\n",
       "    }\n",
       "\n",
       "    .dataframe thead th {\n",
       "        text-align: right;\n",
       "    }\n",
       "</style>\n",
       "<table border=\"1\" class=\"dataframe\">\n",
       "  <thead>\n",
       "    <tr style=\"text-align: right;\">\n",
       "      <th></th>\n",
       "      <th>query</th>\n",
       "      <th>cluster</th>\n",
       "      <th>method</th>\n",
       "      <th>suggested-query</th>\n",
       "      <th>jaccard-q</th>\n",
       "      <th>clip-similarity-cluster</th>\n",
       "      <th>clip-similarity-q</th>\n",
       "      <th>NDCG@10</th>\n",
       "      <th>MAP</th>\n",
       "      <th>Recall-Open-Set-@100</th>\n",
       "      <th>Recall-Closed-Set</th>\n",
       "    </tr>\n",
       "  </thead>\n",
       "  <tbody>\n",
       "    <tr>\n",
       "      <th>0</th>\n",
       "      <td>dog running</td>\n",
       "      <td>0</td>\n",
       "      <td>initial-query</td>\n",
       "      <td>dog running</td>\n",
       "      <td>1.000</td>\n",
       "      <td>0.293</td>\n",
       "      <td>1.000</td>\n",
       "      <td>0.408536</td>\n",
       "      <td>0.497725</td>\n",
       "      <td>0.548387</td>\n",
       "      <td>0.720430</td>\n",
       "    </tr>\n",
       "    <tr>\n",
       "      <th>1</th>\n",
       "      <td>dog running</td>\n",
       "      <td>0</td>\n",
       "      <td>groupcap-llama3-8b-qe-few-shot-2</td>\n",
       "      <td>dog running outdoors</td>\n",
       "      <td>0.667</td>\n",
       "      <td>0.287</td>\n",
       "      <td>0.963</td>\n",
       "      <td>0.588467</td>\n",
       "      <td>0.594678</td>\n",
       "      <td>0.591398</td>\n",
       "      <td>0.827957</td>\n",
       "    </tr>\n",
       "    <tr>\n",
       "      <th>2</th>\n",
       "      <td>dog running</td>\n",
       "      <td>0</td>\n",
       "      <td>human</td>\n",
       "      <td>dog running catching a frisbee</td>\n",
       "      <td>0.500</td>\n",
       "      <td>0.319</td>\n",
       "      <td>0.830</td>\n",
       "      <td>0.864315</td>\n",
       "      <td>0.741513</td>\n",
       "      <td>0.580645</td>\n",
       "      <td>0.892473</td>\n",
       "    </tr>\n",
       "    <tr>\n",
       "      <th>3</th>\n",
       "      <td>dog running</td>\n",
       "      <td>2</td>\n",
       "      <td>initial-query</td>\n",
       "      <td>dog running</td>\n",
       "      <td>1.000</td>\n",
       "      <td>0.294</td>\n",
       "      <td>1.000</td>\n",
       "      <td>0.215018</td>\n",
       "      <td>0.214729</td>\n",
       "      <td>0.500000</td>\n",
       "      <td>0.294118</td>\n",
       "    </tr>\n",
       "    <tr>\n",
       "      <th>4</th>\n",
       "      <td>dog running</td>\n",
       "      <td>2</td>\n",
       "      <td>groupcap-llama3-8b-qe-few-shot-2</td>\n",
       "      <td>dog running outdoors</td>\n",
       "      <td>0.667</td>\n",
       "      <td>0.277</td>\n",
       "      <td>0.963</td>\n",
       "      <td>0.000000</td>\n",
       "      <td>0.061329</td>\n",
       "      <td>0.176471</td>\n",
       "      <td>0.088235</td>\n",
       "    </tr>\n",
       "    <tr>\n",
       "      <th>...</th>\n",
       "      <td>...</td>\n",
       "      <td>...</td>\n",
       "      <td>...</td>\n",
       "      <td>...</td>\n",
       "      <td>...</td>\n",
       "      <td>...</td>\n",
       "      <td>...</td>\n",
       "      <td>...</td>\n",
       "      <td>...</td>\n",
       "      <td>...</td>\n",
       "      <td>...</td>\n",
       "    </tr>\n",
       "    <tr>\n",
       "      <th>880</th>\n",
       "      <td>bridge</td>\n",
       "      <td>5</td>\n",
       "      <td>groupcap-llama3-8b-qe-few-shot-2</td>\n",
       "      <td>bridge near a river</td>\n",
       "      <td>0.333</td>\n",
       "      <td>0.259</td>\n",
       "      <td>0.924</td>\n",
       "      <td>0.000000</td>\n",
       "      <td>0.122222</td>\n",
       "      <td>0.481481</td>\n",
       "      <td>0.111111</td>\n",
       "    </tr>\n",
       "    <tr>\n",
       "      <th>881</th>\n",
       "      <td>bridge</td>\n",
       "      <td>5</td>\n",
       "      <td>human</td>\n",
       "      <td>train over a bridge</td>\n",
       "      <td>0.500</td>\n",
       "      <td>0.301</td>\n",
       "      <td>0.879</td>\n",
       "      <td>0.580602</td>\n",
       "      <td>0.568275</td>\n",
       "      <td>0.703704</td>\n",
       "      <td>0.555556</td>\n",
       "    </tr>\n",
       "    <tr>\n",
       "      <th>882</th>\n",
       "      <td>bridge</td>\n",
       "      <td>6</td>\n",
       "      <td>initial-query</td>\n",
       "      <td>bridge</td>\n",
       "      <td>1.000</td>\n",
       "      <td>0.270</td>\n",
       "      <td>1.000</td>\n",
       "      <td>0.138862</td>\n",
       "      <td>0.213246</td>\n",
       "      <td>0.606061</td>\n",
       "      <td>0.181818</td>\n",
       "    </tr>\n",
       "    <tr>\n",
       "      <th>883</th>\n",
       "      <td>bridge</td>\n",
       "      <td>6</td>\n",
       "      <td>groupcap-llama3-8b-qe-few-shot-2</td>\n",
       "      <td>bridge over a river</td>\n",
       "      <td>0.500</td>\n",
       "      <td>0.269</td>\n",
       "      <td>0.938</td>\n",
       "      <td>0.224006</td>\n",
       "      <td>0.293281</td>\n",
       "      <td>0.727273</td>\n",
       "      <td>0.272727</td>\n",
       "    </tr>\n",
       "    <tr>\n",
       "      <th>884</th>\n",
       "      <td>bridge</td>\n",
       "      <td>6</td>\n",
       "      <td>human</td>\n",
       "      <td>bridge over a river near forest</td>\n",
       "      <td>0.250</td>\n",
       "      <td>0.266</td>\n",
       "      <td>0.897</td>\n",
       "      <td>0.599694</td>\n",
       "      <td>0.456155</td>\n",
       "      <td>0.666667</td>\n",
       "      <td>0.363636</td>\n",
       "    </tr>\n",
       "  </tbody>\n",
       "</table>\n",
       "<p>885 rows × 11 columns</p>\n",
       "</div>"
      ],
      "text/plain": [
       "           query cluster                            method  \\\n",
       "0    dog running       0                     initial-query   \n",
       "1    dog running       0  groupcap-llama3-8b-qe-few-shot-2   \n",
       "2    dog running       0                             human   \n",
       "3    dog running       2                     initial-query   \n",
       "4    dog running       2  groupcap-llama3-8b-qe-few-shot-2   \n",
       "..           ...     ...                               ...   \n",
       "880       bridge       5  groupcap-llama3-8b-qe-few-shot-2   \n",
       "881       bridge       5                             human   \n",
       "882       bridge       6                     initial-query   \n",
       "883       bridge       6  groupcap-llama3-8b-qe-few-shot-2   \n",
       "884       bridge       6                             human   \n",
       "\n",
       "                     suggested-query  jaccard-q  clip-similarity-cluster  \\\n",
       "0                        dog running      1.000                    0.293   \n",
       "1               dog running outdoors      0.667                    0.287   \n",
       "2     dog running catching a frisbee      0.500                    0.319   \n",
       "3                        dog running      1.000                    0.294   \n",
       "4               dog running outdoors      0.667                    0.277   \n",
       "..                               ...        ...                      ...   \n",
       "880              bridge near a river      0.333                    0.259   \n",
       "881              train over a bridge      0.500                    0.301   \n",
       "882                           bridge      1.000                    0.270   \n",
       "883              bridge over a river      0.500                    0.269   \n",
       "884  bridge over a river near forest      0.250                    0.266   \n",
       "\n",
       "     clip-similarity-q   NDCG@10       MAP  Recall-Open-Set-@100  \\\n",
       "0                1.000  0.408536  0.497725              0.548387   \n",
       "1                0.963  0.588467  0.594678              0.591398   \n",
       "2                0.830  0.864315  0.741513              0.580645   \n",
       "3                1.000  0.215018  0.214729              0.500000   \n",
       "4                0.963  0.000000  0.061329              0.176471   \n",
       "..                 ...       ...       ...                   ...   \n",
       "880              0.924  0.000000  0.122222              0.481481   \n",
       "881              0.879  0.580602  0.568275              0.703704   \n",
       "882              1.000  0.138862  0.213246              0.606061   \n",
       "883              0.938  0.224006  0.293281              0.727273   \n",
       "884              0.897  0.599694  0.456155              0.666667   \n",
       "\n",
       "     Recall-Closed-Set  \n",
       "0             0.720430  \n",
       "1             0.827957  \n",
       "2             0.892473  \n",
       "3             0.294118  \n",
       "4             0.088235  \n",
       "..                 ...  \n",
       "880           0.111111  \n",
       "881           0.555556  \n",
       "882           0.181818  \n",
       "883           0.272727  \n",
       "884           0.363636  \n",
       "\n",
       "[885 rows x 11 columns]"
      ]
     },
     "execution_count": 6,
     "metadata": {},
     "output_type": "execute_result"
    }
   ],
   "source": [
    "ret_df = croQS.get_query_suggestions_dataframe_all_queries(qe_dict)\n",
    "\n",
    "ret_df"
   ]
  },
  {
   "cell_type": "markdown",
   "metadata": {},
   "source": [
    "### Micro averaged results"
   ]
  },
  {
   "cell_type": "code",
   "execution_count": 7,
   "metadata": {},
   "outputs": [
    {
     "data": {
      "text/html": [
       "<div>\n",
       "<style scoped>\n",
       "    .dataframe tbody tr th:only-of-type {\n",
       "        vertical-align: middle;\n",
       "    }\n",
       "\n",
       "    .dataframe tbody tr th {\n",
       "        vertical-align: top;\n",
       "    }\n",
       "\n",
       "    .dataframe thead th {\n",
       "        text-align: right;\n",
       "    }\n",
       "</style>\n",
       "<table border=\"1\" class=\"dataframe\">\n",
       "  <thead>\n",
       "    <tr style=\"text-align: right;\">\n",
       "      <th></th>\n",
       "      <th>method</th>\n",
       "      <th>jaccard-q</th>\n",
       "      <th>clip-similarity-cluster</th>\n",
       "      <th>clip-similarity-q</th>\n",
       "      <th>NDCG@10</th>\n",
       "      <th>MAP</th>\n",
       "      <th>Recall-Open-Set-@100</th>\n",
       "      <th>Recall-Closed-Set</th>\n",
       "    </tr>\n",
       "  </thead>\n",
       "  <tbody>\n",
       "    <tr>\n",
       "      <th>0</th>\n",
       "      <td>groupcap-llama3-8b-qe-few-shot-2</td>\n",
       "      <td>0.654441</td>\n",
       "      <td>0.284122</td>\n",
       "      <td>0.939064</td>\n",
       "      <td>0.253999</td>\n",
       "      <td>0.254895</td>\n",
       "      <td>0.473312</td>\n",
       "      <td>0.290618</td>\n",
       "    </tr>\n",
       "    <tr>\n",
       "      <th>1</th>\n",
       "      <td>human</td>\n",
       "      <td>0.437193</td>\n",
       "      <td>0.299312</td>\n",
       "      <td>0.870451</td>\n",
       "      <td>0.497983</td>\n",
       "      <td>0.430224</td>\n",
       "      <td>0.626201</td>\n",
       "      <td>0.571772</td>\n",
       "    </tr>\n",
       "    <tr>\n",
       "      <th>2</th>\n",
       "      <td>initial-query</td>\n",
       "      <td>1.000000</td>\n",
       "      <td>0.280369</td>\n",
       "      <td>1.000000</td>\n",
       "      <td>0.162076</td>\n",
       "      <td>0.194837</td>\n",
       "      <td>0.515198</td>\n",
       "      <td>0.170162</td>\n",
       "    </tr>\n",
       "  </tbody>\n",
       "</table>\n",
       "</div>"
      ],
      "text/plain": [
       "                             method  jaccard-q  clip-similarity-cluster  \\\n",
       "0  groupcap-llama3-8b-qe-few-shot-2   0.654441                 0.284122   \n",
       "1                             human   0.437193                 0.299312   \n",
       "2                     initial-query   1.000000                 0.280369   \n",
       "\n",
       "   clip-similarity-q   NDCG@10       MAP  Recall-Open-Set-@100  \\\n",
       "0           0.939064  0.253999  0.254895              0.473312   \n",
       "1           0.870451  0.497983  0.430224              0.626201   \n",
       "2           1.000000  0.162076  0.194837              0.515198   \n",
       "\n",
       "   Recall-Closed-Set  \n",
       "0           0.290618  \n",
       "1           0.571772  \n",
       "2           0.170162  "
      ]
     },
     "execution_count": 7,
     "metadata": {},
     "output_type": "execute_result"
    }
   ],
   "source": [
    "grouped_df = ret_df.groupby(by='method').mean(numeric_only=True).reset_index()#.sort_values(by=sort_by_column, ascending=False)\n",
    "\n",
    "grouped_df"
   ]
  },
  {
   "cell_type": "markdown",
   "metadata": {},
   "source": [
    "### Macro averaged results"
   ]
  },
  {
   "cell_type": "code",
   "execution_count": 8,
   "metadata": {},
   "outputs": [
    {
     "data": {
      "text/html": [
       "<div>\n",
       "<style scoped>\n",
       "    .dataframe tbody tr th:only-of-type {\n",
       "        vertical-align: middle;\n",
       "    }\n",
       "\n",
       "    .dataframe tbody tr th {\n",
       "        vertical-align: top;\n",
       "    }\n",
       "\n",
       "    .dataframe thead th {\n",
       "        text-align: right;\n",
       "    }\n",
       "</style>\n",
       "<table border=\"1\" class=\"dataframe\">\n",
       "  <thead>\n",
       "    <tr style=\"text-align: right;\">\n",
       "      <th></th>\n",
       "      <th>method</th>\n",
       "      <th>jaccard-q</th>\n",
       "      <th>clip-similarity-cluster</th>\n",
       "      <th>clip-similarity-q</th>\n",
       "      <th>NDCG@10</th>\n",
       "      <th>MAP</th>\n",
       "      <th>Recall-Open-Set-@100</th>\n",
       "      <th>Recall-Closed-Set</th>\n",
       "    </tr>\n",
       "  </thead>\n",
       "  <tbody>\n",
       "    <tr>\n",
       "      <th>0</th>\n",
       "      <td>groupcap-llama3-8b-qe-few-shot-2</td>\n",
       "      <td>0.659922</td>\n",
       "      <td>0.283306</td>\n",
       "      <td>0.939840</td>\n",
       "      <td>0.277522</td>\n",
       "      <td>0.275342</td>\n",
       "      <td>0.481073</td>\n",
       "      <td>0.314199</td>\n",
       "    </tr>\n",
       "    <tr>\n",
       "      <th>1</th>\n",
       "      <td>human</td>\n",
       "      <td>0.437972</td>\n",
       "      <td>0.298296</td>\n",
       "      <td>0.870624</td>\n",
       "      <td>0.518537</td>\n",
       "      <td>0.445149</td>\n",
       "      <td>0.620265</td>\n",
       "      <td>0.591542</td>\n",
       "    </tr>\n",
       "    <tr>\n",
       "      <th>2</th>\n",
       "      <td>initial-query</td>\n",
       "      <td>1.000000</td>\n",
       "      <td>0.279894</td>\n",
       "      <td>1.000000</td>\n",
       "      <td>0.177377</td>\n",
       "      <td>0.210269</td>\n",
       "      <td>0.518257</td>\n",
       "      <td>0.190265</td>\n",
       "    </tr>\n",
       "  </tbody>\n",
       "</table>\n",
       "</div>"
      ],
      "text/plain": [
       "                             method  jaccard-q  clip-similarity-cluster  \\\n",
       "0  groupcap-llama3-8b-qe-few-shot-2   0.659922                 0.283306   \n",
       "1                             human   0.437972                 0.298296   \n",
       "2                     initial-query   1.000000                 0.279894   \n",
       "\n",
       "   clip-similarity-q   NDCG@10       MAP  Recall-Open-Set-@100  \\\n",
       "0           0.939840  0.277522  0.275342              0.481073   \n",
       "1           0.870624  0.518537  0.445149              0.620265   \n",
       "2           1.000000  0.177377  0.210269              0.518257   \n",
       "\n",
       "   Recall-Closed-Set  \n",
       "0           0.314199  \n",
       "1           0.591542  \n",
       "2           0.190265  "
      ]
     },
     "execution_count": 8,
     "metadata": {},
     "output_type": "execute_result"
    }
   ],
   "source": [
    "import pandas as pd\n",
    "\n",
    "tmp_df = None\n",
    "\n",
    "for q in ret_df['query'].unique().tolist():\n",
    "    df_q = ret_df[ret_df['query'] == q]\n",
    "    grouped_df_q = df_q[ grouped_df.columns.to_list() + ['query', 'cluster', 'suggested-query'] ].groupby(by='method').mean(numeric_only=True).reset_index()#.sort_values(by=sort_by_column, ascending=False)\n",
    "    \n",
    "    if tmp_df is None:\n",
    "        tmp_df = grouped_df_q\n",
    "    else:\n",
    "        tmp_df = pd.concat([tmp_df, grouped_df_q], ignore_index=True)\n",
    "\n",
    "macro_averaged_df = tmp_df.groupby(by='method').mean(numeric_only=True).reset_index()#.sort_values(by=sort_by_column, ascending=False)\n",
    "macro_averaged_df"
   ]
  },
  {
   "cell_type": "code",
   "execution_count": 12,
   "metadata": {},
   "outputs": [
    {
     "data": {
      "text/plain": [
       "Index(['query', 'cluster', 'method', 'suggested-query', 'jaccard-q',\n",
       "       'clip-similarity-cluster', 'clip-similarity-q', 'NDCG@10', 'MAP',\n",
       "       'Recall-Open-Set-@100', 'Recall-Closed-Set'],\n",
       "      dtype='object')"
      ]
     },
     "execution_count": 12,
     "metadata": {},
     "output_type": "execute_result"
    }
   ],
   "source": [
    "ret_df.columns"
   ]
  },
  {
   "cell_type": "code",
   "execution_count": 16,
   "metadata": {},
   "outputs": [
    {
     "name": "stderr",
     "output_type": "stream",
     "text": [
      "/tmp/ipykernel_987741/3485062696.py:3: FutureWarning: The default value of numeric_only in DataFrameGroupBy.mean is deprecated. In a future version, numeric_only will default to False. Either specify numeric_only or select only columns which should be valid for the function.\n",
      "  aggregated_df = ret_df.groupby(['query', 'method']).mean().reset_index()\n"
     ]
    },
    {
     "data": {
      "text/plain": [
       "['jaccard-q',\n",
       " 'clip-similarity-cluster',\n",
       " 'clip-similarity-q',\n",
       " 'NDCG@10',\n",
       " 'MAP',\n",
       " 'Recall-Open-Set-@100',\n",
       " 'Recall-Closed-Set']"
      ]
     },
     "execution_count": 16,
     "metadata": {},
     "output_type": "execute_result"
    }
   ],
   "source": [
    "error_type = 'std'\n",
    "\n",
    "aggregated_df = ret_df.groupby(['query', 'method']).mean().reset_index()\n",
    "title_info = \"Macro Averaged \"\n",
    "\n",
    "score_cols = list(aggregated_df.columns)\n",
    "for el in ['query','method']: score_cols.remove(el)\n",
    "score_cols"
   ]
  },
  {
   "cell_type": "code",
   "execution_count": 17,
   "metadata": {},
   "outputs": [
    {
     "data": {
      "text/html": [
       "<div>\n",
       "<style scoped>\n",
       "    .dataframe tbody tr th:only-of-type {\n",
       "        vertical-align: middle;\n",
       "    }\n",
       "\n",
       "    .dataframe tbody tr th {\n",
       "        vertical-align: top;\n",
       "    }\n",
       "\n",
       "    .dataframe thead tr th {\n",
       "        text-align: left;\n",
       "    }\n",
       "</style>\n",
       "<table border=\"1\" class=\"dataframe\">\n",
       "  <thead>\n",
       "    <tr>\n",
       "      <th></th>\n",
       "      <th>method</th>\n",
       "      <th colspan=\"2\" halign=\"left\">jaccard-q</th>\n",
       "      <th colspan=\"2\" halign=\"left\">clip-similarity-cluster</th>\n",
       "      <th colspan=\"2\" halign=\"left\">clip-similarity-q</th>\n",
       "      <th colspan=\"2\" halign=\"left\">NDCG@10</th>\n",
       "      <th colspan=\"2\" halign=\"left\">MAP</th>\n",
       "      <th colspan=\"2\" halign=\"left\">Recall-Open-Set-@100</th>\n",
       "      <th colspan=\"2\" halign=\"left\">Recall-Closed-Set</th>\n",
       "    </tr>\n",
       "    <tr>\n",
       "      <th></th>\n",
       "      <th></th>\n",
       "      <th>mean</th>\n",
       "      <th>std</th>\n",
       "      <th>mean</th>\n",
       "      <th>std</th>\n",
       "      <th>mean</th>\n",
       "      <th>std</th>\n",
       "      <th>mean</th>\n",
       "      <th>std</th>\n",
       "      <th>mean</th>\n",
       "      <th>std</th>\n",
       "      <th>mean</th>\n",
       "      <th>std</th>\n",
       "      <th>mean</th>\n",
       "      <th>std</th>\n",
       "    </tr>\n",
       "  </thead>\n",
       "  <tbody>\n",
       "    <tr>\n",
       "      <th>0</th>\n",
       "      <td>groupcap-llama3-8b-qe-few-shot-2</td>\n",
       "      <td>0.659922</td>\n",
       "      <td>0.157349</td>\n",
       "      <td>0.283306</td>\n",
       "      <td>0.018148</td>\n",
       "      <td>0.939840</td>\n",
       "      <td>0.029049</td>\n",
       "      <td>0.277522</td>\n",
       "      <td>0.144467</td>\n",
       "      <td>0.275342</td>\n",
       "      <td>0.112867</td>\n",
       "      <td>0.481073</td>\n",
       "      <td>0.113584</td>\n",
       "      <td>0.314199</td>\n",
       "      <td>0.136502</td>\n",
       "    </tr>\n",
       "    <tr>\n",
       "      <th>1</th>\n",
       "      <td>human</td>\n",
       "      <td>0.437972</td>\n",
       "      <td>0.112474</td>\n",
       "      <td>0.298296</td>\n",
       "      <td>0.015991</td>\n",
       "      <td>0.870624</td>\n",
       "      <td>0.032796</td>\n",
       "      <td>0.518537</td>\n",
       "      <td>0.139276</td>\n",
       "      <td>0.445149</td>\n",
       "      <td>0.108550</td>\n",
       "      <td>0.620265</td>\n",
       "      <td>0.121844</td>\n",
       "      <td>0.591542</td>\n",
       "      <td>0.126442</td>\n",
       "    </tr>\n",
       "    <tr>\n",
       "      <th>2</th>\n",
       "      <td>initial-query</td>\n",
       "      <td>1.000000</td>\n",
       "      <td>0.000000</td>\n",
       "      <td>0.279894</td>\n",
       "      <td>0.018076</td>\n",
       "      <td>1.000000</td>\n",
       "      <td>0.000000</td>\n",
       "      <td>0.177377</td>\n",
       "      <td>0.053571</td>\n",
       "      <td>0.210269</td>\n",
       "      <td>0.053614</td>\n",
       "      <td>0.518257</td>\n",
       "      <td>0.032359</td>\n",
       "      <td>0.190265</td>\n",
       "      <td>0.071740</td>\n",
       "    </tr>\n",
       "  </tbody>\n",
       "</table>\n",
       "</div>"
      ],
      "text/plain": [
       "                             method jaccard-q            \\\n",
       "                                         mean       std   \n",
       "0  groupcap-llama3-8b-qe-few-shot-2  0.659922  0.157349   \n",
       "1                             human  0.437972  0.112474   \n",
       "2                     initial-query  1.000000  0.000000   \n",
       "\n",
       "  clip-similarity-cluster           clip-similarity-q             NDCG@10  \\\n",
       "                     mean       std              mean       std      mean   \n",
       "0                0.283306  0.018148          0.939840  0.029049  0.277522   \n",
       "1                0.298296  0.015991          0.870624  0.032796  0.518537   \n",
       "2                0.279894  0.018076          1.000000  0.000000  0.177377   \n",
       "\n",
       "                  MAP           Recall-Open-Set-@100            \\\n",
       "        std      mean       std                 mean       std   \n",
       "0  0.144467  0.275342  0.112867             0.481073  0.113584   \n",
       "1  0.139276  0.445149  0.108550             0.620265  0.121844   \n",
       "2  0.053571  0.210269  0.053614             0.518257  0.032359   \n",
       "\n",
       "  Recall-Closed-Set            \n",
       "               mean       std  \n",
       "0          0.314199  0.136502  \n",
       "1          0.591542  0.126442  \n",
       "2          0.190265  0.071740  "
      ]
     },
     "execution_count": 17,
     "metadata": {},
     "output_type": "execute_result"
    }
   ],
   "source": [
    "error_type = 'std'\n",
    "\n",
    "aggregated_df = ret_df.groupby(['query', 'method']).mean().reset_index()\n",
    "title_info = \"Macro Averaged \"\n",
    "\n",
    "score_cols = list(aggregated_df.columns)\n",
    "for el in ['query','method']: score_cols.remove(el)\n",
    "\n",
    "# Group by method and compute mean and error for each score column\n",
    "agg_dict = {col: ['mean', error_type] for col in score_cols}\n",
    "grouped = aggregated_df.groupby('method').agg(agg_dict).reset_index()\n",
    "grouped"
   ]
  },
  {
   "cell_type": "code",
   "execution_count": 9,
   "metadata": {},
   "outputs": [
    {
     "data": {
      "text/plain": [
       "['0', '1', '2', '3']"
      ]
     },
     "execution_count": 9,
     "metadata": {},
     "output_type": "execute_result"
    }
   ],
   "source": [
    "qq = 'person at the phone'\n",
    "cc = '3'\n",
    "\n",
    "croQS._list_clusters_labels(qq)"
   ]
  },
  {
   "cell_type": "code",
   "execution_count": 10,
   "metadata": {},
   "outputs": [
    {
     "data": {
      "text/plain": [
       "{'suggested-queries': {'initial-query': {'query': 'person at the phone',\n",
       "   'scores': {'jaccard-q': 1.0,\n",
       "    'clip-similarity-cluster': 0.294,\n",
       "    'clip-similarity-q': 1.0,\n",
       "    'NDCG@10': 0.23365080824310536,\n",
       "    'MAP': 0.2868582289545055,\n",
       "    'Recall-Open-Set-@100': 0.5128205128205128,\n",
       "    'Recall-Closed-Set': 0.28205128205128205}},\n",
       "  'groupcap-llama3-8b-qe-few-shot-2': {'query': 'person talking on a cell phone',\n",
       "   'scores': {'jaccard-q': 0.5,\n",
       "    'clip-similarity-cluster': 0.291,\n",
       "    'clip-similarity-q': 0.934,\n",
       "    'NDCG@10': 0.1100458831490401,\n",
       "    'MAP': 0.13931386869090717,\n",
       "    'Recall-Open-Set-@100': 0.358974358974359,\n",
       "    'Recall-Closed-Set': 0.3076923076923077}},\n",
       "  'human': {'query': 'woman talking on mobile phone',\n",
       "   'scores': {'jaccard-q': 0.2,\n",
       "    'clip-similarity-cluster': 0.317,\n",
       "    'clip-similarity-q': 0.877,\n",
       "    'NDCG@10': 0.39639187290150935,\n",
       "    'MAP': 0.3438731991303363,\n",
       "    'Recall-Open-Set-@100': 0.5128205128205128,\n",
       "    'Recall-Closed-Set': 0.5897435897435898}}}}"
      ]
     },
     "execution_count": 10,
     "metadata": {},
     "output_type": "execute_result"
    }
   ],
   "source": [
    "croQS.suggested_queries[qq][cc]"
   ]
  }
 ],
 "metadata": {
  "kernelspec": {
   "display_name": "py38",
   "language": "python",
   "name": "python3"
  },
  "language_info": {
   "codemirror_mode": {
    "name": "ipython",
    "version": 3
   },
   "file_extension": ".py",
   "mimetype": "text/x-python",
   "name": "python",
   "nbconvert_exporter": "python",
   "pygments_lexer": "ipython3",
   "version": "3.8.19"
  }
 },
 "nbformat": 4,
 "nbformat_minor": 2
}
