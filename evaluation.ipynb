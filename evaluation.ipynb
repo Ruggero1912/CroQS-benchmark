{
 "cells": [
  {
   "cell_type": "markdown",
   "metadata": {},
   "source": [
    "# Evaluation of Cross-modal Query Suggestion methods on CroQS benchmark"
   ]
  },
  {
   "cell_type": "code",
   "execution_count": 1,
   "metadata": {},
   "outputs": [
    {
     "data": {
      "text/plain": [
       "True"
      ]
     },
     "execution_count": 1,
     "metadata": {},
     "output_type": "execute_result"
    }
   ],
   "source": [
    "device_str = \"cuda:0\"\n",
    "device_str_llm = device_str\n",
    "\n",
    "import os\n",
    "from dotenv import load_dotenv\n",
    "\n",
    "load_dotenv()"
   ]
  },
  {
   "cell_type": "code",
   "execution_count": 2,
   "metadata": {},
   "outputs": [
    {
     "name": "stdout",
     "output_type": "stream",
     "text": [
      "No self.queries dict object loaded from disk, creating new empty dict\n"
     ]
    }
   ],
   "source": [
    "from lib.CroQS import CroQS\n",
    "\n",
    "croQS_json_path = \"./2024-10-07_15-35-43.json\" #\"./2024-07-21_14-52-15.json\"\n",
    "croQS = CroQS(croQS_json_path)\n",
    "device = \"cuda:0\"\n",
    "hdf5_file_path = \"D:\\\\thesis-data\\\\hdf5-indexes\\\\coco_train_val_2017_image_embeddings.h5\"\n",
    "croQS.evaluation_init(hdf5_file_path, device)"
   ]
  },
  {
   "cell_type": "code",
   "execution_count": 3,
   "metadata": {},
   "outputs": [
    {
     "data": {
      "text/plain": [
       "50"
      ]
     },
     "execution_count": 3,
     "metadata": {},
     "output_type": "execute_result"
    }
   ],
   "source": [
    "len(croQS.list_queries())"
   ]
  },
  {
   "cell_type": "code",
   "execution_count": 4,
   "metadata": {},
   "outputs": [],
   "source": [
    "#def decap_centroid(q_0, embeddings_clip_space):\n",
    "#    return \"\"\n",
    "#\n",
    "#methods_tuples = [\n",
    "#    (\"decap-centroid\", decap_centroid),\n",
    "#]"
   ]
  },
  {
   "cell_type": "code",
   "execution_count": 5,
   "metadata": {},
   "outputs": [],
   "source": [
    "from lib.methodsLoader import get_qe_methods_dict, add_method_to_dict\n",
    "\n",
    "qe_methods_names = [\n",
    "    'initial-query',\n",
    "    'clipcap-on-centroids', \n",
    "    'decap-on-centroids', \n",
    "    ##'clipcap-query_set-of-embeddings', \n",
    "    #'decap-on-representatives', \n",
    "    #'clipcap-on-representatives',\n",
    "    #'clipcap-prompting-on-centroids',\n",
    "    #'clipcap-prompting-on-representatives',\n",
    "    ]\n",
    "\n",
    "#qe_dict = get_qe_methods_dict(methods_keys=qe_methods_names, decap_qe=None, device=device_str)"
   ]
  },
  {
   "cell_type": "code",
   "execution_count": 6,
   "metadata": {},
   "outputs": [],
   "source": [
    "def load_qe_dict(ir_system, load_group_cap : bool = False):\n",
    "    from lib.methods.decap.Im2TxtProjection import Im2TxtProjector, ProjectionType\n",
    "    from lib.methods.decap.DecapQueryExpansion import DeCapQueryExpansion\n",
    "    from lib.methods.decap.decap import get_decap_model\n",
    "    from lib.methods.groupcap.model import GroupCapLLM, LLMBasePrompts, ImageCaptioningMethods, LLMTypes\n",
    "\n",
    "    decap_qe = DeCapQueryExpansion.load_object(device_str, 'coco')\n",
    "    assert isinstance(decap_qe, DeCapQueryExpansion)\n",
    "    decap_qe.im2txt.ir_system = ir_system\n",
    "    qe_dict = get_qe_methods_dict(methods_keys=qe_methods_names, decap_qe=decap_qe, device=device_str)\n",
    "\n",
    "    if load_group_cap:\n",
    "        #group_cap_obj = GroupCapLLM(ImageCaptioningMethods.decap, decap_qe.get_generated_captions, LLMTypes.Mistral7b_IT, device_map=device_str, image_captioning_method_device=device_str)\n",
    "        \n",
    "        group_cap_obj = GroupCapLLM(ImageCaptioningMethods.decap, decap_qe.get_generated_captions, LLMTypes.LLama3_8b_IT, device_map=device_str_llm, image_captioning_method_device=device_str)\n",
    "        \n",
    "        \n",
    "        prompts_dict = GroupCapLLM.get_prompts_dict()\n",
    "\n",
    "        group_cap_obj.qe_prompt = prompts_dict['query-expansion']['qe-few-shot-1']\n",
    "        #qe_dict = add_method_to_dict(qe_dict, 'groupcap-mistral7b-qe-few-shot-1', group_cap_obj.generate_expanded_query, wants_query=True, method_group_name=\"img-embeddings-whole-cluster\")\n",
    "        qe_dict = add_method_to_dict(qe_dict, 'groupcap-LLama3-8b-qe-few-shot-1', group_cap_obj.generate_expanded_query, wants_query=True, method_group_name=\"img-embeddings-whole-cluster\")\n",
    "\n",
    "        #group_cap_obj.base_prompt = prompts_dict['group-captioning']['cap-prompt1']\n",
    "        #group_cap_obj.qe_prompt = prompts_dict['query-expansion']['qe-prompt2']\n",
    "        #qe_dict = add_method_to_dict(qe_dict, 'groupcap-mistral7b-cap-prompt1', group_cap_obj.generate_caption, method_group_name=\"img-embeddings-whole-cluster\")\n",
    "        #qe_dict = add_method_to_dict(qe_dict, 'groupcap-mistral7b-qe-prompt2', group_cap_obj.generate_expanded_query, wants_query=True, method_group_name=\"img-embeddings-whole-cluster\")\n",
    "    \n",
    "    return qe_dict\n",
    "\n",
    "qe_dict = load_qe_dict(croQS.ir_system, False)"
   ]
  },
  {
   "cell_type": "code",
   "execution_count": 7,
   "metadata": {},
   "outputs": [
    {
     "data": {
      "text/plain": [
       "{'initial-query': 'dog running',\n",
       " 'human': 'dog running catching a frisbee',\n",
       " 'clipcap-on-centroids': 'A dog is jumping to catch a frisbee.'}"
      ]
     },
     "execution_count": 7,
     "metadata": {},
     "output_type": "execute_result"
    }
   ],
   "source": [
    "croQS.get_query_suggestions(\"dog running\", \"0\")"
   ]
  },
  {
   "cell_type": "code",
   "execution_count": 8,
   "metadata": {},
   "outputs": [
    {
     "name": "stdout",
     "output_type": "stream",
     "text": [
      "Loading already existing qs for the method 'initial-query'troids'Computing scores for cluster '0' of query = 'dog running'\n"
     ]
    },
    {
     "name": "stderr",
     "output_type": "stream",
     "text": [
      "Some weights of RobertaModel were not initialized from the model checkpoint at roberta-large and are newly initialized: ['roberta.pooler.dense.bias', 'roberta.pooler.dense.weight']\n",
      "You should probably TRAIN this model on a down-stream task to be able to use it for predictions and inference.\n"
     ]
    },
    {
     "data": {
      "text/plain": [
       "({'initial-query': 'dog running',\n",
       "  'human': 'dog running catching a frisbee',\n",
       "  'clipcap-on-centroids': 'A dog is jumping to catch a frisbee.',\n",
       "  'decap-on-centroids': 'a dog running to catch a frisbee in its mouth . '},\n",
       " True)"
      ]
     },
     "execution_count": 8,
     "metadata": {},
     "output_type": "execute_result"
    }
   ],
   "source": [
    "croQS.load_query_suggestions(\"dog running\", \"0\", qe_dict)"
   ]
  },
  {
   "cell_type": "code",
   "execution_count": 9,
   "metadata": {},
   "outputs": [
    {
     "name": "stdout",
     "output_type": "stream",
     "text": [
      "Loading already existing qs for the method 'initial-query'oids's'Computing scores for cluster '2' of query = 'dog running'\n",
      "Loading already existing qs for the method 'initial-query'Computing scores for cluster '0' of query = 'person reading'\n",
      "Loading already existing qs for the method 'initial-query'Computing scores for cluster '1' of query = 'person reading'\n",
      "Loading already existing qs for the method 'initial-query'Computing scores for cluster '2' of query = 'person reading'\n",
      "Loading already existing qs for the method 'initial-query'Computing scores for cluster '3' of query = 'person reading'\n",
      "Loading already existing qs for the method 'initial-query'Computing scores for cluster '0' of query = 'laptop near'\n",
      "Loading already existing qs for the method 'initial-query'Computing scores for cluster '1' of query = 'laptop near'\n",
      "Loading already existing qs for the method 'initial-query'Computing scores for cluster '2' of query = 'laptop near'\n",
      "Loading already existing qs for the method 'initial-query'Computing scores for cluster '3' of query = 'laptop near'\n",
      "Loading already existing qs for the method 'initial-query'Computing scores for cluster '0' of query = 'car moving'\n",
      "Loading already existing qs for the method 'initial-query'Computing scores for cluster '1' of query = 'car moving'\n",
      "Loading already existing qs for the method 'initial-query'Computing scores for cluster '2' of query = 'car moving'\n",
      "Loading already existing qs for the method 'initial-query'Computing scores for cluster '3' of query = 'car moving'\n",
      "Loading already existing qs for the method 'initial-query'Computing scores for cluster '4' of query = 'car moving'\n",
      "Loading already existing qs for the method 'initial-query'Computing scores for cluster '5' of query = 'car moving'\n",
      "Loading already existing qs for the method 'initial-query'Computing scores for cluster '6' of query = 'car moving'\n",
      "Loading already existing qs for the method 'initial-query'Computing scores for cluster '0' of query = 'small house'\n",
      "Loading already existing qs for the method 'initial-query'Computing scores for cluster '1' of query = 'small house'\n",
      "Loading already existing qs for the method 'initial-query'Computing scores for cluster '2' of query = 'small house'\n",
      "[ndcg] [W] division by 0 [W]\n",
      "Loading already existing qs for the method 'initial-query'Computing scores for cluster '3' of query = 'small house'\n",
      "Loading already existing qs for the method 'initial-query'Computing scores for cluster '4' of query = 'small house'\n",
      "Loading already existing qs for the method 'initial-query'Computing scores for cluster '5' of query = 'small house'\n",
      "Loading already existing qs for the method 'initial-query'Computing scores for cluster '6' of query = 'small house'\n",
      "Loading already existing qs for the method 'initial-query'Computing scores for cluster '7' of query = 'small house'\n",
      "[ndcg] [W] division by 0 [W]\n",
      "[ndcg] [W] division by 0 [W]\n",
      "Loading already existing qs for the method 'initial-query'Computing scores for cluster '8' of query = 'small house'\n",
      "[ndcg] [W] division by 0 [W]\n",
      "Loading already existing qs for the method 'initial-query'Computing scores for cluster '0' of query = 'horse sleeping'\n",
      "Loading already existing qs for the method 'initial-query'Computing scores for cluster '1' of query = 'horse sleeping'\n",
      "Loading already existing qs for the method 'initial-query'Computing scores for cluster '2' of query = 'horse sleeping'\n",
      "Loading already existing qs for the method 'initial-query'Computing scores for cluster '3' of query = 'horse sleeping'\n",
      "Loading already existing qs for the method 'initial-query'Computing scores for cluster '4' of query = 'horse sleeping'\n",
      "Loading already existing qs for the method 'initial-query'Computing scores for cluster '6' of query = 'horse sleeping'\n",
      "Loading already existing qs for the method 'initial-query'Computing scores for cluster '0' of query = 'cat drinking'\n",
      "Loading already existing qs for the method 'initial-query'Computing scores for cluster '1' of query = 'cat drinking'\n",
      "Loading already existing qs for the method 'initial-query'Computing scores for cluster '2' of query = 'cat drinking'\n",
      "Loading already existing qs for the method 'initial-query'Computing scores for cluster '3' of query = 'cat drinking'\n",
      "Loading already existing qs for the method 'initial-query'Computing scores for cluster '4' of query = 'cat drinking'\n",
      "Loading already existing qs for the method 'initial-query'Computing scores for cluster '5' of query = 'cat drinking'\n",
      "Loading already existing qs for the method 'initial-query'Computing scores for cluster '6' of query = 'cat drinking'\n",
      "Loading already existing qs for the method 'initial-query'Computing scores for cluster '7' of query = 'cat drinking'\n",
      "Loading already existing qs for the method 'initial-query'Computing scores for cluster '8' of query = 'cat drinking'\n",
      "Loading already existing qs for the method 'initial-query'Computing scores for cluster '0' of query = 'factory'\n",
      "Loading already existing qs for the method 'initial-query'Computing scores for cluster '1' of query = 'factory'\n",
      "[ndcg] [W] division by 0 [W]\n",
      "Loading already existing qs for the method 'initial-query'Computing scores for cluster '2' of query = 'factory'\n",
      "[ndcg] [W] division by 0 [W]\n",
      "[ndcg] [W] division by 0 [W]\n",
      "Loading already existing qs for the method 'initial-query'Computing scores for cluster '3' of query = 'factory'\n",
      "Loading already existing qs for the method 'initial-query'Computing scores for cluster '4' of query = 'factory'\n",
      "Loading already existing qs for the method 'initial-query'Computing scores for cluster '5' of query = 'factory'\n",
      "Loading already existing qs for the method 'initial-query'Computing scores for cluster '0' of query = 'chair'\n",
      "Loading already existing qs for the method 'initial-query'Computing scores for cluster '1' of query = 'chair'\n",
      "Loading already existing qs for the method 'initial-query'Computing scores for cluster '2' of query = 'chair'\n",
      "Loading already existing qs for the method 'initial-query'Computing scores for cluster '3' of query = 'chair'\n",
      "Loading already existing qs for the method 'initial-query'Computing scores for cluster '4' of query = 'chair'\n",
      "Loading already existing qs for the method 'initial-query'Computing scores for cluster '5' of query = 'chair'\n",
      "Loading already existing qs for the method 'initial-query'Computing scores for cluster '6' of query = 'chair'\n",
      "Loading already existing qs for the method 'initial-query'Computing scores for cluster '7' of query = 'chair'\n",
      "Loading already existing qs for the method 'initial-query'Computing scores for cluster '0' of query = 'classroom'\n",
      "Loading already existing qs for the method 'initial-query'Computing scores for cluster '1' of query = 'classroom'\n",
      "Loading already existing qs for the method 'initial-query'Computing scores for cluster '2' of query = 'classroom'\n",
      "Loading already existing qs for the method 'initial-query'Computing scores for cluster '0' of query = 'a person cooking'\n",
      "Loading already existing qs for the method 'initial-query'Computing scores for cluster '1' of query = 'a person cooking'\n",
      "Loading already existing qs for the method 'initial-query'Computing scores for cluster '2' of query = 'a person cooking'\n",
      "Loading already existing qs for the method 'initial-query'Computing scores for cluster '3' of query = 'a person cooking'\n",
      "Loading already existing qs for the method 'initial-query'Computing scores for cluster '4' of query = 'a person cooking'\n",
      "Loading already existing qs for the method 'initial-query'Computing scores for cluster '5' of query = 'a person cooking'\n",
      "Loading already existing qs for the method 'initial-query'Computing scores for cluster '6' of query = 'a person cooking'\n",
      "Loading already existing qs for the method 'initial-query'Computing scores for cluster '7' of query = 'a person cooking'\n",
      "Loading already existing qs for the method 'initial-query'Computing scores for cluster '8' of query = 'a person cooking'\n",
      "Loading already existing qs for the method 'initial-query'Computing scores for cluster '9' of query = 'a person cooking'\n",
      "Loading already existing qs for the method 'initial-query'Computing scores for cluster '0' of query = 'kid eating'\n",
      "Loading already existing qs for the method 'initial-query'Computing scores for cluster '1' of query = 'kid eating'\n",
      "Loading already existing qs for the method 'initial-query'Computing scores for cluster '2' of query = 'kid eating'\n",
      "Loading already existing qs for the method 'initial-query'Computing scores for cluster '3' of query = 'kid eating'\n",
      "Loading already existing qs for the method 'initial-query'Computing scores for cluster '4' of query = 'kid eating'\n",
      "Loading already existing qs for the method 'initial-query'Computing scores for cluster '0' of query = 'person with pizza'\n",
      "Loading already existing qs for the method 'initial-query'Computing scores for cluster '1' of query = 'person with pizza'\n",
      "Loading already existing qs for the method 'initial-query'Computing scores for cluster '2' of query = 'person with pizza'\n",
      "Loading already existing qs for the method 'initial-query'Computing scores for cluster '3' of query = 'person with pizza'\n",
      "Loading already existing qs for the method 'initial-query'Computing scores for cluster '4' of query = 'person with pizza'\n",
      "Loading already existing qs for the method 'initial-query'Computing scores for cluster '5' of query = 'person with pizza'\n",
      "Loading already existing qs for the method 'initial-query'Computing scores for cluster '0' of query = 'person with a surf board'\n",
      "Loading already existing qs for the method 'initial-query'Computing scores for cluster '1' of query = 'person with a surf board'\n",
      "Loading already existing qs for the method 'initial-query'Computing scores for cluster '2' of query = 'person with a surf board'\n",
      "Loading already existing qs for the method 'initial-query'Computing scores for cluster '3' of query = 'person with a surf board'\n",
      "Loading already existing qs for the method 'initial-query'Computing scores for cluster '4' of query = 'person with a surf board'\n",
      "[ndcg] [W] division by 0 [W]\n",
      "Loading already existing qs for the method 'initial-query'Computing scores for cluster '5' of query = 'person with a surf board'\n",
      "Loading already existing qs for the method 'initial-query'Computing scores for cluster '6' of query = 'person with a surf board'\n",
      "Loading already existing qs for the method 'initial-query'Computing scores for cluster '7' of query = 'person with a surf board'\n",
      "Loading already existing qs for the method 'initial-query'Computing scores for cluster '8' of query = 'person with a surf board'\n",
      "Loading already existing qs for the method 'initial-query'Computing scores for cluster '9' of query = 'person with a surf board'\n",
      "Loading already existing qs for the method 'initial-query'Computing scores for cluster '0' of query = 'person riding'\n",
      "Loading already existing qs for the method 'initial-query'Computing scores for cluster '1' of query = 'person riding'\n",
      "Loading already existing qs for the method 'initial-query'Computing scores for cluster '2' of query = 'person riding'\n",
      "Loading already existing qs for the method 'initial-query'Computing scores for cluster '3' of query = 'person riding'\n",
      "Loading already existing qs for the method 'initial-query'Computing scores for cluster '4' of query = 'person riding'\n",
      "Loading already existing qs for the method 'initial-query'Computing scores for cluster '5' of query = 'person riding'\n",
      "Loading already existing qs for the method 'initial-query'Computing scores for cluster '6' of query = 'person riding'\n",
      "Loading already existing qs for the method 'initial-query'Computing scores for cluster '7' of query = 'person riding'\n",
      "Loading already existing qs for the method 'initial-query'Computing scores for cluster '8' of query = 'person riding'\n",
      "Loading already existing qs for the method 'initial-query'Computing scores for cluster '0' of query = 'reading a news paper'\n",
      "Loading already existing qs for the method 'initial-query'Computing scores for cluster '2' of query = 'reading a news paper'\n",
      "Loading already existing qs for the method 'initial-query'Computing scores for cluster '3' of query = 'reading a news paper'\n",
      "Loading already existing qs for the method 'initial-query'Computing scores for cluster '4' of query = 'reading a news paper'\n",
      "Loading already existing qs for the method 'initial-query'Computing scores for cluster '6' of query = 'reading a news paper'\n",
      "Loading already existing qs for the method 'initial-query'Computing scores for cluster '0' of query = 'keyboard'\n",
      "Loading already existing qs for the method 'initial-query'Computing scores for cluster '1' of query = 'keyboard'\n",
      "Loading already existing qs for the method 'initial-query'Computing scores for cluster '2' of query = 'keyboard'\n",
      "Loading already existing qs for the method 'initial-query'Computing scores for cluster '3' of query = 'keyboard'\n",
      "Loading already existing qs for the method 'initial-query'Computing scores for cluster '4' of query = 'keyboard'\n",
      "Loading already existing qs for the method 'initial-query'Computing scores for cluster '5' of query = 'keyboard'\n",
      "Loading already existing qs for the method 'initial-query'Computing scores for cluster '6' of query = 'keyboard'\n",
      "Loading already existing qs for the method 'initial-query'Computing scores for cluster '0' of query = 'using a notebook'\n",
      "Loading already existing qs for the method 'initial-query'Computing scores for cluster '1' of query = 'using a notebook'\n",
      "Loading already existing qs for the method 'initial-query'Computing scores for cluster '2' of query = 'using a notebook'\n",
      "Loading already existing qs for the method 'initial-query'Computing scores for cluster '3' of query = 'using a notebook'\n",
      "Loading already existing qs for the method 'initial-query'Computing scores for cluster '4' of query = 'using a notebook'\n",
      "Loading already existing qs for the method 'initial-query'Computing scores for cluster '5' of query = 'using a notebook'\n",
      "Loading already existing qs for the method 'initial-query'Computing scores for cluster '6' of query = 'using a notebook'\n",
      "Loading already existing qs for the method 'initial-query'Computing scores for cluster '8' of query = 'using a notebook'\n",
      "Loading already existing qs for the method 'initial-query'Computing scores for cluster '0' of query = 'running water'\n",
      "Loading already existing qs for the method 'initial-query'Computing scores for cluster '1' of query = 'running water'\n",
      "Loading already existing qs for the method 'initial-query'Computing scores for cluster '2' of query = 'running water'\n",
      "Loading already existing qs for the method 'initial-query'Computing scores for cluster '3' of query = 'running water'\n",
      "Loading already existing qs for the method 'initial-query'Computing scores for cluster '4' of query = 'running water'\n",
      "Loading already existing qs for the method 'initial-query'Computing scores for cluster '0' of query = 'a cat proud'\n",
      "Loading already existing qs for the method 'initial-query'Computing scores for cluster '1' of query = 'a cat proud'\n",
      "Loading already existing qs for the method 'initial-query'Computing scores for cluster '2' of query = 'a cat proud'\n",
      "Loading already existing qs for the method 'initial-query'Computing scores for cluster '3' of query = 'a cat proud'\n",
      "Loading already existing qs for the method 'initial-query'Computing scores for cluster '4' of query = 'a cat proud'\n",
      "Loading already existing qs for the method 'initial-query'Computing scores for cluster '0' of query = 'dog in the water'\n",
      "Loading already existing qs for the method 'initial-query'Computing scores for cluster '1' of query = 'dog in the water'\n",
      "Loading already existing qs for the method 'initial-query'Computing scores for cluster '2' of query = 'dog in the water'\n",
      "Loading already existing qs for the method 'initial-query'Computing scores for cluster '3' of query = 'dog in the water'\n",
      "Loading already existing qs for the method 'initial-query'Computing scores for cluster '4' of query = 'dog in the water'\n",
      "Loading already existing qs for the method 'initial-query'Computing scores for cluster '0' of query = 'riding a motorcycle'\n",
      "Loading already existing qs for the method 'initial-query'Computing scores for cluster '1' of query = 'riding a motorcycle'\n",
      "Loading already existing qs for the method 'initial-query'Computing scores for cluster '2' of query = 'riding a motorcycle'\n",
      "Loading already existing qs for the method 'initial-query'Computing scores for cluster '3' of query = 'riding a motorcycle'\n",
      "Loading already existing qs for the method 'initial-query'Computing scores for cluster '4' of query = 'riding a motorcycle'\n",
      "Loading already existing qs for the method 'initial-query'Computing scores for cluster '5' of query = 'riding a motorcycle'\n",
      "Loading already existing qs for the method 'initial-query'Computing scores for cluster '0' of query = 'flying a kite'\n",
      "Loading already existing qs for the method 'initial-query'Computing scores for cluster '1' of query = 'flying a kite'\n",
      "Loading already existing qs for the method 'initial-query'Computing scores for cluster '2' of query = 'flying a kite'\n",
      "Loading already existing qs for the method 'initial-query'Computing scores for cluster '3' of query = 'flying a kite'\n",
      "Loading already existing qs for the method 'initial-query'Computing scores for cluster '0' of query = 'marketplace'\n",
      "Loading already existing qs for the method 'initial-query'Computing scores for cluster '1' of query = 'marketplace'\n",
      "Loading already existing qs for the method 'initial-query'Computing scores for cluster '2' of query = 'marketplace'\n",
      "Loading already existing qs for the method 'initial-query'Computing scores for cluster '3' of query = 'marketplace'\n",
      "Loading already existing qs for the method 'initial-query'Computing scores for cluster '4' of query = 'marketplace'\n",
      "Loading already existing qs for the method 'initial-query'Computing scores for cluster '0' of query = 'kitchen appliances'\n",
      "Loading already existing qs for the method 'initial-query'Computing scores for cluster '1' of query = 'kitchen appliances'\n",
      "Loading already existing qs for the method 'initial-query'Computing scores for cluster '2' of query = 'kitchen appliances'\n",
      "Loading already existing qs for the method 'initial-query'Computing scores for cluster '3' of query = 'kitchen appliances'\n",
      "Loading already existing qs for the method 'initial-query'Computing scores for cluster '4' of query = 'kitchen appliances'\n",
      "Loading already existing qs for the method 'initial-query'Computing scores for cluster '0' of query = 'a photo of a tree'\n",
      "Loading already existing qs for the method 'initial-query'Computing scores for cluster '1' of query = 'a photo of a tree'\n",
      "Loading already existing qs for the method 'initial-query'Computing scores for cluster '2' of query = 'a photo of a tree'\n",
      "Loading already existing qs for the method 'initial-query'Computing scores for cluster '3' of query = 'a photo of a tree'\n"
     ]
    }
   ],
   "source": [
    "ret_df = croQS.get_query_suggestions_dataframe_all_queries(qe_dict)\n",
    "\n",
    "ret_df"
   ]
  },
  {
   "cell_type": "code",
   "execution_count": 8,
   "metadata": {},
   "outputs": [],
   "source": [
    "#croQS.evaluate(methods_tuples)"
   ]
  },
  {
   "cell_type": "code",
   "execution_count": 9,
   "metadata": {},
   "outputs": [
    {
     "data": {
      "text/plain": [
       "['0', '1', '2', '3']"
      ]
     },
     "execution_count": 9,
     "metadata": {},
     "output_type": "execute_result"
    }
   ],
   "source": [
    "qq = 'person at the phone'\n",
    "cc = '3'\n",
    "\n",
    "croQS._list_clusters_labels(qq)"
   ]
  },
  {
   "cell_type": "code",
   "execution_count": 10,
   "metadata": {},
   "outputs": [
    {
     "data": {
      "text/plain": [
       "{'suggested-queries': {'initial-query': {'query': 'person at the phone',\n",
       "   'scores': {'jaccard-q': 1.0,\n",
       "    'clip-similarity-cluster': 0.294,\n",
       "    'clip-similarity-q': 1.0,\n",
       "    'NDCG@10': 0.23365080824310536,\n",
       "    'MAP': 0.2868582289545055,\n",
       "    'Recall-Open-Set-@100': 0.5128205128205128,\n",
       "    'Recall-Closed-Set': 0.28205128205128205}},\n",
       "  'human': {'query': 'woman talking on mobile phone',\n",
       "   'scores': {'jaccard-q': 0.2,\n",
       "    'clip-similarity-cluster': 0.317,\n",
       "    'clip-similarity-q': 0.877,\n",
       "    'NDCG@10': 0.39639187290150935,\n",
       "    'MAP': 0.3438731991303363,\n",
       "    'Recall-Open-Set-@100': 0.5128205128205128,\n",
       "    'Recall-Closed-Set': 0.5897435897435898}}}}"
      ]
     },
     "execution_count": 10,
     "metadata": {},
     "output_type": "execute_result"
    }
   ],
   "source": [
    "croQS.suggested_queries[qq][cc]"
   ]
  },
  {
   "cell_type": "code",
   "execution_count": 11,
   "metadata": {},
   "outputs": [
    {
     "name": "stdout",
     "output_type": "stream",
     "text": [
      "29 ZP\n"
     ]
    }
   ],
   "source": [
    "for idx, el in enumerate(croQS.list_queries()):\n",
    "    #print(f\"\\r{el}\", end=\"\")\n",
    "    if el == qq:\n",
    "        print(idx, \"ZP\")\n",
    "    if len(croQS._list_clusters_labels(el)) == 0:\n",
    "        print(f\"the q '{el}' ({idx=}) has no cluster\")"
   ]
  }
 ],
 "metadata": {
  "kernelspec": {
   "display_name": "Python 3",
   "language": "python",
   "name": "python3"
  },
  "language_info": {
   "codemirror_mode": {
    "name": "ipython",
    "version": 3
   },
   "file_extension": ".py",
   "mimetype": "text/x-python",
   "name": "python",
   "nbconvert_exporter": "python",
   "pygments_lexer": "ipython3",
   "version": "3.10.6"
  }
 },
 "nbformat": 4,
 "nbformat_minor": 2
}
